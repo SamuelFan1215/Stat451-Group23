{
 "cells": [
  {
   "cell_type": "code",
   "execution_count": 1,
   "id": "efe7d0ae",
   "metadata": {},
   "outputs": [],
   "source": [
    "import pandas as pd\n",
    "import numpy as np\n",
    "from sklearn.feature_extraction.text import TfidfVectorizer\n",
    "from sklearn.feature_extraction.text import CountVectorizer\n",
    "\n",
    "Link_Review = pd.read_csv(\"Cleaned_Link_Review.csv\")"
   ]
  },
  {
   "cell_type": "code",
   "execution_count": 2,
   "id": "998eba7f",
   "metadata": {},
   "outputs": [
    {
     "name": "stdout",
     "output_type": "stream",
     "text": [
      "X_train.shape: (36596, 1)\n",
      "y_train.shape: (36596,)\n",
      "X_test.shape: (9150, 1)\n",
      "y_test.shape: (9150,)\n",
      "Train/Test sizes: 36596 9150\n"
     ]
    }
   ],
   "source": [
    "from sklearn.model_selection import train_test_split\n",
    "X_data = Link_Review[['review_content']]\n",
    "y_data = Link_Review['Sentiment'].values\n",
    "\n",
    "X_train, X_test, y_train, y_test = train_test_split(X_data, y_data, \n",
    "                                                    test_size = 0.2, \n",
    "                                                    random_state=1, \n",
    "                                                    stratify = y_data)\n",
    "print('X_train.shape:', X_train.shape)\n",
    "print('y_train.shape:', y_train.shape)\n",
    "print('X_test.shape:', X_test.shape)\n",
    "print('y_test.shape:', y_test.shape)\n",
    "print('Train/Test sizes:', y_train.shape[0], y_test.shape[0])"
   ]
  },
  {
   "cell_type": "code",
   "execution_count": 3,
   "id": "9bfcc835",
   "metadata": {},
   "outputs": [],
   "source": [
    "# count vectorizer:\n",
    "from sklearn.feature_extraction.text import CountVectorizer\n",
    "vec = CountVectorizer()\n",
    "# vectorize X_train and X_test\n",
    "train_matrix = vec.fit_transform(X_train['review_content'].values.astype('U'))\n",
    "test_matrix = vec.transform(X_test['review_content'].values.astype('U'))\n",
    "# vectorize X_train_sub and X_valid\n",
    "# train_sub_matrix = vec.fit_transform(X_train_sub['review_content'])\n",
    "# valid_matrix = vec.transform(X_valid['review_content'])"
   ]
  },
  {
   "cell_type": "code",
   "execution_count": 4,
   "id": "e6279dfb",
   "metadata": {},
   "outputs": [
    {
     "name": "stdout",
     "output_type": "stream",
     "text": [
      "(36596, 32922)\n",
      "(36596,)\n",
      "(9150, 32922)\n",
      "(9150,)\n"
     ]
    }
   ],
   "source": [
    "X_train = train_matrix\n",
    "X_test = test_matrix\n",
    "y_train = y_train.astype('int')\n",
    "y_test = y_test.astype('int')\n",
    "# X_train_sub = train_sub_matrix\n",
    "# X_valid = valid_matrix\n",
    "# y_train_sub = y_train_sub.astype('int')\n",
    "# y_valid = y_valid.astype('int')\n",
    "\n",
    "# print dimensions\n",
    "print(X_train.shape)\n",
    "print(y_train.shape)\n",
    "print(X_test.shape)\n",
    "print(y_test.shape)\n",
    "\n",
    "# print(X_train_sub.shape)\n",
    "# print(y_train_sub.shape)\n",
    "# print(X_valid.shape)\n",
    "# print(y_valid.shape)"
   ]
  },
  {
   "cell_type": "code",
   "execution_count": 5,
   "id": "8af923cd",
   "metadata": {},
   "outputs": [
    {
     "name": "stderr",
     "output_type": "stream",
     "text": [
      "C:\\Users\\admin\\AppData\\Local\\Programs\\Python\\Python39\\lib\\site-packages\\sklearn\\experimental\\enable_hist_gradient_boosting.py:16: UserWarning: Since version 1.0, it is not needed to import enable_hist_gradient_boosting anymore. HistGradientBoostingClassifier and HistGradientBoostingRegressor are now stable and can be normally imported from sklearn.ensemble.\n",
      "  warnings.warn(\n"
     ]
    }
   ],
   "source": [
    "from sklearn.neighbors import KNeighborsClassifier\n",
    "from sklearn import model_selection\n",
    "from sklearn.linear_model import LogisticRegression\n",
    "from sklearn.neighbors import KNeighborsClassifier\n",
    "from sklearn.ensemble import AdaBoostClassifier\n",
    "from sklearn.ensemble import RandomForestClassifier\n",
    "from sklearn.tree import DecisionTreeClassifier\n",
    "from sklearn.experimental import enable_hist_gradient_boosting\n",
    "from sklearn.ensemble import HistGradientBoostingClassifier\n",
    "from mlxtend.classifier import StackingClassifier\n",
    "from mlxtend.classifier import StackingCVClassifier"
   ]
  },
  {
   "cell_type": "code",
   "execution_count": 6,
   "id": "0606230a",
   "metadata": {},
   "outputs": [
    {
     "data": {
      "text/plain": [
       "StackingCVClassifier(classifiers=[RandomForestClassifier(class_weight='balanced',\n",
       "                                                         criterion='entropy',\n",
       "                                                         n_estimators=150,\n",
       "                                                         random_state=1)],\n",
       "                     cv=10, drop_proba_col='last',\n",
       "                     meta_classifier=LogisticRegression(max_iter=10000,\n",
       "                                                        random_state=1),\n",
       "                     random_state=1, use_probas=True)"
      ]
     },
     "execution_count": 6,
     "metadata": {},
     "output_type": "execute_result"
    }
   ],
   "source": [
    "# RF (grid_search = 150) & LR\n",
    "from mlxtend.classifier import StackingClassifier\n",
    "from sklearn.ensemble import RandomForestClassifier\n",
    "from sklearn.model_selection import GridSearchCV\n",
    "from sklearn.linear_model import LogisticRegression\n",
    "from sklearn.metrics import accuracy_score\n",
    "from sklearn.model_selection import GridSearchCV\n",
    "\n",
    "RF1 = RandomForestClassifier(n_estimators = 150, class_weight = \"balanced\", random_state = 1, max_depth = None, \n",
    "                             criterion = 'entropy')\n",
    "\n",
    "LR1 = LogisticRegression(max_iter = 10000, random_state = 1)\n",
    "\n",
    "SC1 = StackingCVClassifier(classifiers=[RF1], \n",
    "                            meta_classifier=LR1, \n",
    "                            use_probas=True, # changed\n",
    "                            drop_proba_col='last',\n",
    "                            #use_features_in_secondary=True,\n",
    "                            cv=10,\n",
    "                            random_state=1)\n",
    "\n",
    "SC1.fit(X_train, y_train)"
   ]
  },
  {
   "cell_type": "code",
   "execution_count": 7,
   "id": "50856239",
   "metadata": {},
   "outputs": [
    {
     "name": "stdout",
     "output_type": "stream",
     "text": [
      "Training Accuracy: 1.00\n",
      "Test Accuracy: 0.82\n"
     ]
    }
   ],
   "source": [
    "print(\"Training Accuracy: %0.2f\" % SC1.score(X_train, y_train))\n",
    "print(\"Test Accuracy: %0.2f\" % SC1.score(X_test, y_test))"
   ]
  },
  {
   "cell_type": "code",
   "execution_count": 8,
   "id": "5c237fd4",
   "metadata": {},
   "outputs": [
    {
     "name": "stdout",
     "output_type": "stream",
     "text": [
      "0.8126837221422507 0.8284091740326127\n"
     ]
    }
   ],
   "source": [
    "#mean and 95% CI: \n",
    "acc_test_SC1 = SC1.score(X_test, y_test)\n",
    "ci_test_SC1 = 1.96 * np.sqrt((acc_test_SC1*(1-acc_test_SC1)) / y_test.shape[0])\n",
    "\n",
    "test_SC1_lower = acc_test_SC1-ci_test_SC1\n",
    "test_SC1_upper = acc_test_SC1+ci_test_SC1\n",
    "\n",
    "print(test_SC1_lower, test_SC1_upper)"
   ]
  },
  {
   "cell_type": "code",
   "execution_count": 9,
   "id": "a8f77580",
   "metadata": {},
   "outputs": [
    {
     "data": {
      "image/png": "[encoded data removed]",
      "text/plain": [
       "<Figure size 432x288 with 1 Axes>"
      ]
     },
     "metadata": {},
     "output_type": "display_data"
    }
   ],
   "source": [
    "import numpy as np\n",
    "import matplotlib.pyplot as plt\n",
    "\n",
    "pred_train, pred_test = [], []\n",
    "\n",
    "intervals = np.arange(500, X_train.shape[0] + 1, 2000)\n",
    "\n",
    "for i in intervals:\n",
    "    SC1.fit(X_train[:i], y_train[:i])\n",
    "    p_train = SC1.score(X_train[:i], y_train[:i])\n",
    "    p_test = SC1.score(X_test, y_test)\n",
    "    pred_train.append(p_train)\n",
    "    pred_test.append(p_test)\n",
    "    \n",
    "    \n",
    "with plt.style.context(('fivethirtyeight')):\n",
    "    plt.plot(intervals, pred_train, marker='o', label='Train')\n",
    "    plt.plot(intervals, pred_test, marker='s', label='Test')\n",
    "    plt.legend(loc='best', numpoints=1)\n",
    "    plt.xlim([430, X_train.shape[0] + X_test.shape[0]])\n",
    "    plt.axvspan(X_train.shape[0], \n",
    "                X_train.shape[0] + X_test.shape[0], \n",
    "                alpha=0.2, \n",
    "                color='steelblue')\n",
    "    plt.ylim([0.0, 1.0])\n",
    "    plt.xlabel('Training Set Size')\n",
    "    plt.ylabel('Accuracy')\n",
    "    plt.tight_layout()\n",
    "    #plt.savefig('figures/model-eval-mnist_0.svg')"
   ]
  },
  {
   "cell_type": "markdown",
   "id": "4f0470d7",
   "metadata": {},
   "source": [
    "#OOB Bootstrap on SC1\n",
    "from mlxtend.evaluate import bootstrap_point632_score\n",
    "import numpy as np\n",
    "\n",
    "# Compute Out-of-bag Bootstrap\n",
    "scores_OOB_SC1 = bootstrap_point632_score(SC1.score, X_train, y_train, method = 'oob', random_seed=1, n_splits=200) # YOUR CODE\n",
    "\n",
    "# Compute accuracy (average over the bootstrap rounds)\n",
    "acc_OOB_SC1 = np.mean(scores_OOB_SC1) # YOUR CODE\n",
    "print('Accuracy: %.2f%%' % (100*acc_OOB_SC1))\n",
    "\n",
    "# Compute the 95% confidence interval around the accuracy estimate\n",
    "lower_OOB_SC1 = np.percentile(scores_OOB_SC1, 2.5) # YOUR CODE\n",
    "upper_OOB_SC1 = np.percentile(scores_OOB_SC1, 97.5)# YOUR CODE\n",
    "print('95%% Confidence interval: [%.2f, %.2f]' % (lower_OOB_SC1, upper_OOB_SC1))"
   ]
  },
  {
   "cell_type": "markdown",
   "id": "74025ebe",
   "metadata": {},
   "source": [
    "#.632 Bootstrap on SC1\n",
    "# Compute .632 Bootstrap\n",
    "scores_632_SC1 = bootstrap_point632_score(SC1.score, X_train, y_train, method=\".632\", random_seed=1, n_splits=200)# YOUR CODE\n",
    "\n",
    "\n",
    "# Compute accuracy (average over the bootstrap rounds)\n",
    "acc_632_SC1 = np.mean(scores_632_SC1) # YOUR CODE\n",
    "print('Accuracy: %.2f%%' % (100*acc_632_SC1))\n",
    "\n",
    "# Compute the 95% confidence interval around the accuracy estimate\n",
    "lower_632_SC1 = np.percentile(scores_632_SC1, 2.5)# YOUR CODE\n",
    "upper_632_SC1 = np.percentile(scores_632_SC1, 97.5)# YOUR CODE\n",
    "print('95%% Confidence interval: [%.2f, %.2f]' % (lower_632_SC1, upper_632_SC1))"
   ]
  },
  {
   "cell_type": "code",
   "execution_count": 13,
   "id": "e5788284",
   "metadata": {},
   "outputs": [
    {
     "name": "stdout",
     "output_type": "stream",
     "text": [
      "[[1496 1124]\n",
      " [ 518 6012]]\n"
     ]
    }
   ],
   "source": [
    "#Confusion Matrix of Stacking CV Classifier\n",
    "from sklearn.preprocessing import StandardScaler\n",
    "from mlxtend.classifier import StackingCVClassifier\n",
    "from sklearn.pipeline import make_pipeline\n",
    "\n",
    "from mlxtend.evaluate import confusion_matrix\n",
    "#or\n",
    "#from sklearn.metrics import confusion_matrix\n",
    "\n",
    "pipe_knn = make_pipeline(StandardScaler(with_mean=False),\n",
    "                         SC1)\n",
    "\n",
    "pipe_knn.fit(X_train, y_train)\n",
    "\n",
    "y_pred = pipe_knn.predict(X_test)\n",
    "\n",
    "confmat = confusion_matrix(y_test, y_pred)\n",
    "\n",
    "print(confmat)"
   ]
  },
  {
   "cell_type": "code",
   "execution_count": 14,
   "id": "73d95399",
   "metadata": {},
   "outputs": [
    {
     "data": {
      "image/png": "[encoded data removed]",
      "text/plain": [
       "<Figure size 216x216 with 2 Axes>"
      ]
     },
     "metadata": {
      "needs_background": "light"
     },
     "output_type": "display_data"
    }
   ],
   "source": [
    "from mlxtend.plotting import plot_confusion_matrix\n",
    "import matplotlib.pyplot as plt\n",
    "\n",
    "\n",
    "fig, ax = plot_confusion_matrix(conf_mat=confmat,\n",
    "                                show_absolute=True,\n",
    "                                show_normed=True,\n",
    "                                colorbar=True,\n",
    "                                figsize=(3, 3))\n",
    "plt.show()\n",
    "#n = 9150"
   ]
  },
  {
   "cell_type": "code",
   "execution_count": 16,
   "id": "92a9bc7e",
   "metadata": {},
   "outputs": [
    {
     "data": {
      "image/png": "[encoded data removed]",
      "text/plain": [
       "<Figure size 576x144 with 1 Axes>"
      ]
     },
     "metadata": {
      "needs_background": "light"
     },
     "output_type": "display_data"
    }
   ],
   "source": [
    "#Summary\n",
    "\n",
    "labels = [\n",
    "    \"Stacking CV Classifier sample CI (test set, no bootstrap)\"\n",
    "]\n",
    "\n",
    "mean = [\n",
    "    acc_test_SC1\n",
    "]\n",
    "\n",
    "lower_error = [\n",
    "    test_SC1_lower\n",
    "]\n",
    "\n",
    "upper_error = [\n",
    "    test_SC1_upper\n",
    "]\n",
    "\n",
    "\n",
    "asymmetric_error = [np.array(mean) - np.array(lower_error), \n",
    "                    np.array(upper_error) - np.array(mean)]\n",
    "\n",
    "\n",
    "fig, ax = plt.subplots(figsize=(8, 2))\n",
    "ax.errorbar(mean, np.arange(len(mean)), xerr=asymmetric_error, fmt='o')\n",
    "#ax.set_xlim([0.86, 1.0])\n",
    "ax.set_yticks(np.arange(len(mean)))\n",
    "ax.set_yticklabels(labels)\n",
    "ax.set_xlabel('Prediction Accuracy')\n",
    "ax.set_title('95% confidence intervals')\n",
    "plt.tight_layout()\n",
    "plt.savefig('CI_mnist.pdf')\n",
    "plt.show()"
   ]
  }
 ],
 "metadata": {
  "kernelspec": {
   "display_name": "Python 3 (ipykernel)",
   "language": "python",
   "name": "python3"
  },
  "language_info": {
   "codemirror_mode": {
    "name": "ipython",
    "version": 3
   },
   "file_extension": ".py",
   "mimetype": "text/x-python",
   "name": "python",
   "nbconvert_exporter": "python",
   "pygments_lexer": "ipython3",
   "version": "3.9.7"
  }
 },
 "nbformat": 4,
 "nbformat_minor": 5
}
