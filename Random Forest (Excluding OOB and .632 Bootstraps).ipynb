{
 "cells": [
  {
   "cell_type": "code",
   "execution_count": 1,
   "id": "567abcf1",
   "metadata": {},
   "outputs": [],
   "source": [
    "import pandas as pd\n",
    "import numpy as np\n",
    "from sklearn.feature_extraction.text import TfidfVectorizer\n",
    "from sklearn.feature_extraction.text import CountVectorizer\n",
    "\n",
    "Link_Review = pd.read_csv(\"Cleaned_Link_Review.csv\")"
   ]
  },
  {
   "cell_type": "code",
   "execution_count": 2,
   "id": "de60ba1f",
   "metadata": {},
   "outputs": [
    {
     "name": "stdout",
     "output_type": "stream",
     "text": [
      "X_train.shape: (36596, 1)\n",
      "y_train.shape: (36596,)\n",
      "X_test.shape: (9150, 1)\n",
      "y_test.shape: (9150,)\n",
      "Train/Test sizes: 36596 9150\n"
     ]
    }
   ],
   "source": [
    "from sklearn.model_selection import train_test_split\n",
    "X_data = Link_Review[['review_content']]\n",
    "y_data = Link_Review['Sentiment'].values\n",
    "\n",
    "X_train, X_test, y_train, y_test = train_test_split(X_data, y_data, \n",
    "                                                    test_size = 0.2, \n",
    "                                                    random_state=1, \n",
    "                                                    stratify = y_data)\n",
    "print('X_train.shape:', X_train.shape)\n",
    "print('y_train.shape:', y_train.shape)\n",
    "print('X_test.shape:', X_test.shape)\n",
    "print('y_test.shape:', y_test.shape)\n",
    "print('Train/Test sizes:', y_train.shape[0], y_test.shape[0])"
   ]
  },
  {
   "cell_type": "code",
   "execution_count": 3,
   "id": "58b7c313",
   "metadata": {},
   "outputs": [],
   "source": [
    "# count vectorizer:\n",
    "from sklearn.feature_extraction.text import CountVectorizer\n",
    "vec = CountVectorizer()\n",
    "# vectorize X_train and X_test\n",
    "train_matrix = vec.fit_transform(X_train['review_content'].values.astype('U'))\n",
    "test_matrix = vec.transform(X_test['review_content'].values.astype('U'))\n",
    "# vectorize X_train_sub and X_valid\n",
    "# train_sub_matrix = vec.fit_transform(X_train_sub['review_content'])\n",
    "# valid_matrix = vec.transform(X_valid['review_content'])"
   ]
  },
  {
   "cell_type": "code",
   "execution_count": 4,
   "id": "69dec70b",
   "metadata": {},
   "outputs": [
    {
     "name": "stdout",
     "output_type": "stream",
     "text": [
      "(36596, 32922)\n",
      "(36596,)\n",
      "(9150, 32922)\n",
      "(9150,)\n"
     ]
    }
   ],
   "source": [
    "X_train = train_matrix\n",
    "X_test = test_matrix\n",
    "y_train = y_train.astype('int')\n",
    "y_test = y_test.astype('int')\n",
    "# X_train_sub = train_sub_matrix\n",
    "# X_valid = valid_matrix\n",
    "# y_train_sub = y_train_sub.astype('int')\n",
    "# y_valid = y_valid.astype('int')\n",
    "\n",
    "# print dimensions\n",
    "print(X_train.shape)\n",
    "print(y_train.shape)\n",
    "print(X_test.shape)\n",
    "print(y_test.shape)\n",
    "\n",
    "# print(X_train_sub.shape)\n",
    "# print(y_train_sub.shape)\n",
    "# print(X_valid.shape)\n",
    "# print(y_valid.shape)"
   ]
  },
  {
   "cell_type": "code",
   "execution_count": 5,
   "id": "3a9984a0",
   "metadata": {},
   "outputs": [
    {
     "name": "stderr",
     "output_type": "stream",
     "text": [
      "C:\\Users\\admin\\AppData\\Local\\Programs\\Python\\Python39\\lib\\site-packages\\sklearn\\experimental\\enable_hist_gradient_boosting.py:16: UserWarning: Since version 1.0, it is not needed to import enable_hist_gradient_boosting anymore. HistGradientBoostingClassifier and HistGradientBoostingRegressor are now stable and can be normally imported from sklearn.ensemble.\n",
      "  warnings.warn(\n"
     ]
    }
   ],
   "source": [
    "from sklearn.neighbors import KNeighborsClassifier\n",
    "from sklearn import model_selection\n",
    "from sklearn.linear_model import LogisticRegression\n",
    "from sklearn.neighbors import KNeighborsClassifier\n",
    "from sklearn.ensemble import AdaBoostClassifier\n",
    "from sklearn.ensemble import RandomForestClassifier\n",
    "from sklearn.tree import DecisionTreeClassifier\n",
    "from sklearn.experimental import enable_hist_gradient_boosting\n",
    "from sklearn.ensemble import HistGradientBoostingClassifier\n",
    "from mlxtend.classifier import StackingClassifier\n",
    "from mlxtend.classifier import StackingCVClassifier"
   ]
  },
  {
   "cell_type": "code",
   "execution_count": 6,
   "id": "563c3abc",
   "metadata": {},
   "outputs": [
    {
     "data": {
      "text/plain": [
       "GridSearchCV(cv=10,\n",
       "             estimator=RandomForestClassifier(class_weight='balanced',\n",
       "                                              random_state=1),\n",
       "             n_jobs=-1,\n",
       "             param_grid={'criterion': ['gini', 'entropy'],\n",
       "                         'max_depth': [1, 2, 3, 4, 5, 6, 7, 8, 9, 10, None]},\n",
       "             scoring='accuracy')"
      ]
     },
     "execution_count": 6,
     "metadata": {},
     "output_type": "execute_result"
    }
   ],
   "source": [
    "# Random Forest\n",
    "from sklearn.ensemble import RandomForestClassifier\n",
    "from sklearn.model_selection import GridSearchCV\n",
    "\n",
    "RF1 = RandomForestClassifier(class_weight = \"balanced\", random_state = 1)\n",
    "\n",
    "param_grid_RF1 = {\"max_depth\":[1,2,3,4,5,6,7,8,9,10,None],\n",
    "                  'criterion':['gini','entropy']}\n",
    "gs_RF1 = GridSearchCV(estimator = RF1,\n",
    "                      param_grid = param_grid_RF1,\n",
    "                      scoring='accuracy',\n",
    "                      refit=True,\n",
    "                      n_jobs=-1,\n",
    "                      cv=10)\n",
    "gs_RF1.fit(X_train,y_train)"
   ]
  },
  {
   "cell_type": "code",
   "execution_count": 7,
   "id": "52e9b2e6",
   "metadata": {},
   "outputs": [
    {
     "name": "stdout",
     "output_type": "stream",
     "text": [
      "Best Accuracy: 81.36%\n",
      "Best Params: {'criterion': 'entropy', 'max_depth': None}\n",
      "Test Accuracy: 81.95%\n"
     ]
    }
   ],
   "source": [
    "print('Best Accuracy: %.2f%%' % (gs_RF1.best_score_*100))\n",
    "print('Best Params: %s' % gs_RF1.best_params_)\n",
    "print('Test Accuracy: %.2f%%' % (gs_RF1.best_estimator_.score(X_test, y_test) * 100)) # YOUR CODE"
   ]
  },
  {
   "cell_type": "code",
   "execution_count": 8,
   "id": "754d1e4b",
   "metadata": {},
   "outputs": [
    {
     "name": "stdout",
     "output_type": "stream",
     "text": [
      "0.8115721736853412 0.8273349301397954\n"
     ]
    }
   ],
   "source": [
    "#mean and 95% CI: \n",
    "acc_test_RF1 = gs_RF1.best_estimator_.score(X_test, y_test)\n",
    "ci_test_RF1 = 1.96 * np.sqrt((acc_test_RF1*(1-acc_test_RF1)) / y_test.shape[0])\n",
    "\n",
    "test_RF1_lower = acc_test_RF1-ci_test_RF1\n",
    "test_RF1_upper = acc_test_RF1+ci_test_RF1\n",
    "\n",
    "print(test_RF1_lower, test_RF1_upper)"
   ]
  },
  {
   "cell_type": "code",
   "execution_count": 9,
   "id": "e2b50ff6",
   "metadata": {},
   "outputs": [
    {
     "data": {
      "image/png": "[encoded data removed]",
      "text/plain": [
       "<Figure size 432x288 with 1 Axes>"
      ]
     },
     "metadata": {},
     "output_type": "display_data"
    }
   ],
   "source": [
    "import numpy as np\n",
    "import matplotlib.pyplot as plt\n",
    "\n",
    "pred_train, pred_test = [], []\n",
    "\n",
    "intervals = np.arange(500, X_train.shape[0] + 1, 2000)\n",
    "\n",
    "for i in intervals:\n",
    "    RF1.fit(X_train[:i], y_train[:i])\n",
    "    p_train = RF1.score(X_train[:i], y_train[:i])\n",
    "    p_test = RF1.score(X_test, y_test)\n",
    "    pred_train.append(p_train)\n",
    "    pred_test.append(p_test)\n",
    "    \n",
    "    \n",
    "with plt.style.context(('fivethirtyeight')):\n",
    "    plt.plot(intervals, pred_train, marker='o', label='Train')\n",
    "    plt.plot(intervals, pred_test, marker='s', label='Test')\n",
    "    plt.legend(loc='best', numpoints=1)\n",
    "    plt.xlim([430, X_train.shape[0] + X_test.shape[0]])\n",
    "    plt.axvspan(X_train.shape[0], \n",
    "                X_train.shape[0] + X_test.shape[0], \n",
    "                alpha=0.2, \n",
    "                color='steelblue')\n",
    "    plt.ylim([0.0, 1.0])\n",
    "    plt.xlabel('Training Set Size')\n",
    "    plt.ylabel('Accuracy')\n",
    "    plt.tight_layout()\n",
    "    #plt.savefig('figures/model-eval-mnist_0.svg')"
   ]
  },
  {
   "cell_type": "code",
   "execution_count": 10,
   "id": "7e9081ae",
   "metadata": {},
   "outputs": [
    {
     "name": "stdout",
     "output_type": "stream",
     "text": [
      "[[1611 1009]\n",
      " [ 725 5805]]\n"
     ]
    }
   ],
   "source": [
    "#Confusion Matrix of Random Forest with criterion = entropy and max_depth = 150\n",
    "from sklearn.preprocessing import StandardScaler\n",
    "from sklearn.ensemble import RandomForestClassifier\n",
    "from sklearn.pipeline import make_pipeline\n",
    "\n",
    "from mlxtend.evaluate import confusion_matrix\n",
    "#or\n",
    "#from sklearn.metrics import confusion_matrix\n",
    "\n",
    "pipe_knn = make_pipeline(StandardScaler(with_mean=False),\n",
    "                         RandomForestClassifier(class_weight = \"balanced\", \n",
    "                                                criterion = 'entropy',\n",
    "                                                max_depth = 150,\n",
    "                                                random_state = 1))\n",
    "\n",
    "pipe_knn.fit(X_train, y_train)\n",
    "\n",
    "y_pred = pipe_knn.predict(X_test)\n",
    "\n",
    "confmat = confusion_matrix(y_test, y_pred)\n",
    "\n",
    "print(confmat)"
   ]
  },
  {
   "cell_type": "code",
   "execution_count": 11,
   "id": "d1505001",
   "metadata": {},
   "outputs": [
    {
     "data": {
      "image/png": "[encoded data removed]",
      "text/plain": [
       "<Figure size 216x216 with 2 Axes>"
      ]
     },
     "metadata": {
      "needs_background": "light"
     },
     "output_type": "display_data"
    }
   ],
   "source": [
    "from mlxtend.plotting import plot_confusion_matrix\n",
    "import matplotlib.pyplot as plt\n",
    "\n",
    "\n",
    "fig, ax = plot_confusion_matrix(conf_mat=confmat,\n",
    "                                show_absolute=True,\n",
    "                                show_normed=True,\n",
    "                                colorbar=True,\n",
    "                                figsize=(3, 3))\n",
    "plt.show()\n",
    "#n = 9150"
   ]
  },
  {
   "cell_type": "code",
   "execution_count": 12,
   "id": "a335ef67",
   "metadata": {},
   "outputs": [
    {
     "data": {
      "image/png": "[encoded data removed]",
      "text/plain": [
       "<Figure size 576x144 with 1 Axes>"
      ]
     },
     "metadata": {
      "needs_background": "light"
     },
     "output_type": "display_data"
    }
   ],
   "source": [
    "#Summary\n",
    "\n",
    "labels = [\n",
    "    \"Random Forest sample CI (test set, no bootstrap)\"\n",
    "]\n",
    "\n",
    "mean = [\n",
    "    acc_test_RF1\n",
    "]\n",
    "\n",
    "lower_error = [\n",
    "    test_RF1_lower\n",
    "]\n",
    "\n",
    "upper_error = [\n",
    "    test_RF1_upper\n",
    "]\n",
    "\n",
    "\n",
    "asymmetric_error = [np.array(mean) - np.array(lower_error), \n",
    "                    np.array(upper_error) - np.array(mean)]\n",
    "\n",
    "\n",
    "fig, ax = plt.subplots(figsize=(8, 2))\n",
    "ax.errorbar(mean, np.arange(len(mean)), xerr=asymmetric_error, fmt='o')\n",
    "#ax.set_xlim([0.86, 1.0])\n",
    "ax.set_yticks(np.arange(len(mean)))\n",
    "ax.set_yticklabels(labels)\n",
    "ax.set_xlabel('Prediction Accuracy')\n",
    "ax.set_title('95% confidence intervals')\n",
    "plt.tight_layout()\n",
    "plt.savefig('CI_mnist.pdf')\n",
    "plt.show()"
   ]
  }
 ],
 "metadata": {
  "kernelspec": {
   "display_name": "Python 3 (ipykernel)",
   "language": "python",
   "name": "python3"
  },
  "language_info": {
   "codemirror_mode": {
    "name": "ipython",
    "version": 3
   },
   "file_extension": ".py",
   "mimetype": "text/x-python",
   "name": "python",
   "nbconvert_exporter": "python",
   "pygments_lexer": "ipython3",
   "version": "3.9.7"
  }
 },
 "nbformat": 4,
 "nbformat_minor": 5
}
