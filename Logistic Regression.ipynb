{
 "cells": [
  {
   "cell_type": "code",
   "execution_count": 1,
   "id": "f0341ec7",
   "metadata": {},
   "outputs": [],
   "source": [
    "import pandas as pd\n",
    "import numpy as np\n",
    "from sklearn.feature_extraction.text import TfidfVectorizer\n",
    "from sklearn.feature_extraction.text import CountVectorizer\n",
    "\n",
    "Link_Review = pd.read_csv(\"Cleaned_Link_Review.csv\")"
   ]
  },
  {
   "cell_type": "code",
   "execution_count": 2,
   "id": "a2b97e8b",
   "metadata": {},
   "outputs": [
    {
     "name": "stdout",
     "output_type": "stream",
     "text": [
      "X_train.shape: (36596, 1)\n",
      "y_train.shape: (36596,)\n",
      "X_test.shape: (9150, 1)\n",
      "y_test.shape: (9150,)\n",
      "Train/Test sizes: 36596 9150\n"
     ]
    }
   ],
   "source": [
    "from sklearn.model_selection import train_test_split\n",
    "X_data = Link_Review[['review_content']]\n",
    "y_data = Link_Review['Sentiment'].values\n",
    "\n",
    "X_train, X_test, y_train, y_test = train_test_split(X_data, y_data, \n",
    "                                                    test_size = 0.2, \n",
    "                                                    random_state=1, \n",
    "                                                    stratify = y_data)\n",
    "print('X_train.shape:', X_train.shape)\n",
    "print('y_train.shape:', y_train.shape)\n",
    "print('X_test.shape:', X_test.shape)\n",
    "print('y_test.shape:', y_test.shape)\n",
    "print('Train/Test sizes:', y_train.shape[0], y_test.shape[0])"
   ]
  },
  {
   "cell_type": "code",
   "execution_count": 3,
   "id": "68f28cbf",
   "metadata": {},
   "outputs": [],
   "source": [
    "# count vectorizer:\n",
    "from sklearn.feature_extraction.text import CountVectorizer\n",
    "vec = CountVectorizer()\n",
    "# vectorize X_train and X_test\n",
    "train_matrix = vec.fit_transform(X_train['review_content'].values.astype('U'))\n",
    "test_matrix = vec.transform(X_test['review_content'].values.astype('U'))\n",
    "# vectorize X_train_sub and X_valid\n",
    "# train_sub_matrix = vec.fit_transform(X_train_sub['review_content'])\n",
    "# valid_matrix = vec.transform(X_valid['review_content'])"
   ]
  },
  {
   "cell_type": "code",
   "execution_count": 4,
   "id": "c3b30fcc",
   "metadata": {},
   "outputs": [
    {
     "name": "stdout",
     "output_type": "stream",
     "text": [
      "(36596, 32922)\n",
      "(36596,)\n",
      "(9150, 32922)\n",
      "(9150,)\n"
     ]
    }
   ],
   "source": [
    "X_train = train_matrix\n",
    "X_test = test_matrix\n",
    "y_train = y_train.astype('int')\n",
    "y_test = y_test.astype('int')\n",
    "# X_train_sub = train_sub_matrix\n",
    "# X_valid = valid_matrix\n",
    "# y_train_sub = y_train_sub.astype('int')\n",
    "# y_valid = y_valid.astype('int')\n",
    "\n",
    "# print dimensions\n",
    "print(X_train.shape)\n",
    "print(y_train.shape)\n",
    "print(X_test.shape)\n",
    "print(y_test.shape)\n",
    "\n",
    "# print(X_train_sub.shape)\n",
    "# print(y_train_sub.shape)\n",
    "# print(X_valid.shape)\n",
    "# print(y_valid.shape)"
   ]
  },
  {
   "cell_type": "code",
   "execution_count": 5,
   "id": "ec12a54d",
   "metadata": {},
   "outputs": [
    {
     "name": "stderr",
     "output_type": "stream",
     "text": [
      "C:\\Users\\admin\\AppData\\Local\\Programs\\Python\\Python39\\lib\\site-packages\\sklearn\\experimental\\enable_hist_gradient_boosting.py:16: UserWarning: Since version 1.0, it is not needed to import enable_hist_gradient_boosting anymore. HistGradientBoostingClassifier and HistGradientBoostingRegressor are now stable and can be normally imported from sklearn.ensemble.\n",
      "  warnings.warn(\n"
     ]
    }
   ],
   "source": [
    "from sklearn.neighbors import KNeighborsClassifier\n",
    "from sklearn import model_selection\n",
    "from sklearn.linear_model import LogisticRegression\n",
    "from sklearn.neighbors import KNeighborsClassifier\n",
    "from sklearn.ensemble import AdaBoostClassifier\n",
    "from sklearn.ensemble import RandomForestClassifier\n",
    "from sklearn.tree import DecisionTreeClassifier\n",
    "from sklearn.experimental import enable_hist_gradient_boosting\n",
    "from sklearn.ensemble import HistGradientBoostingClassifier\n",
    "from mlxtend.classifier import StackingClassifier\n",
    "from mlxtend.classifier import StackingCVClassifier"
   ]
  },
  {
   "cell_type": "code",
   "execution_count": 6,
   "id": "f3a5c7c4",
   "metadata": {},
   "outputs": [
    {
     "data": {
      "text/plain": [
       "GridSearchCV(cv=10, estimator=LogisticRegression(max_iter=10000), n_jobs=-1,\n",
       "             param_grid={'C': [0.0001, 0.001, 0.01, 0.1, 1, 10]},\n",
       "             scoring='accuracy')"
      ]
     },
     "execution_count": 6,
     "metadata": {},
     "output_type": "execute_result"
    }
   ],
   "source": [
    "from sklearn.linear_model import LogisticRegression\n",
    "from sklearn.metrics import accuracy_score\n",
    "from sklearn.model_selection import GridSearchCV\n",
    "\n",
    "LR1 = LogisticRegression(max_iter = 10000)\n",
    "\n",
    "param_grid_LR1 = {\"C\":[0.0001, 0.001, 0.01, 0.1, 1, 10]}\n",
    "gs_LR1 = GridSearchCV(estimator = LR1,\n",
    "                      param_grid = param_grid_LR1,\n",
    "                      scoring='accuracy',\n",
    "                      refit=True,\n",
    "                      n_jobs=-1,\n",
    "                      cv=10)\n",
    "\n",
    "gs_LR1.fit(X_train, y_train)\n"
   ]
  },
  {
   "cell_type": "code",
   "execution_count": 7,
   "id": "781eaed9",
   "metadata": {},
   "outputs": [
    {
     "name": "stdout",
     "output_type": "stream",
     "text": [
      "Best Accuracy: 82.02%\n",
      "Best Params: {'C': 1}\n",
      "Test Accuracy: 82.02%\n"
     ]
    }
   ],
   "source": [
    "print('Best Accuracy: %.2f%%' % (gs_LR1.best_score_*100))\n",
    "print('Best Params: %s' % gs_LR1.best_params_)\n",
    "print('Test Accuracy: %.2f%%' % (gs_LR1.best_estimator_.score(X_test, y_test) * 100))"
   ]
  },
  {
   "cell_type": "code",
   "execution_count": 8,
   "id": "3881e5de",
   "metadata": {},
   "outputs": [
    {
     "name": "stdout",
     "output_type": "stream",
     "text": [
      "0.8123502462704786 0.8280869121994667\n"
     ]
    }
   ],
   "source": [
    "#mean and 95% CI: \n",
    "acc_test_LR1 = gs_LR1.best_estimator_.score(X_test, y_test)\n",
    "ci_test_LR1 = 1.96 * np.sqrt((acc_test_LR1*(1-acc_test_LR1)) / y_test.shape[0])\n",
    "\n",
    "test_LR1_lower = acc_test_LR1-ci_test_LR1\n",
    "test_LR1_upper = acc_test_LR1+ci_test_LR1\n",
    "\n",
    "print(test_LR1_lower, test_LR1_upper)"
   ]
  },
  {
   "cell_type": "code",
   "execution_count": 9,
   "id": "b90cd8d3",
   "metadata": {},
   "outputs": [
    {
     "name": "stdout",
     "output_type": "stream",
     "text": [
      "Accuracy: 80.82%\n",
      "95% Confidence interval: [0.80, 0.81]\n"
     ]
    }
   ],
   "source": [
    "#OOB Bootstrap on LR1\n",
    "from mlxtend.evaluate import bootstrap_point632_score\n",
    "import numpy as np\n",
    "\n",
    "# Compute Out-of-bag Bootstrap\n",
    "scores_OOB_LR1 = bootstrap_point632_score(gs_LR1.best_estimator_, X_train, y_train, method=\"oob\", random_seed=1, n_splits=200) # YOUR CODE\n",
    "\n",
    "# Compute accuracy (average over the bootstrap rounds)\n",
    "acc_OOB_LR1 = np.mean(scores_OOB_LR1) # YOUR CODE\n",
    "print('Accuracy: %.2f%%' % (100*acc_OOB_LR1))\n",
    "\n",
    "# Compute the 95% confidence interval around the accuracy estimate\n",
    "lower_OOB_LR1 = np.percentile(scores_OOB_LR1, 2.5) # YOUR CODE\n",
    "upper_OOB_LR1 = np.percentile(scores_OOB_LR1, 97.5)# YOUR CODE\n",
    "print('95%% Confidence interval: [%.2f, %.2f]' % (lower_OOB_LR1, upper_OOB_LR1))"
   ]
  },
  {
   "cell_type": "code",
   "execution_count": 10,
   "id": "6e3f96cd",
   "metadata": {},
   "outputs": [
    {
     "name": "stdout",
     "output_type": "stream",
     "text": [
      "Accuracy: 84.05%\n",
      "95% Confidence interval: [0.84, 0.84]\n"
     ]
    }
   ],
   "source": [
    "#.632 Bootstrap on LR1\n",
    "# Compute .632 Bootstrap\n",
    "scores_632_LR1 = bootstrap_point632_score(gs_LR1.best_estimator_, X_train, y_train, method=\".632\", random_seed=1, n_splits=200)# YOUR CODE\n",
    "\n",
    "\n",
    "# Compute accuracy (average over the bootstrap rounds)\n",
    "acc_632_LR1 = np.mean(scores_632_LR1) # YOUR CODE\n",
    "print('Accuracy: %.2f%%' % (100*acc_632_LR1))\n",
    "\n",
    "# Compute the 95% confidence interval around the accuracy estimate\n",
    "lower_632_LR1 = np.percentile(scores_632_LR1, 2.5)# YOUR CODE\n",
    "upper_632_LR1 = np.percentile(scores_632_LR1, 97.5)# YOUR CODE\n",
    "print('95%% Confidence interval: [%.2f, %.2f]' % (lower_632_LR1, upper_632_LR1))"
   ]
  },
  {
   "cell_type": "code",
   "execution_count": 11,
   "id": "24ab451a",
   "metadata": {},
   "outputs": [
    {
     "data": {
      "image/png": "[encoded data removed]",
      "text/plain": [
       "<Figure size 432x288 with 1 Axes>"
      ]
     },
     "metadata": {},
     "output_type": "display_data"
    }
   ],
   "source": [
    "import numpy as np\n",
    "import matplotlib.pyplot as plt\n",
    "\n",
    "#Train vs Test Result\n",
    "pred_train, pred_test = [], []\n",
    "\n",
    "intervals = np.arange(500, X_train.shape[0] + 1, 2000)\n",
    "\n",
    "for i in intervals:\n",
    "    LR1.fit(X_train[:i], y_train[:i])\n",
    "    p_train = LR1.score(X_train[:i], y_train[:i])\n",
    "    p_test = LR1.score(X_test, y_test)\n",
    "    pred_train.append(p_train)\n",
    "    pred_test.append(p_test)\n",
    "    \n",
    "    \n",
    "with plt.style.context(('fivethirtyeight')):\n",
    "    plt.plot(intervals, pred_train, marker='o', label='Train')\n",
    "    plt.plot(intervals, pred_test, marker='s', label='Test')\n",
    "    plt.legend(loc='best', numpoints=1)\n",
    "    plt.xlim([430, X_train.shape[0] + X_test.shape[0]])\n",
    "    plt.axvspan(X_train.shape[0], \n",
    "                X_train.shape[0] + X_test.shape[0], \n",
    "                alpha=0.2, \n",
    "                color='steelblue')\n",
    "    plt.ylim([0.0, 1.0])\n",
    "    plt.xlabel('Training Set Size')\n",
    "    plt.ylabel('Accuracy')\n",
    "    plt.tight_layout()\n",
    "    #plt.savefig('figures/model-eval-mnist_0.svg')"
   ]
  },
  {
   "cell_type": "code",
   "execution_count": 12,
   "id": "8cebc487",
   "metadata": {},
   "outputs": [
    {
     "name": "stdout",
     "output_type": "stream",
     "text": [
      "[0.71371189 0.71373921 0.73814099 0.80167217 0.82022602 0.81260221]\n"
     ]
    },
    {
     "data": {
      "text/plain": [
       "<matplotlib.collections.PathCollection at 0x219f6fdd460>"
      ]
     },
     "execution_count": 12,
     "metadata": {},
     "output_type": "execute_result"
    },
    {
     "data": {
      "image/png": "[encoded data removed]",
      "text/plain": [
       "<Figure size 432x288 with 1 Axes>"
      ]
     },
     "metadata": {
      "needs_background": "light"
     },
     "output_type": "display_data"
    }
   ],
   "source": [
    "#Scatterplot for Test Result\n",
    "from matplotlib.pyplot import scatter\n",
    "\n",
    "LR1_List = gs_LR1.cv_results_['mean_test_score']\n",
    "LR1_List\n",
    "C_point =  [0.0001, 0.001, 0.01, 0.1, 1, 10]\n",
    "print(LR1_List)\n",
    "scatter(C_point, LR1_List)"
   ]
  },
  {
   "cell_type": "code",
   "execution_count": 13,
   "id": "0f29540a",
   "metadata": {},
   "outputs": [
    {
     "data": {
      "text/plain": [
       "<AxesSubplot:xlabel='Chosen Point On C', ylabel='Test Accuracy'>"
      ]
     },
     "execution_count": 13,
     "metadata": {},
     "output_type": "execute_result"
    },
    {
     "data": {
      "image/png": "[encoded data removed]",
      "text/plain": [
       "<Figure size 432x288 with 1 Axes>"
      ]
     },
     "metadata": {
      "needs_background": "light"
     },
     "output_type": "display_data"
    }
   ],
   "source": [
    "#Revised scatterplot for logistic regression\n",
    "df_test_result = pd.DataFrame({'Chosen Point On C': [str(0.0001), str(0.001), str(0.01), str(0.1), str(1), str(10)], 'Test Accuracy': LR1_List})\n",
    "df_test_result\n",
    "df_test_result.plot.scatter(x = 'Chosen Point On C', y = 'Test Accuracy')"
   ]
  },
  {
   "cell_type": "code",
   "execution_count": 14,
   "id": "d48713ff",
   "metadata": {},
   "outputs": [
    {
     "name": "stdout",
     "output_type": "stream",
     "text": [
      "[[1659  961]\n",
      " [1209 5321]]\n"
     ]
    }
   ],
   "source": [
    "#Confusion Matrix of Logistic Regression with C = 1\n",
    "from sklearn.preprocessing import StandardScaler\n",
    "from sklearn.linear_model import LogisticRegression\n",
    "from sklearn.pipeline import make_pipeline\n",
    "\n",
    "from mlxtend.evaluate import confusion_matrix\n",
    "#or\n",
    "#from sklearn.metrics import confusion_matrix\n",
    "\n",
    "pipe_knn = make_pipeline(StandardScaler(with_mean=False),\n",
    "                         LogisticRegression(max_iter = 10000, C = 1))\n",
    "\n",
    "pipe_knn.fit(X_train, y_train)\n",
    "\n",
    "y_pred = pipe_knn.predict(X_test)\n",
    "\n",
    "confmat = confusion_matrix(y_test, y_pred)\n",
    "\n",
    "print(confmat)"
   ]
  },
  {
   "cell_type": "code",
   "execution_count": 15,
   "id": "b6fef0cf",
   "metadata": {},
   "outputs": [
    {
     "data": {
      "image/png": "[encoded data removed]",
      "text/plain": [
       "<Figure size 216x216 with 2 Axes>"
      ]
     },
     "metadata": {
      "needs_background": "light"
     },
     "output_type": "display_data"
    }
   ],
   "source": [
    "from mlxtend.plotting import plot_confusion_matrix\n",
    "import matplotlib.pyplot as plt\n",
    "\n",
    "\n",
    "fig, ax = plot_confusion_matrix(conf_mat=confmat,\n",
    "                                show_absolute=True,\n",
    "                                show_normed=True,\n",
    "                                colorbar=True,\n",
    "                                figsize=(3, 3))\n",
    "plt.show()\n",
    "#n = 9150"
   ]
  },
  {
   "cell_type": "code",
   "execution_count": 16,
   "id": "06145ab7",
   "metadata": {},
   "outputs": [
    {
     "data": {
      "image/png": "[encoded data removed]",
      "text/plain": [
       "<Figure size 576x144 with 1 Axes>"
      ]
     },
     "metadata": {
      "needs_background": "light"
     },
     "output_type": "display_data"
    }
   ],
   "source": [
    "#Summary\n",
    "\n",
    "labels = [\n",
    "    \"Logistic Regression sample CI (test set, no bootstrap)\",\n",
    "    \"OOB Bootstrap, percentile method\",\n",
    "    \".632 Bootstrap, percentile method\"\n",
    "]\n",
    "\n",
    "mean = [\n",
    "    acc_test_LR1,\n",
    "    acc_OOB_LR1,\n",
    "    acc_632_LR1\n",
    "]\n",
    "\n",
    "lower_error = [\n",
    "    test_LR1_lower,\n",
    "    lower_OOB_LR1,\n",
    "    lower_632_LR1\n",
    "]\n",
    "\n",
    "upper_error = [\n",
    "    test_LR1_upper,\n",
    "    upper_OOB_LR1,\n",
    "    upper_632_LR1\n",
    "]\n",
    "\n",
    "\n",
    "asymmetric_error = [np.array(mean) - np.array(lower_error), \n",
    "                    np.array(upper_error) - np.array(mean)]\n",
    "\n",
    "\n",
    "fig, ax = plt.subplots(figsize=(8, 2))\n",
    "ax.errorbar(mean, np.arange(len(mean)), xerr=asymmetric_error, fmt='o')\n",
    "#ax.set_xlim([0.86, 1.0])\n",
    "ax.set_yticks(np.arange(len(mean)))\n",
    "ax.set_yticklabels(labels)\n",
    "ax.set_xlabel('Prediction Accuracy')\n",
    "ax.set_title('95% confidence intervals')\n",
    "plt.tight_layout()\n",
    "plt.savefig('CI_mnist.pdf')\n",
    "plt.show()"
   ]
  }
 ],
 "metadata": {
  "kernelspec": {
   "display_name": "Python 3 (ipykernel)",
   "language": "python",
   "name": "python3"
  },
  "language_info": {
   "codemirror_mode": {
    "name": "ipython",
    "version": 3
   },
   "file_extension": ".py",
   "mimetype": "text/x-python",
   "name": "python",
   "nbconvert_exporter": "python",
   "pygments_lexer": "ipython3",
   "version": "3.9.7"
  }
 },
 "nbformat": 4,
 "nbformat_minor": 5
}
