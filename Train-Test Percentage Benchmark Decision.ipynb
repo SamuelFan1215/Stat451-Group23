{
 "cells": [
  {
   "cell_type": "code",
   "execution_count": 1,
   "id": "9956525d",
   "metadata": {},
   "outputs": [
    {
     "data": {
      "text/plain": [
       "['like',\n",
       " 'good',\n",
       " 'best',\n",
       " 'horror',\n",
       " 'fun',\n",
       " 'great',\n",
       " 'doesnt',\n",
       " 'little',\n",
       " 'love',\n",
       " 'new',\n",
       " 'entertaining',\n",
       " 'better',\n",
       " 'funny',\n",
       " 'lot',\n",
       " 'quite',\n",
       " 'right',\n",
       " 'bad',\n",
       " 'bit',\n",
       " 'dont',\n",
       " 'real',\n",
       " 'far',\n",
       " 'long',\n",
       " 'kind',\n",
       " 'want',\n",
       " 'worth',\n",
       " 'emotional',\n",
       " 'interesting',\n",
       " 'strong',\n",
       " 'classic',\n",
       " 'compelling',\n",
       " 'big',\n",
       " 'ultimately',\n",
       " 'original',\n",
       " 'humor',\n",
       " 'true',\n",
       " 'hard',\n",
       " 'lack',\n",
       " 'dark',\n",
       " 'truly',\n",
       " 'pretty',\n",
       " 'beautiful',\n",
       " 'young',\n",
       " 'cinematic',\n",
       " 'powerful',\n",
       " 'feeling',\n",
       " 'power',\n",
       " 'perfect',\n",
       " 'simply',\n",
       " 'solid',\n",
       " 'actually',\n",
       " 'fascinating',\n",
       " 'violence',\n",
       " 'trying',\n",
       " 'entertainment',\n",
       " 'old',\n",
       " 'especially',\n",
       " 'short',\n",
       " 'effective',\n",
       " 'sure',\n",
       " 'enjoyable',\n",
       " 'easy',\n",
       " 'final',\n",
       " 'different',\n",
       " 'enjoy',\n",
       " 'fine']"
      ]
     },
     "execution_count": 1,
     "metadata": {},
     "output_type": "execute_result"
    }
   ],
   "source": [
    "import pandas as pd\n",
    "\n",
    "df1 = pd.read_csv(\"Cleaned_Link_Review.csv\")\n",
    "df2 = pd.read_csv(\"Selected_Sentiment_Word.csv\")\n",
    "selected_word = df2[\"Word\"]\n",
    "\n",
    "listed_selected_word = selected_word.values.tolist()\n",
    "listed_selected_word"
   ]
  },
  {
   "cell_type": "code",
   "execution_count": 15,
   "id": "d918477a",
   "metadata": {},
   "outputs": [
    {
     "data": {
      "text/plain": [
       "enchant.Dict"
      ]
     },
     "execution_count": 15,
     "metadata": {},
     "output_type": "execute_result"
    }
   ],
   "source": [
    "import enchant\n",
    "\n",
    "english_dict = enchant.Dict(\"en_US\")\n",
    "type(english_dict)"
   ]
  },
  {
   "cell_type": "code",
   "execution_count": null,
   "id": "0ccf635e",
   "metadata": {},
   "outputs": [],
   "source": []
  },
  {
   "cell_type": "code",
   "execution_count": null,
   "id": "02d315ff",
   "metadata": {},
   "outputs": [],
   "source": []
  },
  {
   "cell_type": "code",
   "execution_count": 2,
   "id": "718ccd42",
   "metadata": {},
   "outputs": [
    {
     "data": {
      "text/html": [
       "<div>\n",
       "<style scoped>\n",
       "    .dataframe tbody tr th:only-of-type {\n",
       "        vertical-align: middle;\n",
       "    }\n",
       "\n",
       "    .dataframe tbody tr th {\n",
       "        vertical-align: top;\n",
       "    }\n",
       "\n",
       "    .dataframe thead th {\n",
       "        text-align: right;\n",
       "    }\n",
       "</style>\n",
       "<table border=\"1\" class=\"dataframe\">\n",
       "  <thead>\n",
       "    <tr style=\"text-align: right;\">\n",
       "      <th></th>\n",
       "      <th>Unnamed: 0</th>\n",
       "      <th>review_type</th>\n",
       "      <th>review_score</th>\n",
       "      <th>review_content</th>\n",
       "      <th>separate_match</th>\n",
       "      <th>selected_word appearance</th>\n",
       "    </tr>\n",
       "  </thead>\n",
       "  <tbody>\n",
       "    <tr>\n",
       "      <th>0</th>\n",
       "      <td>0</td>\n",
       "      <td>Fresh</td>\n",
       "      <td>3/4</td>\n",
       "      <td>middle school teacher gifted literature value ...</td>\n",
       "      <td>False</td>\n",
       "      <td>NaN</td>\n",
       "    </tr>\n",
       "    <tr>\n",
       "      <th>1</th>\n",
       "      <td>1</td>\n",
       "      <td>Fresh</td>\n",
       "      <td>NaN</td>\n",
       "      <td>lightning thief admirable kid fantasy</td>\n",
       "      <td>False</td>\n",
       "      <td>NaN</td>\n",
       "    </tr>\n",
       "    <tr>\n",
       "      <th>2</th>\n",
       "      <td>2</td>\n",
       "      <td>Rotten</td>\n",
       "      <td>2.5/5</td>\n",
       "      <td>ok</td>\n",
       "      <td>False</td>\n",
       "      <td>NaN</td>\n",
       "    </tr>\n",
       "    <tr>\n",
       "      <th>3</th>\n",
       "      <td>3</td>\n",
       "      <td>Rotten</td>\n",
       "      <td>2/4</td>\n",
       "      <td>there resembling spark film</td>\n",
       "      <td>False</td>\n",
       "      <td>NaN</td>\n",
       "    </tr>\n",
       "    <tr>\n",
       "      <th>4</th>\n",
       "      <td>4</td>\n",
       "      <td>Fresh</td>\n",
       "      <td>NaN</td>\n",
       "      <td>truly film age darkly comic stuff mistress mis...</td>\n",
       "      <td>True</td>\n",
       "      <td>truly</td>\n",
       "    </tr>\n",
       "    <tr>\n",
       "      <th>...</th>\n",
       "      <td>...</td>\n",
       "      <td>...</td>\n",
       "      <td>...</td>\n",
       "      <td>...</td>\n",
       "      <td>...</td>\n",
       "      <td>...</td>\n",
       "    </tr>\n",
       "    <tr>\n",
       "      <th>45741</th>\n",
       "      <td>45741</td>\n",
       "      <td>Fresh</td>\n",
       "      <td>5/5</td>\n",
       "      <td>zootopia rare animated disney film feel like a...</td>\n",
       "      <td>True</td>\n",
       "      <td>like</td>\n",
       "    </tr>\n",
       "    <tr>\n",
       "      <th>45742</th>\n",
       "      <td>45742</td>\n",
       "      <td>Fresh</td>\n",
       "      <td>NaN</td>\n",
       "      <td>director michael cacoyannis skill craftsman co...</td>\n",
       "      <td>False</td>\n",
       "      <td>NaN</td>\n",
       "    </tr>\n",
       "    <tr>\n",
       "      <th>45743</th>\n",
       "      <td>45743</td>\n",
       "      <td>Fresh</td>\n",
       "      <td>NaN</td>\n",
       "      <td>tension mount break mount unbearable borne rig...</td>\n",
       "      <td>True</td>\n",
       "      <td>right</td>\n",
       "    </tr>\n",
       "    <tr>\n",
       "      <th>45744</th>\n",
       "      <td>45744</td>\n",
       "      <td>Fresh</td>\n",
       "      <td>NaN</td>\n",
       "      <td>rousing reconstruction battle rorkes drift</td>\n",
       "      <td>False</td>\n",
       "      <td>NaN</td>\n",
       "    </tr>\n",
       "    <tr>\n",
       "      <th>45745</th>\n",
       "      <td>45745</td>\n",
       "      <td>Rotten</td>\n",
       "      <td>C</td>\n",
       "      <td>ride line pure artifact bygone eraone depicts ...</td>\n",
       "      <td>True</td>\n",
       "      <td>real</td>\n",
       "    </tr>\n",
       "  </tbody>\n",
       "</table>\n",
       "<p>45746 rows × 6 columns</p>\n",
       "</div>"
      ],
      "text/plain": [
       "       Unnamed: 0 review_type review_score  \\\n",
       "0               0       Fresh          3/4   \n",
       "1               1       Fresh          NaN   \n",
       "2               2      Rotten        2.5/5   \n",
       "3               3      Rotten          2/4   \n",
       "4               4       Fresh          NaN   \n",
       "...           ...         ...          ...   \n",
       "45741       45741       Fresh          5/5   \n",
       "45742       45742       Fresh          NaN   \n",
       "45743       45743       Fresh          NaN   \n",
       "45744       45744       Fresh          NaN   \n",
       "45745       45745      Rotten            C   \n",
       "\n",
       "                                          review_content separate_match  \\\n",
       "0      middle school teacher gifted literature value ...          False   \n",
       "1                  lightning thief admirable kid fantasy          False   \n",
       "2                                                     ok          False   \n",
       "3                            there resembling spark film          False   \n",
       "4      truly film age darkly comic stuff mistress mis...           True   \n",
       "...                                                  ...            ...   \n",
       "45741  zootopia rare animated disney film feel like a...           True   \n",
       "45742  director michael cacoyannis skill craftsman co...          False   \n",
       "45743  tension mount break mount unbearable borne rig...           True   \n",
       "45744         rousing reconstruction battle rorkes drift          False   \n",
       "45745  ride line pure artifact bygone eraone depicts ...           True   \n",
       "\n",
       "      selected_word appearance  \n",
       "0                          NaN  \n",
       "1                          NaN  \n",
       "2                          NaN  \n",
       "3                          NaN  \n",
       "4                        truly  \n",
       "...                        ...  \n",
       "45741                     like  \n",
       "45742                      NaN  \n",
       "45743                    right  \n",
       "45744                      NaN  \n",
       "45745                     real  \n",
       "\n",
       "[45746 rows x 6 columns]"
      ]
     },
     "execution_count": 2,
     "metadata": {},
     "output_type": "execute_result"
    }
   ],
   "source": [
    "separated_selected_word = '|'.join(listed_selected_word)\n",
    "\n",
    "df1['separate_match'] = df1[\"review_content\"].str.contains(separated_selected_word, case=False)\n",
    "df1['selected_word appearance'] = df1['review_content'].str.extract( '({})'.format(separated_selected_word) )\n",
    "\n",
    "df1\n",
    "#df1.to_csv(\"review_content with matching words.csv\")\n"
   ]
  },
  {
   "cell_type": "code",
   "execution_count": 3,
   "id": "8c066f57",
   "metadata": {},
   "outputs": [
    {
     "data": {
      "text/plain": [
       "True     32473\n",
       "False    13262\n",
       "Name: separate_match, dtype: int64"
      ]
     },
     "execution_count": 3,
     "metadata": {},
     "output_type": "execute_result"
    }
   ],
   "source": [
    "df1.separate_match.value_counts()"
   ]
  },
  {
   "cell_type": "code",
   "execution_count": 4,
   "id": "b657bd80",
   "metadata": {},
   "outputs": [
    {
     "data": {
      "text/plain": [
       "0.710025144856237"
      ]
     },
     "execution_count": 4,
     "metadata": {},
     "output_type": "execute_result"
    }
   ],
   "source": [
    "32473/(32473+13262) #Hard Code Percentage from df1.query_match.value_counts()"
   ]
  },
  {
   "cell_type": "code",
   "execution_count": 5,
   "id": "61ec022d",
   "metadata": {},
   "outputs": [
    {
     "data": {
      "text/plain": [
       "0        1\n",
       "1        1\n",
       "2       -1\n",
       "3       -1\n",
       "4        1\n",
       "        ..\n",
       "45741    1\n",
       "45742    1\n",
       "45743    1\n",
       "45744    1\n",
       "45745   -1\n",
       "Name: numeric_review_type, Length: 45746, dtype: int64"
      ]
     },
     "execution_count": 5,
     "metadata": {},
     "output_type": "execute_result"
    }
   ],
   "source": [
    "#Replace \"fresh\" and \"rotten\" in \"review_type\" to \"1\" and \"-1\"\n",
    "\n",
    "df1[\"numeric_review_type\"] = df1['review_type'].map({\"Fresh\": 1 ,'Rotten': -1})\n",
    "\n",
    "df1[\"numeric_review_type\"] # Checking Purposes"
   ]
  },
  {
   "cell_type": "code",
   "execution_count": 6,
   "id": "7917e51e",
   "metadata": {},
   "outputs": [],
   "source": [
    "#Replace True and False booleans in \"separate_match\" to \"1\" and \"-1\"\n",
    "\n",
    "x = True\n",
    "y = False\n",
    "\n",
    "df1[\"numeric_separate_match\"] = df1['separate_match'].map({ x: int(1) , y: int(-1)})\n"
   ]
  },
  {
   "cell_type": "code",
   "execution_count": 7,
   "id": "14efaf8d",
   "metadata": {},
   "outputs": [
    {
     "data": {
      "text/html": [
       "<div>\n",
       "<style scoped>\n",
       "    .dataframe tbody tr th:only-of-type {\n",
       "        vertical-align: middle;\n",
       "    }\n",
       "\n",
       "    .dataframe tbody tr th {\n",
       "        vertical-align: top;\n",
       "    }\n",
       "\n",
       "    .dataframe thead th {\n",
       "        text-align: right;\n",
       "    }\n",
       "</style>\n",
       "<table border=\"1\" class=\"dataframe\">\n",
       "  <thead>\n",
       "    <tr style=\"text-align: right;\">\n",
       "      <th></th>\n",
       "      <th>numeric_review_type</th>\n",
       "      <th>numeric_separate_match</th>\n",
       "    </tr>\n",
       "  </thead>\n",
       "  <tbody>\n",
       "    <tr>\n",
       "      <th>0</th>\n",
       "      <td>1</td>\n",
       "      <td>-1.0</td>\n",
       "    </tr>\n",
       "    <tr>\n",
       "      <th>1</th>\n",
       "      <td>1</td>\n",
       "      <td>-1.0</td>\n",
       "    </tr>\n",
       "    <tr>\n",
       "      <th>2</th>\n",
       "      <td>-1</td>\n",
       "      <td>-1.0</td>\n",
       "    </tr>\n",
       "    <tr>\n",
       "      <th>3</th>\n",
       "      <td>-1</td>\n",
       "      <td>-1.0</td>\n",
       "    </tr>\n",
       "    <tr>\n",
       "      <th>4</th>\n",
       "      <td>1</td>\n",
       "      <td>1.0</td>\n",
       "    </tr>\n",
       "    <tr>\n",
       "      <th>...</th>\n",
       "      <td>...</td>\n",
       "      <td>...</td>\n",
       "    </tr>\n",
       "    <tr>\n",
       "      <th>45741</th>\n",
       "      <td>1</td>\n",
       "      <td>1.0</td>\n",
       "    </tr>\n",
       "    <tr>\n",
       "      <th>45742</th>\n",
       "      <td>1</td>\n",
       "      <td>-1.0</td>\n",
       "    </tr>\n",
       "    <tr>\n",
       "      <th>45743</th>\n",
       "      <td>1</td>\n",
       "      <td>1.0</td>\n",
       "    </tr>\n",
       "    <tr>\n",
       "      <th>45744</th>\n",
       "      <td>1</td>\n",
       "      <td>-1.0</td>\n",
       "    </tr>\n",
       "    <tr>\n",
       "      <th>45745</th>\n",
       "      <td>-1</td>\n",
       "      <td>1.0</td>\n",
       "    </tr>\n",
       "  </tbody>\n",
       "</table>\n",
       "<p>45746 rows × 2 columns</p>\n",
       "</div>"
      ],
      "text/plain": [
       "       numeric_review_type  numeric_separate_match\n",
       "0                        1                    -1.0\n",
       "1                        1                    -1.0\n",
       "2                       -1                    -1.0\n",
       "3                       -1                    -1.0\n",
       "4                        1                     1.0\n",
       "...                    ...                     ...\n",
       "45741                    1                     1.0\n",
       "45742                    1                    -1.0\n",
       "45743                    1                     1.0\n",
       "45744                    1                    -1.0\n",
       "45745                   -1                     1.0\n",
       "\n",
       "[45746 rows x 2 columns]"
      ]
     },
     "execution_count": 7,
     "metadata": {},
     "output_type": "execute_result"
    }
   ],
   "source": [
    "#Train-Test Preparation\n",
    "\n",
    "df3 = df1[[\"numeric_review_type\", \"numeric_separate_match\"]]\n",
    "df3"
   ]
  },
  {
   "cell_type": "code",
   "execution_count": 8,
   "id": "69eac7e8",
   "metadata": {},
   "outputs": [
    {
     "name": "stdout",
     "output_type": "stream",
     "text": [
      "X_train.shape: (36596, 1)\n",
      "y_train.shape: (36596,)\n",
      "X_test.shape: (9150, 1)\n",
      "y_test.shape: (9150,)\n",
      "Train/Valid/Test sizes: 36596 7320 9150\n"
     ]
    }
   ],
   "source": [
    "#Test/Train Size Estimation \n",
    "from sklearn.model_selection import train_test_split\n",
    "X_data = df3[[\"numeric_separate_match\"]].values\n",
    "y_data = df3[\"numeric_review_type\"].values\n",
    "\n",
    "X_train, X_test, y_train, y_test = train_test_split(X_data, y_data, \n",
    "                                                    test_size = 0.2, \n",
    "                                                    random_state=1, \n",
    "                                                    stratify = y_data)\n",
    "X_train_sub, X_valid, y_train_sub, y_valid = train_test_split(X_train, y_train, \n",
    "                                                              test_size = 0.2, \n",
    "                                                              random_state=1, \n",
    "                                                              stratify = y_train)\n",
    "\n",
    "print('X_train.shape:', X_train.shape)\n",
    "print('y_train.shape:', y_train.shape)\n",
    "print('X_test.shape:', X_test.shape)\n",
    "print('y_test.shape:', y_test.shape)\n",
    "print('Train/Valid/Test sizes:', y_train.shape[0], y_valid.shape[0], y_test.shape[0])"
   ]
  },
  {
   "cell_type": "code",
   "execution_count": 9,
   "id": "61f4d54c",
   "metadata": {},
   "outputs": [],
   "source": [
    "X_train = X_train.astype('int')\n",
    "y_train = y_train.astype('int')\n",
    "X_train_sub = X_train_sub.astype('int')\n",
    "y_train_sub = y_train_sub.astype('int')\n",
    "X_valid = X_valid.astype('int')\n",
    "y_valid = y_valid.astype('int')\n",
    "X_test = X_test.astype('int')\n",
    "y_test = y_test.astype('int')"
   ]
  },
  {
   "cell_type": "code",
   "execution_count": 10,
   "id": "8356941f",
   "metadata": {},
   "outputs": [
    {
     "name": "stderr",
     "output_type": "stream",
     "text": [
      "C:\\Users\\admin\\AppData\\Local\\Programs\\Python\\Python39\\lib\\site-packages\\sklearn\\experimental\\enable_hist_gradient_boosting.py:16: UserWarning: Since version 1.0, it is not needed to import enable_hist_gradient_boosting anymore. HistGradientBoostingClassifier and HistGradientBoostingRegressor are now stable and can be normally imported from sklearn.ensemble.\n",
      "  warnings.warn(\n"
     ]
    }
   ],
   "source": [
    "from sklearn.neighbors import KNeighborsClassifier\n",
    "from sklearn import model_selection\n",
    "from sklearn.linear_model import LogisticRegression\n",
    "from sklearn.neighbors import KNeighborsClassifier\n",
    "from sklearn.ensemble import AdaBoostClassifier\n",
    "from sklearn.ensemble import RandomForestClassifier\n",
    "from sklearn.tree import DecisionTreeClassifier\n",
    "from sklearn.experimental import enable_hist_gradient_boosting\n",
    "from sklearn.ensemble import HistGradientBoostingClassifier\n",
    "from mlxtend.classifier import StackingClassifier\n",
    "from mlxtend.classifier import StackingCVClassifier"
   ]
  },
  {
   "cell_type": "code",
   "execution_count": 11,
   "id": "33f744b1",
   "metadata": {},
   "outputs": [
    {
     "name": "stdout",
     "output_type": "stream",
     "text": [
      "Train Accuracy: 40.279%\n",
      "Valid Accuracy: 40.765%\n"
     ]
    }
   ],
   "source": [
    "knn = KNeighborsClassifier(n_neighbors=7)\n",
    "knn.fit(X_train, y_train)\n",
    "print(f\"Train Accuracy: {knn.score(X_train_sub, y_train_sub)*100:0.3f}%\")\n",
    "print(f\"Valid Accuracy: {knn.score(X_valid, y_valid)*100:0.3f}%\")"
   ]
  },
  {
   "cell_type": "code",
   "execution_count": 12,
   "id": "4c28d5e8",
   "metadata": {},
   "outputs": [
    {
     "name": "stdout",
     "output_type": "stream",
     "text": [
      "Train Accuracy: 71.371%\n",
      "Test Accuracy: 71.366%\n"
     ]
    }
   ],
   "source": [
    "random_forest_model = RandomForestClassifier(criterion='entropy', n_estimators=100,\n",
    "                                random_state=1)\n",
    "random_forest_model.fit(X_train, y_train)\n",
    "print(f\"Train Accuracy: {random_forest_model.score(X_train, y_train)*100:0.3f}%\")\n",
    "print(f\"Test Accuracy: {random_forest_model.score(X_test, y_test)*100:0.3f}%\")"
   ]
  }
 ],
 "metadata": {
  "kernelspec": {
   "display_name": "Python 3 (ipykernel)",
   "language": "python",
   "name": "python3"
  },
  "language_info": {
   "codemirror_mode": {
    "name": "ipython",
    "version": 3
   },
   "file_extension": ".py",
   "mimetype": "text/x-python",
   "name": "python",
   "nbconvert_exporter": "python",
   "pygments_lexer": "ipython3",
   "version": "3.9.7"
  }
 },
 "nbformat": 4,
 "nbformat_minor": 5
}
