{
 "cells": [
  {
   "cell_type": "code",
   "execution_count": 1,
   "id": "ada8eceb-5432-4880-b8b9-e4b24f265c62",
   "metadata": {},
   "outputs": [],
   "source": [
    "import pandas as pd\n",
    "import numpy as np\n",
    "import re"
   ]
  },
  {
   "cell_type": "code",
   "execution_count": 2,
   "id": "fd61864f-d406-48d7-811f-ffc0b8ca4030",
   "metadata": {},
   "outputs": [
    {
     "data": {
      "text/html": [
       "<div>\n",
       "<style scoped>\n",
       "    .dataframe tbody tr th:only-of-type {\n",
       "        vertical-align: middle;\n",
       "    }\n",
       "\n",
       "    .dataframe tbody tr th {\n",
       "        vertical-align: top;\n",
       "    }\n",
       "\n",
       "    .dataframe thead th {\n",
       "        text-align: right;\n",
       "    }\n",
       "</style>\n",
       "<table border=\"1\" class=\"dataframe\">\n",
       "  <thead>\n",
       "    <tr style=\"text-align: right;\">\n",
       "      <th></th>\n",
       "      <th>Unnamed: 0</th>\n",
       "      <th>review_content</th>\n",
       "      <th>Sentiment</th>\n",
       "    </tr>\n",
       "  </thead>\n",
       "  <tbody>\n",
       "    <tr>\n",
       "      <th>0</th>\n",
       "      <td>0</td>\n",
       "      <td>middle school teacher gifted literature value ...</td>\n",
       "      <td>1</td>\n",
       "    </tr>\n",
       "    <tr>\n",
       "      <th>1</th>\n",
       "      <td>1</td>\n",
       "      <td>lightning thief admirable kid fantasy</td>\n",
       "      <td>1</td>\n",
       "    </tr>\n",
       "    <tr>\n",
       "      <th>2</th>\n",
       "      <td>2</td>\n",
       "      <td>ok</td>\n",
       "      <td>-1</td>\n",
       "    </tr>\n",
       "    <tr>\n",
       "      <th>3</th>\n",
       "      <td>3</td>\n",
       "      <td>there resembling spark film</td>\n",
       "      <td>-1</td>\n",
       "    </tr>\n",
       "    <tr>\n",
       "      <th>4</th>\n",
       "      <td>4</td>\n",
       "      <td>truly film age darkly comic stuff mistress mis...</td>\n",
       "      <td>1</td>\n",
       "    </tr>\n",
       "  </tbody>\n",
       "</table>\n",
       "</div>"
      ],
      "text/plain": [
       "   Unnamed: 0                                     review_content  Sentiment\n",
       "0           0  middle school teacher gifted literature value ...          1\n",
       "1           1              lightning thief admirable kid fantasy          1\n",
       "2           2                                                 ok         -1\n",
       "3           3                        there resembling spark film         -1\n",
       "4           4  truly film age darkly comic stuff mistress mis...          1"
      ]
     },
     "execution_count": 2,
     "metadata": {},
     "output_type": "execute_result"
    }
   ],
   "source": [
    "finalized_reviews = pd.read_csv(\"finalized_reviews.csv\")\n",
    "finalized_reviews.head()"
   ]
  },
  {
   "cell_type": "code",
   "execution_count": 3,
   "id": "5ad0ae52-cd1b-41d0-bef4-2dc704052a68",
   "metadata": {},
   "outputs": [
    {
     "name": "stdout",
     "output_type": "stream",
     "text": [
      "X_train.shape: (36596, 1)\n",
      "y_train.shape: (36596,)\n",
      "X_test.shape: (9150, 1)\n",
      "y_test.shape: (9150,)\n",
      "Train/Valid/Test sizes: 36596 7320 9150\n"
     ]
    }
   ],
   "source": [
    "from sklearn.model_selection import train_test_split\n",
    "X_data = finalized_reviews[['review_content']]\n",
    "y_data = finalized_reviews['Sentiment'].values\n",
    "\n",
    "X_train, X_test, y_train, y_test = train_test_split(X_data, y_data, \n",
    "                                                    test_size = 0.2, \n",
    "                                                    random_state=1, \n",
    "                                                    stratify = y_data)\n",
    "X_train_sub, X_valid, y_train_sub, y_valid = train_test_split(X_train, y_train, \n",
    "                                                              test_size = 0.2, \n",
    "                                                              random_state=1, \n",
    "                                                              stratify = y_train)\n",
    "\n",
    "print('X_train.shape:', X_train.shape)\n",
    "print('y_train.shape:', y_train.shape)\n",
    "print('X_test.shape:', X_test.shape)\n",
    "print('y_test.shape:', y_test.shape)\n",
    "print('Train/Valid/Test sizes:', y_train.shape[0], y_valid.shape[0], y_test.shape[0])"
   ]
  },
  {
   "cell_type": "code",
   "execution_count": 4,
   "id": "2fd4d17d-2da9-4c5b-b48b-6b02621936a0",
   "metadata": {},
   "outputs": [],
   "source": [
    "# count vectorizer:\n",
    "from sklearn.feature_extraction.text import CountVectorizer\n",
    "vec = CountVectorizer()\n",
    "# vectorize X_train and X_test\n",
    "train_matrix = vec.fit_transform(X_train['review_content'].values.astype('U'))\n",
    "test_matrix = vec.transform(X_test['review_content'].values.astype('U'))"
   ]
  },
  {
   "cell_type": "code",
   "execution_count": 5,
   "id": "5d8507b0-c078-4c25-a600-6ec4becada7d",
   "metadata": {},
   "outputs": [
    {
     "name": "stdout",
     "output_type": "stream",
     "text": [
      "(36596, 32922)\n",
      "(36596,)\n",
      "(9150, 32922)\n",
      "(9150,)\n"
     ]
    }
   ],
   "source": [
    "X_train = train_matrix\n",
    "X_test = test_matrix\n",
    "y_train = y_train.astype('int')\n",
    "y_test = y_test.astype('int')\n",
    "# print dimensions\n",
    "print(X_train.shape)\n",
    "print(y_train.shape)\n",
    "print(X_test.shape)\n",
    "print(y_test.shape)"
   ]
  },
  {
   "cell_type": "code",
   "execution_count": 8,
   "id": "4bb70a36-e054-4775-b5bc-0c33e9bc2227",
   "metadata": {},
   "outputs": [],
   "source": [
    "from sklearn.neighbors import KNeighborsClassifier\n",
    "from sklearn import model_selection\n",
    "from sklearn.linear_model import LogisticRegression\n",
    "from sklearn.ensemble import AdaBoostClassifier\n",
    "from sklearn.ensemble import RandomForestClassifier\n",
    "from sklearn.ensemble import BaggingClassifier\n",
    "from sklearn.tree import DecisionTreeClassifier\n",
    "from sklearn.experimental import enable_hist_gradient_boosting\n",
    "from sklearn.ensemble import HistGradientBoostingClassifier\n",
    "from sklearn.model_selection import GridSearchCV\n",
    "\n",
    "from mlxtend.classifier import StackingClassifier\n",
    "from mlxtend.classifier import StackingCVClassifier\n",
    "\n",
    "%matplotlib inline\n",
    "import matplotlib.pyplot as plt"
   ]
  },
  {
   "cell_type": "markdown",
   "id": "9104989b-93ca-48c9-9834-c89c4b14622c",
   "metadata": {
    "tags": []
   },
   "source": [
    "## Bagging with Logistic Regression"
   ]
  },
  {
   "cell_type": "code",
   "execution_count": 13,
   "id": "eaf8439a-be91-48e2-829a-de8e7a7821d8",
   "metadata": {},
   "outputs": [
    {
     "name": "stdout",
     "output_type": "stream",
     "text": [
      "Train Accuracy: 93.109%\n",
      "Test Accuracy: 82.022%\n"
     ]
    }
   ],
   "source": [
    "lr = LogisticRegression(random_state=1, C=1, max_iter = 10000) # lightly higher is use C=0.78\n",
    "lr.fit(X_train, y_train)\n",
    "print(f\"Train Accuracy: {lr.score(X_train, y_train)*100:0.3f}%\")\n",
    "print(f\"Test Accuracy: {lr.score(X_test, y_test)*100:0.3f}%\")"
   ]
  },
  {
   "cell_type": "code",
   "execution_count": 15,
   "id": "5c1f0668-af29-4858-a6d3-ba7eef360135",
   "metadata": {},
   "outputs": [
    {
     "name": "stdout",
     "output_type": "stream",
     "text": [
      "Train Accuracy: 91.505%\n",
      "Test Accuracy: 82.000%\n"
     ]
    }
   ],
   "source": [
    "bag_lr = BaggingClassifier(base_estimator=lr,\n",
    "                        n_estimators=100,\n",
    "                        oob_score=True,\n",
    "                        bootstrap=True,\n",
    "                        bootstrap_features=False,\n",
    "                        n_jobs=-1,\n",
    "                        random_state=1)\n",
    "bag_lr.fit(X_train, y_train)\n",
    "print(f\"Train Accuracy: {bag_lr.score(X_train, y_train)*100:0.3f}%\")\n",
    "print(f\"Test Accuracy: {bag_lr.score(X_test, y_test)*100:0.3f}%\")"
   ]
  },
  {
   "cell_type": "code",
   "execution_count": 18,
   "id": "95bbba08-0f34-4e67-9c1c-ac8d04151907",
   "metadata": {},
   "outputs": [
    {
     "name": "stdout",
     "output_type": "stream",
     "text": [
      "0.8121279344265026 0.8278720655734974\n"
     ]
    }
   ],
   "source": [
    "bag_lr.fit(X_train, y_train)\n",
    "acc_test_na = bag_lr.score(X_test, y_test)\n",
    "ci_test_na = 1.96 * np.sqrt((acc_test_na*(1-acc_test_na)) / y_test.shape[0])\n",
    "\n",
    "test_na_lower = acc_test_na-ci_test_na\n",
    "test_na_upper = acc_test_na+ci_test_na\n",
    "\n",
    "print(test_na_lower, test_na_upper)"
   ]
  },
  {
   "cell_type": "markdown",
   "id": "46d92752-5488-4289-b21a-2df6f563f777",
   "metadata": {},
   "source": [
    "# Bootstrap Methods"
   ]
  },
  {
   "cell_type": "markdown",
   "id": "4551e41f-7b24-4cdc-b229-18b1c99340b2",
   "metadata": {},
   "source": [
    "## OOB Bootstrap with Percentile Method"
   ]
  },
  {
   "cell_type": "code",
   "execution_count": 28,
   "id": "9cc2d1c2-f9df-4226-b2b6-041fa3796e5d",
   "metadata": {},
   "outputs": [
    {
     "name": "stdout",
     "output_type": "stream",
     "text": [
      "Mean Bootstrap score 0.8082619147848489\n",
      "Score Std 0.002974766845857277\n",
      "0.8023469976770148 0.8137086804732581\n"
     ]
    }
   ],
   "source": [
    "from mlxtend.evaluate import bootstrap_point632_score\n",
    "bootstrap_scores = bootstrap_point632_score(bag_lr, \n",
    "                                            X_train, y_train, \n",
    "                                            n_splits=200, \n",
    "                                            method='oob',\n",
    "                                            random_seed=1)\n",
    "\n",
    "bootstrap_oob_mean = np.mean(bootstrap_scores)\n",
    "print('Mean Bootstrap score', bootstrap_oob_mean)\n",
    "print('Score Std', np.std(bootstrap_scores))\n",
    "\n",
    "bootstrap_oob_percentile_lower = np.percentile(bootstrap_scores, 2.5)\n",
    "bootstrap_oob_percentile_upper = np.percentile(bootstrap_scores, 97.5)\n",
    "\n",
    "print(bootstrap_oob_percentile_lower, bootstrap_oob_percentile_upper)"
   ]
  },
  {
   "cell_type": "markdown",
   "id": "9943988b-ff6f-4e18-8d47-a5e039462d81",
   "metadata": {
    "tags": []
   },
   "source": [
    "## .632 Bootstrap for Bagging with LR"
   ]
  },
  {
   "cell_type": "code",
   "execution_count": 16,
   "id": "bc9ae6e7-350b-4421-a15c-775b3f5c3428",
   "metadata": {},
   "outputs": [
    {
     "name": "stdout",
     "output_type": "stream",
     "text": [
      "Mean Bootstrap score 0.8369935074092995\n",
      "Score Std 0.002246524245362802\n"
     ]
    }
   ],
   "source": [
    "from mlxtend.evaluate import bootstrap_point632_score\n",
    "bootstrap_scores = bootstrap_point632_score(bag_lr, \n",
    "                                            X_train, y_train, \n",
    "                                            n_splits=200,\n",
    "                                            random_seed=1)\n",
    "\n",
    "bootstrap_632_mean = np.mean(bootstrap_scores)\n",
    "print('Mean Bootstrap score', bootstrap_632_mean)\n",
    "print('Score Std', np.std(bootstrap_scores))\n",
    "\n",
    "bootstrap_632_percentile_lower = np.percentile(bootstrap_scores, 2.5)\n",
    "bootstrap_632_percentile_upper = np.percentile(bootstrap_scores, 97.5)"
   ]
  },
  {
   "cell_type": "code",
   "execution_count": 17,
   "id": "b1fab89e-b6d0-4ebf-a538-dabad0ed3fed",
   "metadata": {},
   "outputs": [
    {
     "name": "stdout",
     "output_type": "stream",
     "text": [
      "0.8324235116707185 0.8407520702332321\n"
     ]
    }
   ],
   "source": [
    "print(bootstrap_632_percentile_lower, bootstrap_632_percentile_upper)"
   ]
  },
  {
   "cell_type": "markdown",
   "id": "ca5e343c-5208-4909-bf66-db790cd0fcc9",
   "metadata": {},
   "source": [
    "# Plot the Confidence Intervals"
   ]
  },
  {
   "cell_type": "code",
   "execution_count": 29,
   "id": "c6d83a69-cd7c-4af3-bcc3-901a44c74a2e",
   "metadata": {},
   "outputs": [
    {
     "data": {
      "image/png": "[encoded data removed]",
      "text/plain": [
       "<Figure size 576x144 with 1 Axes>"
      ]
     },
     "metadata": {
      "needs_background": "light"
     },
     "output_type": "display_data"
    }
   ],
   "source": [
    "labels = [\n",
    "    \"Normal approx. sample CI (test set, no bootstrap)\",\n",
    "    \"Bootstrap, percentile method\",\n",
    "    \".632 Bootstrap, percentile method\"\n",
    "]\n",
    "\n",
    "mean = [\n",
    "    acc_test_na,\n",
    "    bootstrap_oob_mean,\n",
    "    bootstrap_632_mean\n",
    "]\n",
    "\n",
    "lower_error = [\n",
    "    test_na_lower,\n",
    "    bootstrap_oob_percentile_lower,\n",
    "    bootstrap_632_percentile_lower\n",
    "]\n",
    "\n",
    "upper_error = [\n",
    "    test_na_upper,\n",
    "    bootstrap_oob_percentile_upper,\n",
    "    bootstrap_632_percentile_upper\n",
    "]\n",
    "\n",
    "\n",
    "asymmetric_error = [np.array(mean) - np.array(lower_error), \n",
    "                    np.array(upper_error) - np.array(mean)]\n",
    "\n",
    "\n",
    "fig, ax = plt.subplots(figsize=(8, 2))\n",
    "ax.errorbar(mean, np.arange(len(mean)), xerr=asymmetric_error, fmt='o')\n",
    "#ax.set_xlim([0.86, 1.0])\n",
    "ax.set_yticks(np.arange(len(mean)))\n",
    "ax.set_yticklabels(labels)\n",
    "ax.set_xlabel('Prediction Accuracy')\n",
    "ax.set_title('95% confidence intervals')\n",
    "plt.tight_layout()\n",
    "plt.savefig('CI_mnist.pdf')\n",
    "plt.show()"
   ]
  },
  {
   "cell_type": "markdown",
   "id": "26f0dd38-6e44-46bd-9124-d592172f6f6f",
   "metadata": {},
   "source": [
    "# Confusion Matrix"
   ]
  },
  {
   "cell_type": "code",
   "execution_count": 30,
   "id": "3755de64-6e62-4706-83f6-4285185298b3",
   "metadata": {},
   "outputs": [
    {
     "name": "stdout",
     "output_type": "stream",
     "text": [
      "[[1671  949]\n",
      " [ 891 5639]]\n"
     ]
    },
    {
     "data": {
      "image/png": "[encoded data removed]",
      "text/plain": [
       "<Figure size 216x216 with 2 Axes>"
      ]
     },
     "metadata": {
      "needs_background": "light"
     },
     "output_type": "display_data"
    }
   ],
   "source": [
    "from sklearn.preprocessing import StandardScaler\n",
    "from sklearn.pipeline import make_pipeline\n",
    "from mlxtend.evaluate import confusion_matrix\n",
    "from mlxtend.plotting import plot_confusion_matrix\n",
    "\n",
    "pipe = make_pipeline(StandardScaler(with_mean=False), \n",
    "                     bag_lr)\n",
    "\n",
    "pipe.fit(X_train, y_train)\n",
    "y_pred = pipe.predict(X_test)\n",
    "confmat = confusion_matrix(y_test, y_pred)\n",
    "print(confmat)\n",
    "\n",
    "fig, ax = plot_confusion_matrix(conf_mat=confmat,\n",
    "                                show_absolute=True,\n",
    "                                show_normed=True,\n",
    "                                colorbar=True,\n",
    "                                figsize=(3, 3))\n",
    "plt.show()"
   ]
  },
  {
   "cell_type": "code",
   "execution_count": null,
   "id": "41482281-efa6-4e5b-8942-170a7df7f1d0",
   "metadata": {},
   "outputs": [],
   "source": []
  }
 ],
 "metadata": {
  "kernelspec": {
   "display_name": "Python 3",
   "language": "python",
   "name": "python3"
  },
  "language_info": {
   "codemirror_mode": {
    "name": "ipython",
    "version": 3
   },
   "file_extension": ".py",
   "mimetype": "text/x-python",
   "name": "python",
   "nbconvert_exporter": "python",
   "pygments_lexer": "ipython3",
   "version": "3.8.8"
  }
 },
 "nbformat": 4,
 "nbformat_minor": 5
}
