{
 "cells": [
  {
   "cell_type": "markdown",
   "id": "5137f6d6-f788-4f10-aa49-49954b72668e",
   "metadata": {},
   "source": [
    "# 2020 Rotten Tomatoes Comments Sentiment Classification"
   ]
  },
  {
   "cell_type": "markdown",
   "id": "11727145",
   "metadata": {},
   "source": [
    "Read the original file from Kaggle:"
   ]
  },
  {
   "cell_type": "code",
   "execution_count": 213,
   "id": "8f2ab006",
   "metadata": {},
   "outputs": [],
   "source": [
    "import pandas as pd\n",
    "import re\n",
    "import numpy as np\n",
    "import os\n",
    "df = pd.read_csv(\"rotten_tomatoes_critic_reviews.csv\")"
   ]
  },
  {
   "cell_type": "code",
   "execution_count": 216,
   "id": "cf239dc7",
   "metadata": {
    "tags": []
   },
   "outputs": [
    {
     "data": {
      "text/html": [
       "<div>\n",
       "<style scoped>\n",
       "    .dataframe tbody tr th:only-of-type {\n",
       "        vertical-align: middle;\n",
       "    }\n",
       "\n",
       "    .dataframe tbody tr th {\n",
       "        vertical-align: top;\n",
       "    }\n",
       "\n",
       "    .dataframe thead th {\n",
       "        text-align: right;\n",
       "    }\n",
       "</style>\n",
       "<table border=\"1\" class=\"dataframe\">\n",
       "  <thead>\n",
       "    <tr style=\"text-align: right;\">\n",
       "      <th></th>\n",
       "      <th>rotten_tomatoes_link</th>\n",
       "      <th>critic_name</th>\n",
       "      <th>top_critic</th>\n",
       "      <th>publisher_name</th>\n",
       "      <th>review_type</th>\n",
       "      <th>review_score</th>\n",
       "      <th>review_date</th>\n",
       "      <th>review_content</th>\n",
       "    </tr>\n",
       "  </thead>\n",
       "  <tbody>\n",
       "    <tr>\n",
       "      <th>1116640</th>\n",
       "      <td>m/working_girl</td>\n",
       "      <td>Nicholas Bell</td>\n",
       "      <td>False</td>\n",
       "      <td>IONCINEMA.com</td>\n",
       "      <td>Fresh</td>\n",
       "      <td>4/5</td>\n",
       "      <td>2020-10-29</td>\n",
       "      <td>A buoyant, emotionally gratifying underdog sto...</td>\n",
       "    </tr>\n",
       "    <tr>\n",
       "      <th>1120068</th>\n",
       "      <td>m/x_the_man_with_the_x_ray_eyes</td>\n",
       "      <td>Matt Brunson</td>\n",
       "      <td>False</td>\n",
       "      <td>Film Frenzy</td>\n",
       "      <td>Fresh</td>\n",
       "      <td>3/4</td>\n",
       "      <td>2020-10-28</td>\n",
       "      <td>This nifty slice of sci-fi basically plays lik...</td>\n",
       "    </tr>\n",
       "    <tr>\n",
       "      <th>1078687</th>\n",
       "      <td>m/vernon_florida</td>\n",
       "      <td>Jordan M. Smith</td>\n",
       "      <td>False</td>\n",
       "      <td>IONCINEMA.com</td>\n",
       "      <td>Fresh</td>\n",
       "      <td>4/5</td>\n",
       "      <td>2020-10-28</td>\n",
       "      <td>Vernon, Florida feels more like an endearingly...</td>\n",
       "    </tr>\n",
       "    <tr>\n",
       "      <th>1058223</th>\n",
       "      <td>m/truman_show</td>\n",
       "      <td>Film Companion Staff</td>\n",
       "      <td>False</td>\n",
       "      <td>Film Companion</td>\n",
       "      <td>Fresh</td>\n",
       "      <td>NaN</td>\n",
       "      <td>2020-10-28</td>\n",
       "      <td>The ahead-of-its-time film spoke volumes about...</td>\n",
       "    </tr>\n",
       "    <tr>\n",
       "      <th>1024491</th>\n",
       "      <td>m/the_two_popes</td>\n",
       "      <td>Film Companion Staff</td>\n",
       "      <td>False</td>\n",
       "      <td>Film Companion</td>\n",
       "      <td>Fresh</td>\n",
       "      <td>NaN</td>\n",
       "      <td>2020-10-28</td>\n",
       "      <td>Anthony Hopkins plays doubt-ridden, conservati...</td>\n",
       "    </tr>\n",
       "  </tbody>\n",
       "</table>\n",
       "</div>"
      ],
      "text/plain": [
       "                    rotten_tomatoes_link           critic_name  top_critic  \\\n",
       "1116640                   m/working_girl         Nicholas Bell       False   \n",
       "1120068  m/x_the_man_with_the_x_ray_eyes          Matt Brunson       False   \n",
       "1078687                 m/vernon_florida       Jordan M. Smith       False   \n",
       "1058223                    m/truman_show  Film Companion Staff       False   \n",
       "1024491                  m/the_two_popes  Film Companion Staff       False   \n",
       "\n",
       "         publisher_name review_type review_score review_date  \\\n",
       "1116640   IONCINEMA.com       Fresh          4/5  2020-10-29   \n",
       "1120068     Film Frenzy       Fresh          3/4  2020-10-28   \n",
       "1078687   IONCINEMA.com       Fresh          4/5  2020-10-28   \n",
       "1058223  Film Companion       Fresh          NaN  2020-10-28   \n",
       "1024491  Film Companion       Fresh          NaN  2020-10-28   \n",
       "\n",
       "                                            review_content  \n",
       "1116640  A buoyant, emotionally gratifying underdog sto...  \n",
       "1120068  This nifty slice of sci-fi basically plays lik...  \n",
       "1078687  Vernon, Florida feels more like an endearingly...  \n",
       "1058223  The ahead-of-its-time film spoke volumes about...  \n",
       "1024491  Anthony Hopkins plays doubt-ridden, conservati...  "
      ]
     },
     "execution_count": 216,
     "metadata": {},
     "output_type": "execute_result"
    }
   ],
   "source": [
    "df.sort_values(by = \"review_date\", ascending = False).head()"
   ]
  },
  {
   "cell_type": "markdown",
   "id": "570fb6b9",
   "metadata": {},
   "source": [
    "Select all reviews published in the year of 2020"
   ]
  },
  {
   "cell_type": "code",
   "execution_count": 217,
   "id": "29b22d62",
   "metadata": {
    "tags": []
   },
   "outputs": [
    {
     "data": {
      "text/html": [
       "<div>\n",
       "<style scoped>\n",
       "    .dataframe tbody tr th:only-of-type {\n",
       "        vertical-align: middle;\n",
       "    }\n",
       "\n",
       "    .dataframe tbody tr th {\n",
       "        vertical-align: top;\n",
       "    }\n",
       "\n",
       "    .dataframe thead th {\n",
       "        text-align: right;\n",
       "    }\n",
       "</style>\n",
       "<table border=\"1\" class=\"dataframe\">\n",
       "  <thead>\n",
       "    <tr style=\"text-align: right;\">\n",
       "      <th></th>\n",
       "      <th>rotten_tomatoes_link</th>\n",
       "      <th>critic_name</th>\n",
       "      <th>top_critic</th>\n",
       "      <th>publisher_name</th>\n",
       "      <th>review_type</th>\n",
       "      <th>review_score</th>\n",
       "      <th>review_date</th>\n",
       "      <th>review_content</th>\n",
       "    </tr>\n",
       "  </thead>\n",
       "  <tbody>\n",
       "    <tr>\n",
       "      <th>1116640</th>\n",
       "      <td>m/working_girl</td>\n",
       "      <td>Nicholas Bell</td>\n",
       "      <td>False</td>\n",
       "      <td>IONCINEMA.com</td>\n",
       "      <td>Fresh</td>\n",
       "      <td>4/5</td>\n",
       "      <td>2020-10-29</td>\n",
       "      <td>A buoyant, emotionally gratifying underdog sto...</td>\n",
       "    </tr>\n",
       "    <tr>\n",
       "      <th>1122024</th>\n",
       "      <td>m/yes_god_yes</td>\n",
       "      <td>Sadie Bell</td>\n",
       "      <td>False</td>\n",
       "      <td>Thrillist</td>\n",
       "      <td>Fresh</td>\n",
       "      <td>NaN</td>\n",
       "      <td>2020-10-28</td>\n",
       "      <td>It's a little Heaven-sent slice of comedy.</td>\n",
       "    </tr>\n",
       "    <tr>\n",
       "      <th>1078687</th>\n",
       "      <td>m/vernon_florida</td>\n",
       "      <td>Jordan M. Smith</td>\n",
       "      <td>False</td>\n",
       "      <td>IONCINEMA.com</td>\n",
       "      <td>Fresh</td>\n",
       "      <td>4/5</td>\n",
       "      <td>2020-10-28</td>\n",
       "      <td>Vernon, Florida feels more like an endearingly...</td>\n",
       "    </tr>\n",
       "    <tr>\n",
       "      <th>1078144</th>\n",
       "      <td>m/venom_2018</td>\n",
       "      <td>David Hogan</td>\n",
       "      <td>False</td>\n",
       "      <td>hoganreviews.co.uk</td>\n",
       "      <td>Fresh</td>\n",
       "      <td>3/5</td>\n",
       "      <td>2020-10-28</td>\n",
       "      <td>Has some fun set-pieces and worked around the ...</td>\n",
       "    </tr>\n",
       "    <tr>\n",
       "      <th>1073797</th>\n",
       "      <td>m/us_2019</td>\n",
       "      <td>Dennis Harvey</td>\n",
       "      <td>False</td>\n",
       "      <td>48 Hills</td>\n",
       "      <td>Fresh</td>\n",
       "      <td>NaN</td>\n",
       "      <td>2020-10-28</td>\n",
       "      <td>Peele's eagerly awaited second feature is here...</td>\n",
       "    </tr>\n",
       "  </tbody>\n",
       "</table>\n",
       "</div>"
      ],
      "text/plain": [
       "        rotten_tomatoes_link      critic_name  top_critic      publisher_name  \\\n",
       "1116640       m/working_girl    Nicholas Bell       False       IONCINEMA.com   \n",
       "1122024        m/yes_god_yes       Sadie Bell       False           Thrillist   \n",
       "1078687     m/vernon_florida  Jordan M. Smith       False       IONCINEMA.com   \n",
       "1078144         m/venom_2018      David Hogan       False  hoganreviews.co.uk   \n",
       "1073797            m/us_2019    Dennis Harvey       False            48 Hills   \n",
       "\n",
       "        review_type review_score review_date  \\\n",
       "1116640       Fresh          4/5  2020-10-29   \n",
       "1122024       Fresh          NaN  2020-10-28   \n",
       "1078687       Fresh          4/5  2020-10-28   \n",
       "1078144       Fresh          3/5  2020-10-28   \n",
       "1073797       Fresh          NaN  2020-10-28   \n",
       "\n",
       "                                            review_content  \n",
       "1116640  A buoyant, emotionally gratifying underdog sto...  \n",
       "1122024         It's a little Heaven-sent slice of comedy.  \n",
       "1078687  Vernon, Florida feels more like an endearingly...  \n",
       "1078144  Has some fun set-pieces and worked around the ...  \n",
       "1073797  Peele's eagerly awaited second feature is here...  "
      ]
     },
     "execution_count": 217,
     "metadata": {},
     "output_type": "execute_result"
    }
   ],
   "source": [
    "rslt_df = df.loc[df['review_date'] > \"2019-12-31\"]\n",
    "rslt_df\n",
    "rslt_df.sort_values(by = \"review_date\", ascending = False).head()"
   ]
  },
  {
   "cell_type": "markdown",
   "id": "973f58e9",
   "metadata": {},
   "source": [
    "Output to CSV file:"
   ]
  },
  {
   "cell_type": "code",
   "execution_count": 218,
   "id": "5a7618e7",
   "metadata": {},
   "outputs": [],
   "source": [
    "rslt_df.to_csv(\"2020Reviews.csv\")"
   ]
  },
  {
   "cell_type": "code",
   "execution_count": 219,
   "id": "4315c497",
   "metadata": {},
   "outputs": [
    {
     "data": {
      "text/html": [
       "<div>\n",
       "<style scoped>\n",
       "    .dataframe tbody tr th:only-of-type {\n",
       "        vertical-align: middle;\n",
       "    }\n",
       "\n",
       "    .dataframe tbody tr th {\n",
       "        vertical-align: top;\n",
       "    }\n",
       "\n",
       "    .dataframe thead th {\n",
       "        text-align: right;\n",
       "    }\n",
       "</style>\n",
       "<table border=\"1\" class=\"dataframe\">\n",
       "  <thead>\n",
       "    <tr style=\"text-align: right;\">\n",
       "      <th></th>\n",
       "      <th>Unnamed: 0</th>\n",
       "      <th>rotten_tomatoes_link</th>\n",
       "      <th>critic_name</th>\n",
       "      <th>top_critic</th>\n",
       "      <th>publisher_name</th>\n",
       "      <th>review_type</th>\n",
       "      <th>review_score</th>\n",
       "      <th>review_date</th>\n",
       "      <th>review_content</th>\n",
       "    </tr>\n",
       "  </thead>\n",
       "  <tbody>\n",
       "    <tr>\n",
       "      <th>0</th>\n",
       "      <td>145</td>\n",
       "      <td>m/0814255</td>\n",
       "      <td>Sarah Knight Adamson</td>\n",
       "      <td>False</td>\n",
       "      <td>Sarah's Backstage Pass</td>\n",
       "      <td>Fresh</td>\n",
       "      <td>3/4</td>\n",
       "      <td>2020-01-13</td>\n",
       "      <td>As a former middle school teacher of gifted li...</td>\n",
       "    </tr>\n",
       "    <tr>\n",
       "      <th>1</th>\n",
       "      <td>146</td>\n",
       "      <td>m/0814255</td>\n",
       "      <td>Felicia Feaster</td>\n",
       "      <td>False</td>\n",
       "      <td>Charleston City Paper</td>\n",
       "      <td>Fresh</td>\n",
       "      <td>NaN</td>\n",
       "      <td>2020-01-23</td>\n",
       "      <td>The Lightning Thief is an admirable kid's fant...</td>\n",
       "    </tr>\n",
       "    <tr>\n",
       "      <th>2</th>\n",
       "      <td>147</td>\n",
       "      <td>m/0814255</td>\n",
       "      <td>Leigh Paatsch</td>\n",
       "      <td>False</td>\n",
       "      <td>Herald Sun (Australia)</td>\n",
       "      <td>Rotten</td>\n",
       "      <td>2.5/5</td>\n",
       "      <td>2020-06-26</td>\n",
       "      <td>OK, but only just.</td>\n",
       "    </tr>\n",
       "    <tr>\n",
       "      <th>3</th>\n",
       "      <td>148</td>\n",
       "      <td>m/0814255</td>\n",
       "      <td>Richard Propes</td>\n",
       "      <td>False</td>\n",
       "      <td>TheIndependentCritic.com</td>\n",
       "      <td>Rotten</td>\n",
       "      <td>2/4</td>\n",
       "      <td>2020-09-19</td>\n",
       "      <td>There's nothing resembling a spark in this fil...</td>\n",
       "    </tr>\n",
       "    <tr>\n",
       "      <th>4</th>\n",
       "      <td>289</td>\n",
       "      <td>m/0878835</td>\n",
       "      <td>Felicia Feaster</td>\n",
       "      <td>False</td>\n",
       "      <td>Charleston City Paper</td>\n",
       "      <td>Fresh</td>\n",
       "      <td>NaN</td>\n",
       "      <td>2020-01-22</td>\n",
       "      <td>Please Give is truly a film for our age; it's ...</td>\n",
       "    </tr>\n",
       "  </tbody>\n",
       "</table>\n",
       "</div>"
      ],
      "text/plain": [
       "   Unnamed: 0 rotten_tomatoes_link           critic_name  top_critic  \\\n",
       "0         145            m/0814255  Sarah Knight Adamson       False   \n",
       "1         146            m/0814255       Felicia Feaster       False   \n",
       "2         147            m/0814255         Leigh Paatsch       False   \n",
       "3         148            m/0814255        Richard Propes       False   \n",
       "4         289            m/0878835       Felicia Feaster       False   \n",
       "\n",
       "             publisher_name review_type review_score review_date  \\\n",
       "0    Sarah's Backstage Pass       Fresh          3/4  2020-01-13   \n",
       "1     Charleston City Paper       Fresh          NaN  2020-01-23   \n",
       "2    Herald Sun (Australia)      Rotten        2.5/5  2020-06-26   \n",
       "3  TheIndependentCritic.com      Rotten          2/4  2020-09-19   \n",
       "4     Charleston City Paper       Fresh          NaN  2020-01-22   \n",
       "\n",
       "                                      review_content  \n",
       "0  As a former middle school teacher of gifted li...  \n",
       "1  The Lightning Thief is an admirable kid's fant...  \n",
       "2                                 OK, but only just.  \n",
       "3  There's nothing resembling a spark in this fil...  \n",
       "4  Please Give is truly a film for our age; it's ...  "
      ]
     },
     "execution_count": 219,
     "metadata": {},
     "output_type": "execute_result"
    }
   ],
   "source": [
    "df = pd.read_csv(\"2020Reviews.csv\")\n",
    "df.head()"
   ]
  },
  {
   "cell_type": "code",
   "execution_count": 220,
   "id": "2724ca5a",
   "metadata": {},
   "outputs": [
    {
     "data": {
      "text/html": [
       "<div>\n",
       "<style scoped>\n",
       "    .dataframe tbody tr th:only-of-type {\n",
       "        vertical-align: middle;\n",
       "    }\n",
       "\n",
       "    .dataframe tbody tr th {\n",
       "        vertical-align: top;\n",
       "    }\n",
       "\n",
       "    .dataframe thead th {\n",
       "        text-align: right;\n",
       "    }\n",
       "</style>\n",
       "<table border=\"1\" class=\"dataframe\">\n",
       "  <thead>\n",
       "    <tr style=\"text-align: right;\">\n",
       "      <th></th>\n",
       "      <th>review_type</th>\n",
       "      <th>review_score</th>\n",
       "      <th>review_content</th>\n",
       "    </tr>\n",
       "  </thead>\n",
       "  <tbody>\n",
       "    <tr>\n",
       "      <th>0</th>\n",
       "      <td>Fresh</td>\n",
       "      <td>3/4</td>\n",
       "      <td>As a former middle school teacher of gifted li...</td>\n",
       "    </tr>\n",
       "    <tr>\n",
       "      <th>1</th>\n",
       "      <td>Fresh</td>\n",
       "      <td>NaN</td>\n",
       "      <td>The Lightning Thief is an admirable kid's fant...</td>\n",
       "    </tr>\n",
       "    <tr>\n",
       "      <th>2</th>\n",
       "      <td>Rotten</td>\n",
       "      <td>2.5/5</td>\n",
       "      <td>OK, but only just.</td>\n",
       "    </tr>\n",
       "    <tr>\n",
       "      <th>3</th>\n",
       "      <td>Rotten</td>\n",
       "      <td>2/4</td>\n",
       "      <td>There's nothing resembling a spark in this fil...</td>\n",
       "    </tr>\n",
       "    <tr>\n",
       "      <th>4</th>\n",
       "      <td>Fresh</td>\n",
       "      <td>NaN</td>\n",
       "      <td>Please Give is truly a film for our age; it's ...</td>\n",
       "    </tr>\n",
       "  </tbody>\n",
       "</table>\n",
       "</div>"
      ],
      "text/plain": [
       "  review_type review_score                                     review_content\n",
       "0       Fresh          3/4  As a former middle school teacher of gifted li...\n",
       "1       Fresh          NaN  The Lightning Thief is an admirable kid's fant...\n",
       "2      Rotten        2.5/5                                 OK, but only just.\n",
       "3      Rotten          2/4  There's nothing resembling a spark in this fil...\n",
       "4       Fresh          NaN  Please Give is truly a film for our age; it's ..."
      ]
     },
     "execution_count": 220,
     "metadata": {},
     "output_type": "execute_result"
    }
   ],
   "source": [
    "Link_Review = df [[\"review_type\", \"review_score\", \"review_content\"]]\n",
    "Link_Review.head()"
   ]
  },
  {
   "cell_type": "code",
   "execution_count": 221,
   "id": "029cd5d4",
   "metadata": {},
   "outputs": [
    {
     "data": {
      "text/plain": [
       "'As a former middle school teacher of gifted literature, I value all fairly well-made films for children and parents and this one is in that league.'"
      ]
     },
     "execution_count": 221,
     "metadata": {},
     "output_type": "execute_result"
    }
   ],
   "source": [
    "Link_Review[\"review_content\"][0] # Row selection output testing"
   ]
  },
  {
   "cell_type": "markdown",
   "id": "b77b84c9",
   "metadata": {},
   "source": [
    "# I. Removal of all punctuation in the dataset using regex"
   ]
  },
  {
   "cell_type": "code",
   "execution_count": 222,
   "id": "7e2e3788",
   "metadata": {},
   "outputs": [
    {
     "name": "stderr",
     "output_type": "stream",
     "text": [
      "<ipython-input-222-2c4d16282461>:1: FutureWarning: The default value of regex will change from True to False in a future version.\n",
      "  Link_Review[\"review_content\"] = Link_Review[\"review_content\"].str.replace(r'[^\\w\\s]+', '')\n",
      "<ipython-input-222-2c4d16282461>:1: SettingWithCopyWarning: \n",
      "A value is trying to be set on a copy of a slice from a DataFrame.\n",
      "Try using .loc[row_indexer,col_indexer] = value instead\n",
      "\n",
      "See the caveats in the documentation: https://pandas.pydata.org/pandas-docs/stable/user_guide/indexing.html#returning-a-view-versus-a-copy\n",
      "  Link_Review[\"review_content\"] = Link_Review[\"review_content\"].str.replace(r'[^\\w\\s]+', '')\n"
     ]
    }
   ],
   "source": [
    "Link_Review[\"review_content\"] = Link_Review[\"review_content\"].str.replace(r'[^\\w\\s]+', '')"
   ]
  },
  {
   "cell_type": "code",
   "execution_count": 223,
   "id": "b5b1ac2f",
   "metadata": {},
   "outputs": [
    {
     "data": {
      "text/plain": [
       "'As a former middle school teacher of gifted literature I value all fairly wellmade films for children and parents and this one is in that league'"
      ]
     },
     "execution_count": 223,
     "metadata": {},
     "output_type": "execute_result"
    }
   ],
   "source": [
    "Link_Review[\"review_content\"][0] #Row selection output testing"
   ]
  },
  {
   "cell_type": "markdown",
   "id": "a2e242c6",
   "metadata": {},
   "source": [
    "# II. Remove all numbers in comments (review_content column) (Need Justifications)"
   ]
  },
  {
   "cell_type": "code",
   "execution_count": 224,
   "id": "79af1582",
   "metadata": {},
   "outputs": [
    {
     "name": "stderr",
     "output_type": "stream",
     "text": [
      "<ipython-input-224-509870383d32>:1: FutureWarning: The default value of regex will change from True to False in a future version.\n",
      "  Link_Review[\"review_content\"] = Link_Review[\"review_content\"].str.replace('\\d+', '')\n",
      "<ipython-input-224-509870383d32>:1: SettingWithCopyWarning: \n",
      "A value is trying to be set on a copy of a slice from a DataFrame.\n",
      "Try using .loc[row_indexer,col_indexer] = value instead\n",
      "\n",
      "See the caveats in the documentation: https://pandas.pydata.org/pandas-docs/stable/user_guide/indexing.html#returning-a-view-versus-a-copy\n",
      "  Link_Review[\"review_content\"] = Link_Review[\"review_content\"].str.replace('\\d+', '')\n"
     ]
    }
   ],
   "source": [
    "Link_Review[\"review_content\"] = Link_Review[\"review_content\"].str.replace('\\d+', '') "
   ]
  },
  {
   "cell_type": "markdown",
   "id": "0cf9b4b1",
   "metadata": {},
   "source": [
    "# III. Adjust all words in comments to lower cases"
   ]
  },
  {
   "cell_type": "code",
   "execution_count": 225,
   "id": "5c745a47",
   "metadata": {},
   "outputs": [
    {
     "name": "stderr",
     "output_type": "stream",
     "text": [
      "<ipython-input-225-64184f94b561>:1: SettingWithCopyWarning: \n",
      "A value is trying to be set on a copy of a slice from a DataFrame.\n",
      "Try using .loc[row_indexer,col_indexer] = value instead\n",
      "\n",
      "See the caveats in the documentation: https://pandas.pydata.org/pandas-docs/stable/user_guide/indexing.html#returning-a-view-versus-a-copy\n",
      "  Link_Review[\"review_content\"] = Link_Review[\"review_content\"].str.lower()\n"
     ]
    }
   ],
   "source": [
    "Link_Review[\"review_content\"] = Link_Review[\"review_content\"].str.lower()"
   ]
  },
  {
   "cell_type": "code",
   "execution_count": 227,
   "id": "eba24f1b",
   "metadata": {},
   "outputs": [
    {
     "data": {
      "text/plain": [
       "'as a former middle school teacher of gifted literature i value all fairly wellmade films for children and parents and this one is in that league'"
      ]
     },
     "execution_count": 227,
     "metadata": {},
     "output_type": "execute_result"
    }
   ],
   "source": [
    "Link_Review[\"review_content\"][0] #Row selection output testing"
   ]
  },
  {
   "cell_type": "markdown",
   "id": "334855aa",
   "metadata": {},
   "source": [
    "# IV. Remove all stopwords in the comments (Need more modifications and cleanings) "
   ]
  },
  {
   "cell_type": "code",
   "execution_count": 228,
   "id": "2b4b7d9b",
   "metadata": {
    "tags": []
   },
   "outputs": [
    {
     "name": "stderr",
     "output_type": "stream",
     "text": [
      "[nltk_data] Downloading package stopwords to\n",
      "[nltk_data]     /Users/samuelfan/nltk_data...\n",
      "[nltk_data]   Package stopwords is already up-to-date!\n",
      "<ipython-input-228-36b0c0957e94>:23: SettingWithCopyWarning: \n",
      "A value is trying to be set on a copy of a slice from a DataFrame.\n",
      "Try using .loc[row_indexer,col_indexer] = value instead\n",
      "\n",
      "See the caveats in the documentation: https://pandas.pydata.org/pandas-docs/stable/user_guide/indexing.html#returning-a-view-versus-a-copy\n",
      "  Link_Review[\"review_content\"] = Link_Review[\"review_content\"].apply(stopword_remover1)\n"
     ]
    },
    {
     "data": {
      "text/html": [
       "<div>\n",
       "<style scoped>\n",
       "    .dataframe tbody tr th:only-of-type {\n",
       "        vertical-align: middle;\n",
       "    }\n",
       "\n",
       "    .dataframe tbody tr th {\n",
       "        vertical-align: top;\n",
       "    }\n",
       "\n",
       "    .dataframe thead th {\n",
       "        text-align: right;\n",
       "    }\n",
       "</style>\n",
       "<table border=\"1\" class=\"dataframe\">\n",
       "  <thead>\n",
       "    <tr style=\"text-align: right;\">\n",
       "      <th></th>\n",
       "      <th>review_type</th>\n",
       "      <th>review_score</th>\n",
       "      <th>review_content</th>\n",
       "    </tr>\n",
       "  </thead>\n",
       "  <tbody>\n",
       "    <tr>\n",
       "      <th>0</th>\n",
       "      <td>Fresh</td>\n",
       "      <td>3/4</td>\n",
       "      <td>former middle school teacher gifted literature...</td>\n",
       "    </tr>\n",
       "    <tr>\n",
       "      <th>1</th>\n",
       "      <td>Fresh</td>\n",
       "      <td>NaN</td>\n",
       "      <td>lightning thief admirable kids fantasy</td>\n",
       "    </tr>\n",
       "    <tr>\n",
       "      <th>2</th>\n",
       "      <td>Rotten</td>\n",
       "      <td>2.5/5</td>\n",
       "      <td>ok</td>\n",
       "    </tr>\n",
       "    <tr>\n",
       "      <th>3</th>\n",
       "      <td>Rotten</td>\n",
       "      <td>2/4</td>\n",
       "      <td>theres nothing resembling spark film anywhere</td>\n",
       "    </tr>\n",
       "    <tr>\n",
       "      <th>4</th>\n",
       "      <td>Fresh</td>\n",
       "      <td>NaN</td>\n",
       "      <td>please give truly film age darkly comic stuff ...</td>\n",
       "    </tr>\n",
       "  </tbody>\n",
       "</table>\n",
       "</div>"
      ],
      "text/plain": [
       "  review_type review_score                                     review_content\n",
       "0       Fresh          3/4  former middle school teacher gifted literature...\n",
       "1       Fresh          NaN             lightning thief admirable kids fantasy\n",
       "2      Rotten        2.5/5                                                 ok\n",
       "3      Rotten          2/4      theres nothing resembling spark film anywhere\n",
       "4       Fresh          NaN  please give truly film age darkly comic stuff ..."
      ]
     },
     "execution_count": 228,
     "metadata": {},
     "output_type": "execute_result"
    }
   ],
   "source": [
    "#NLTK Version\n",
    "import tokenizer\n",
    "import token\n",
    "import nltk\n",
    "nltk.download('stopwords')\n",
    "from nltk.corpus import stopwords\n",
    "from nltk.tokenize.toktok import ToktokTokenizer\n",
    "\n",
    "stop1 = set(stopwords.words('english'))\n",
    "# punctuation = list(string.punctuation)\n",
    "tokenizer=ToktokTokenizer()\n",
    "def stopword_remover1(text1):\n",
    "    letters_only = re.sub(\"[^a-zA-Z]\",  # Search for all non-letters\n",
    "                          \" \",          # Replace all non-letters with spaces\n",
    "                          str(text1))\n",
    "    \n",
    "    tokens = tokenizer.tokenize(text1)\n",
    "    tokens = [token.strip() for token in tokens]\n",
    "    filtered_words = [token for token in tokens if token.lower() not in stop1]\n",
    "    filtered_text = \" \".join(filtered_words)\n",
    "    return filtered_text\n",
    "\n",
    "Link_Review[\"review_content\"] = Link_Review[\"review_content\"].apply(stopword_remover1)\n",
    "Link_Review.head()"
   ]
  },
  {
   "cell_type": "code",
   "execution_count": 229,
   "id": "cc5c7e37",
   "metadata": {
    "tags": []
   },
   "outputs": [
    {
     "name": "stderr",
     "output_type": "stream",
     "text": [
      "<ipython-input-229-65d420dc3f2c>:19: SettingWithCopyWarning: \n",
      "A value is trying to be set on a copy of a slice from a DataFrame.\n",
      "Try using .loc[row_indexer,col_indexer] = value instead\n",
      "\n",
      "See the caveats in the documentation: https://pandas.pydata.org/pandas-docs/stable/user_guide/indexing.html#returning-a-view-versus-a-copy\n",
      "  Link_Review[\"review_content\"] = Link_Review[\"review_content\"].apply(stopword_remover2)\n"
     ]
    },
    {
     "data": {
      "text/html": [
       "<div>\n",
       "<style scoped>\n",
       "    .dataframe tbody tr th:only-of-type {\n",
       "        vertical-align: middle;\n",
       "    }\n",
       "\n",
       "    .dataframe tbody tr th {\n",
       "        vertical-align: top;\n",
       "    }\n",
       "\n",
       "    .dataframe thead th {\n",
       "        text-align: right;\n",
       "    }\n",
       "</style>\n",
       "<table border=\"1\" class=\"dataframe\">\n",
       "  <thead>\n",
       "    <tr style=\"text-align: right;\">\n",
       "      <th></th>\n",
       "      <th>review_type</th>\n",
       "      <th>review_score</th>\n",
       "      <th>review_content</th>\n",
       "    </tr>\n",
       "  </thead>\n",
       "  <tbody>\n",
       "    <tr>\n",
       "      <th>0</th>\n",
       "      <td>Fresh</td>\n",
       "      <td>3/4</td>\n",
       "      <td>middle school teacher gifted literature value ...</td>\n",
       "    </tr>\n",
       "    <tr>\n",
       "      <th>1</th>\n",
       "      <td>Fresh</td>\n",
       "      <td>NaN</td>\n",
       "      <td>lightning thief admirable kids fantasy</td>\n",
       "    </tr>\n",
       "    <tr>\n",
       "      <th>2</th>\n",
       "      <td>Rotten</td>\n",
       "      <td>2.5/5</td>\n",
       "      <td>ok</td>\n",
       "    </tr>\n",
       "    <tr>\n",
       "      <th>3</th>\n",
       "      <td>Rotten</td>\n",
       "      <td>2/4</td>\n",
       "      <td>theres resembling spark film</td>\n",
       "    </tr>\n",
       "    <tr>\n",
       "      <th>4</th>\n",
       "      <td>Fresh</td>\n",
       "      <td>NaN</td>\n",
       "      <td>truly film age darkly comic stuff mistress mis...</td>\n",
       "    </tr>\n",
       "  </tbody>\n",
       "</table>\n",
       "</div>"
      ],
      "text/plain": [
       "  review_type review_score                                     review_content\n",
       "0       Fresh          3/4  middle school teacher gifted literature value ...\n",
       "1       Fresh          NaN             lightning thief admirable kids fantasy\n",
       "2      Rotten        2.5/5                                                 ok\n",
       "3      Rotten          2/4                       theres resembling spark film\n",
       "4       Fresh          NaN  truly film age darkly comic stuff mistress mis..."
      ]
     },
     "execution_count": 229,
     "metadata": {},
     "output_type": "execute_result"
    }
   ],
   "source": [
    "#Scikit Learn Version\n",
    "from nltk import ToktokTokenizer\n",
    "\n",
    "from sklearn.feature_extraction import text\n",
    "stop2 = text.ENGLISH_STOP_WORDS\n",
    "\n",
    "tokenizer=ToktokTokenizer()\n",
    "def stopword_remover2(text2):\n",
    "    letters_only = re.sub(\"[^a-zA-Z]\",  # Search for all non-letters\n",
    "                          \" \",          # Replace all non-letters with spaces\n",
    "                          str(text2))\n",
    "    \n",
    "    tokens = tokenizer.tokenize(text2)\n",
    "    tokens = [token.strip() for token in tokens]\n",
    "    filtered_words = [token for token in tokens if token.lower() not in stop2]\n",
    "    filtered_text = \" \".join(filtered_words)\n",
    "    return filtered_text\n",
    "\n",
    "Link_Review[\"review_content\"] = Link_Review[\"review_content\"].apply(stopword_remover2)\n",
    "Link_Review.head()"
   ]
  },
  {
   "cell_type": "markdown",
   "id": "daf670e7",
   "metadata": {},
   "source": [
    "# V. Choosing Lemmatization over Stemming (Able to generate outputs with tokenized results)"
   ]
  },
  {
   "cell_type": "code",
   "execution_count": 230,
   "id": "1f67796c",
   "metadata": {},
   "outputs": [
    {
     "name": "stderr",
     "output_type": "stream",
     "text": [
      "<ipython-input-230-981741887fa0>:14: SettingWithCopyWarning: \n",
      "A value is trying to be set on a copy of a slice from a DataFrame.\n",
      "Try using .loc[row_indexer,col_indexer] = value instead\n",
      "\n",
      "See the caveats in the documentation: https://pandas.pydata.org/pandas-docs/stable/user_guide/indexing.html#returning-a-view-versus-a-copy\n",
      "  Link_Review[\"review_content\"] = Link_Review[\"review_content\"].apply(lemmatized_word)\n"
     ]
    },
    {
     "data": {
      "text/html": [
       "<div>\n",
       "<style scoped>\n",
       "    .dataframe tbody tr th:only-of-type {\n",
       "        vertical-align: middle;\n",
       "    }\n",
       "\n",
       "    .dataframe tbody tr th {\n",
       "        vertical-align: top;\n",
       "    }\n",
       "\n",
       "    .dataframe thead th {\n",
       "        text-align: right;\n",
       "    }\n",
       "</style>\n",
       "<table border=\"1\" class=\"dataframe\">\n",
       "  <thead>\n",
       "    <tr style=\"text-align: right;\">\n",
       "      <th></th>\n",
       "      <th>review_type</th>\n",
       "      <th>review_score</th>\n",
       "      <th>review_content</th>\n",
       "    </tr>\n",
       "  </thead>\n",
       "  <tbody>\n",
       "    <tr>\n",
       "      <th>0</th>\n",
       "      <td>Fresh</td>\n",
       "      <td>3/4</td>\n",
       "      <td>middle school teacher gifted literature value ...</td>\n",
       "    </tr>\n",
       "    <tr>\n",
       "      <th>1</th>\n",
       "      <td>Fresh</td>\n",
       "      <td>NaN</td>\n",
       "      <td>lightning thief admirable kid fantasy</td>\n",
       "    </tr>\n",
       "    <tr>\n",
       "      <th>2</th>\n",
       "      <td>Rotten</td>\n",
       "      <td>2.5/5</td>\n",
       "      <td>ok</td>\n",
       "    </tr>\n",
       "    <tr>\n",
       "      <th>3</th>\n",
       "      <td>Rotten</td>\n",
       "      <td>2/4</td>\n",
       "      <td>there resembling spark film</td>\n",
       "    </tr>\n",
       "    <tr>\n",
       "      <th>4</th>\n",
       "      <td>Fresh</td>\n",
       "      <td>NaN</td>\n",
       "      <td>truly film age darkly comic stuff mistress mis...</td>\n",
       "    </tr>\n",
       "  </tbody>\n",
       "</table>\n",
       "</div>"
      ],
      "text/plain": [
       "  review_type review_score                                     review_content\n",
       "0       Fresh          3/4  middle school teacher gifted literature value ...\n",
       "1       Fresh          NaN              lightning thief admirable kid fantasy\n",
       "2      Rotten        2.5/5                                                 ok\n",
       "3      Rotten          2/4                        there resembling spark film\n",
       "4       Fresh          NaN  truly film age darkly comic stuff mistress mis..."
      ]
     },
     "execution_count": 230,
     "metadata": {},
     "output_type": "execute_result"
    }
   ],
   "source": [
    "from nltk.corpus import wordnet # To get words in dictionary with their parts of speech\n",
    "from nltk.stem import WordNetLemmatizer # lemmatizes word based on it's parts of speech\n",
    "from nltk.tokenize import word_tokenize,sent_tokenize\n",
    "from nltk.stem.porter import PorterStemmer\n",
    "\n",
    "w_tokenizer = nltk.tokenize.WhitespaceTokenizer()\n",
    "lemmatizer = nltk.stem.WordNetLemmatizer()\n",
    "\n",
    "def lemmatized_word(text):\n",
    "    words = w_tokenizer.tokenize(text)\n",
    "    lemmatized_text = \" \".join([lemmatizer.lemmatize(word) for word in words])\n",
    "    return lemmatized_text\n",
    "\n",
    "Link_Review[\"review_content\"] = Link_Review[\"review_content\"].apply(lemmatized_word)\n",
    "Link_Review.head()\n",
    "\n",
    "#Still need justificaiton to explain why choosing lemmatization over stemming\n",
    "#Explore feasibility of combining both lemmatization and stemming"
   ]
  },
  {
   "cell_type": "code",
   "execution_count": 16,
   "id": "59eb5000",
   "metadata": {},
   "outputs": [],
   "source": [
    "#Direct tokenization from pre-lemmatized data\n",
    "\n",
    "#import nltk\n",
    "#from nltk import sent_tokenize, word_tokenize\n",
    "#nltk.download('punkt')\n",
    "#nltk.download('wordnet')\n",
    "\n",
    "#Link_Review[\"tokenized_review_content\"] = Link_Review.apply(lambda row: nltk.word_tokenize(row[\"review_content\"]), axis=1)\n",
    "#Link_Review"
   ]
  },
  {
   "cell_type": "markdown",
   "id": "6636cacb",
   "metadata": {},
   "source": [
    "# VI. Transform series to list"
   ]
  },
  {
   "cell_type": "code",
   "execution_count": 231,
   "id": "5c1e20b2",
   "metadata": {
    "tags": []
   },
   "outputs": [],
   "source": [
    "type(Link_Review[\"review_content\"]) #Determining type of the \"review_content\"\n",
    "\n",
    "Series_Link_Review = Link_Review[\"review_content\"]\n",
    "Listed_Link_Review = Series_Link_Review.tolist()\n",
    "\n",
    "type(Listed_Link_Review) #Confirmation for listed result\n",
    "\n",
    "Listed_Link_Review\n",
    "\n",
    "values = ','.join(map(str, Series_Link_Review))"
   ]
  },
  {
   "cell_type": "code",
   "execution_count": 18,
   "id": "766f7562",
   "metadata": {},
   "outputs": [],
   "source": [
    "#Top 200 Words Only\n",
    "\n",
    "#from collections import Counter\n",
    "#top50 = [x[0] for x in Counter(\" \".join(Link_Review[\"review_content\"]).split()).most_common(200)]\n",
    "#top50"
   ]
  },
  {
   "cell_type": "markdown",
   "id": "006ec18d",
   "metadata": {},
   "source": [
    "# VII. Get the 200 most frequent words"
   ]
  },
  {
   "cell_type": "code",
   "execution_count": 237,
   "id": "be1bfe57",
   "metadata": {
    "tags": []
   },
   "outputs": [],
   "source": [
    "#Top 200 words with frequency\n",
    "from sklearn.feature_extraction.text import CountVectorizer\n",
    "\n",
    "def get_top_n_words(Listed_Link_Review, n=None):\n",
    "    vec = CountVectorizer().fit(Listed_Link_Review)\n",
    "    bag_of_words = vec.transform(Listed_Link_Review)\n",
    "    sum_words = bag_of_words.sum(axis=0) \n",
    "    words_freq = [(word, sum_words[0, idx]) for word, idx in vec.vocabulary_.items()]\n",
    "    words_freq =sorted(words_freq, key = lambda x: x[1], reverse=True)\n",
    "    return words_freq[:n]\n",
    "\n",
    "common_words = get_top_n_words(Listed_Link_Review, 200)\n",
    "#for word, freq in common_words:\n",
    "    #print(word, freq)"
   ]
  },
  {
   "cell_type": "code",
   "execution_count": 238,
   "id": "3573e550-2c9e-4098-8bd7-b046df18159e",
   "metadata": {},
   "outputs": [
    {
     "name": "stderr",
     "output_type": "stream",
     "text": [
      "<ipython-input-238-c89643d6ea5f>:1: SettingWithCopyWarning: \n",
      "A value is trying to be set on a copy of a slice from a DataFrame.\n",
      "Try using .loc[row_indexer,col_indexer] = value instead\n",
      "\n",
      "See the caveats in the documentation: https://pandas.pydata.org/pandas-docs/stable/user_guide/indexing.html#returning-a-view-versus-a-copy\n",
      "  Link_Review['word_count'] = Link_Review['review_content'].str.count(' ') + 1\n"
     ]
    },
    {
     "data": {
      "text/html": [
       "<div>\n",
       "<style scoped>\n",
       "    .dataframe tbody tr th:only-of-type {\n",
       "        vertical-align: middle;\n",
       "    }\n",
       "\n",
       "    .dataframe tbody tr th {\n",
       "        vertical-align: top;\n",
       "    }\n",
       "\n",
       "    .dataframe thead th {\n",
       "        text-align: right;\n",
       "    }\n",
       "</style>\n",
       "<table border=\"1\" class=\"dataframe\">\n",
       "  <thead>\n",
       "    <tr style=\"text-align: right;\">\n",
       "      <th></th>\n",
       "      <th>review_type</th>\n",
       "      <th>review_score</th>\n",
       "      <th>review_content</th>\n",
       "      <th>word_count</th>\n",
       "    </tr>\n",
       "  </thead>\n",
       "  <tbody>\n",
       "    <tr>\n",
       "      <th>0</th>\n",
       "      <td>Fresh</td>\n",
       "      <td>3/4</td>\n",
       "      <td>middle school teacher gifted literature value ...</td>\n",
       "      <td>12</td>\n",
       "    </tr>\n",
       "    <tr>\n",
       "      <th>1</th>\n",
       "      <td>Fresh</td>\n",
       "      <td>NaN</td>\n",
       "      <td>lightning thief admirable kid fantasy</td>\n",
       "      <td>5</td>\n",
       "    </tr>\n",
       "    <tr>\n",
       "      <th>2</th>\n",
       "      <td>Rotten</td>\n",
       "      <td>2.5/5</td>\n",
       "      <td>ok</td>\n",
       "      <td>1</td>\n",
       "    </tr>\n",
       "    <tr>\n",
       "      <th>3</th>\n",
       "      <td>Rotten</td>\n",
       "      <td>2/4</td>\n",
       "      <td>there resembling spark film</td>\n",
       "      <td>4</td>\n",
       "    </tr>\n",
       "    <tr>\n",
       "      <th>4</th>\n",
       "      <td>Fresh</td>\n",
       "      <td>NaN</td>\n",
       "      <td>truly film age darkly comic stuff mistress mis...</td>\n",
       "      <td>9</td>\n",
       "    </tr>\n",
       "  </tbody>\n",
       "</table>\n",
       "</div>"
      ],
      "text/plain": [
       "  review_type review_score                                     review_content  \\\n",
       "0       Fresh          3/4  middle school teacher gifted literature value ...   \n",
       "1       Fresh          NaN              lightning thief admirable kid fantasy   \n",
       "2      Rotten        2.5/5                                                 ok   \n",
       "3      Rotten          2/4                        there resembling spark film   \n",
       "4       Fresh          NaN  truly film age darkly comic stuff mistress mis...   \n",
       "\n",
       "   word_count  \n",
       "0          12  \n",
       "1           5  \n",
       "2           1  \n",
       "3           4  \n",
       "4           9  "
      ]
     },
     "execution_count": 238,
     "metadata": {},
     "output_type": "execute_result"
    }
   ],
   "source": [
    "Link_Review['word_count'] = Link_Review['review_content'].str.count(' ') + 1\n",
    "Link_Review.head()"
   ]
  },
  {
   "cell_type": "code",
   "execution_count": 240,
   "id": "487927cf-c301-4230-a86b-04d6b5cf57ce",
   "metadata": {},
   "outputs": [
    {
     "data": {
      "text/plain": [
       "11.426638394613736"
      ]
     },
     "execution_count": 240,
     "metadata": {},
     "output_type": "execute_result"
    }
   ],
   "source": [
    "import math\n",
    "pd.Series.mean(Link_Review['word_count']) # mean word count of each review"
   ]
  },
  {
   "cell_type": "code",
   "execution_count": 241,
   "id": "fb78919f-b824-420d-b0e4-5c99e6bf758c",
   "metadata": {
    "tags": []
   },
   "outputs": [
    {
     "name": "stderr",
     "output_type": "stream",
     "text": [
      "<ipython-input-241-3d96f0f74920>:1: SettingWithCopyWarning: \n",
      "A value is trying to be set on a copy of a slice from a DataFrame.\n",
      "Try using .loc[row_indexer,col_indexer] = value instead\n",
      "\n",
      "See the caveats in the documentation: https://pandas.pydata.org/pandas-docs/stable/user_guide/indexing.html#returning-a-view-versus-a-copy\n",
      "  Link_Review['Sentiment'] = None\n",
      "<ipython-input-241-3d96f0f74920>:4: SettingWithCopyWarning: \n",
      "A value is trying to be set on a copy of a slice from a DataFrame\n",
      "\n",
      "See the caveats in the documentation: https://pandas.pydata.org/pandas-docs/stable/user_guide/indexing.html#returning-a-view-versus-a-copy\n",
      "  Link_Review['Sentiment'][i] = 1\n",
      "/Users/samuelfan/opt/anaconda3/lib/python3.8/site-packages/IPython/core/interactiveshell.py:3437: SettingWithCopyWarning: \n",
      "A value is trying to be set on a copy of a slice from a DataFrame\n",
      "\n",
      "See the caveats in the documentation: https://pandas.pydata.org/pandas-docs/stable/user_guide/indexing.html#returning-a-view-versus-a-copy\n",
      "  exec(code_obj, self.user_global_ns, self.user_ns)\n",
      "<ipython-input-241-3d96f0f74920>:6: SettingWithCopyWarning: \n",
      "A value is trying to be set on a copy of a slice from a DataFrame\n",
      "\n",
      "See the caveats in the documentation: https://pandas.pydata.org/pandas-docs/stable/user_guide/indexing.html#returning-a-view-versus-a-copy\n",
      "  Link_Review['Sentiment'][i] = -1\n"
     ]
    }
   ],
   "source": [
    "Link_Review['Sentiment'] = None\n",
    "for i in range(len(Link_Review)): \n",
    "    if Link_Review['review_type'][i] == \"Fresh\": \n",
    "        Link_Review['Sentiment'][i] = 1\n",
    "    else: \n",
    "        Link_Review['Sentiment'][i] = -1"
   ]
  },
  {
   "cell_type": "code",
   "execution_count": 242,
   "id": "5e7206db-523a-4081-80d9-0424446e9393",
   "metadata": {},
   "outputs": [
    {
     "data": {
      "text/html": [
       "<div>\n",
       "<style scoped>\n",
       "    .dataframe tbody tr th:only-of-type {\n",
       "        vertical-align: middle;\n",
       "    }\n",
       "\n",
       "    .dataframe tbody tr th {\n",
       "        vertical-align: top;\n",
       "    }\n",
       "\n",
       "    .dataframe thead th {\n",
       "        text-align: right;\n",
       "    }\n",
       "</style>\n",
       "<table border=\"1\" class=\"dataframe\">\n",
       "  <thead>\n",
       "    <tr style=\"text-align: right;\">\n",
       "      <th></th>\n",
       "      <th>review_type</th>\n",
       "      <th>review_score</th>\n",
       "      <th>review_content</th>\n",
       "      <th>word_count</th>\n",
       "      <th>Sentiment</th>\n",
       "    </tr>\n",
       "  </thead>\n",
       "  <tbody>\n",
       "    <tr>\n",
       "      <th>0</th>\n",
       "      <td>Fresh</td>\n",
       "      <td>3/4</td>\n",
       "      <td>middle school teacher gifted literature value ...</td>\n",
       "      <td>12</td>\n",
       "      <td>1</td>\n",
       "    </tr>\n",
       "    <tr>\n",
       "      <th>1</th>\n",
       "      <td>Fresh</td>\n",
       "      <td>NaN</td>\n",
       "      <td>lightning thief admirable kid fantasy</td>\n",
       "      <td>5</td>\n",
       "      <td>1</td>\n",
       "    </tr>\n",
       "    <tr>\n",
       "      <th>2</th>\n",
       "      <td>Rotten</td>\n",
       "      <td>2.5/5</td>\n",
       "      <td>ok</td>\n",
       "      <td>1</td>\n",
       "      <td>-1</td>\n",
       "    </tr>\n",
       "    <tr>\n",
       "      <th>3</th>\n",
       "      <td>Rotten</td>\n",
       "      <td>2/4</td>\n",
       "      <td>there resembling spark film</td>\n",
       "      <td>4</td>\n",
       "      <td>-1</td>\n",
       "    </tr>\n",
       "    <tr>\n",
       "      <th>4</th>\n",
       "      <td>Fresh</td>\n",
       "      <td>NaN</td>\n",
       "      <td>truly film age darkly comic stuff mistress mis...</td>\n",
       "      <td>9</td>\n",
       "      <td>1</td>\n",
       "    </tr>\n",
       "  </tbody>\n",
       "</table>\n",
       "</div>"
      ],
      "text/plain": [
       "  review_type review_score                                     review_content  \\\n",
       "0       Fresh          3/4  middle school teacher gifted literature value ...   \n",
       "1       Fresh          NaN              lightning thief admirable kid fantasy   \n",
       "2      Rotten        2.5/5                                                 ok   \n",
       "3      Rotten          2/4                        there resembling spark film   \n",
       "4       Fresh          NaN  truly film age darkly comic stuff mistress mis...   \n",
       "\n",
       "   word_count Sentiment  \n",
       "0          12         1  \n",
       "1           5         1  \n",
       "2           1        -1  \n",
       "3           4        -1  \n",
       "4           9         1  "
      ]
     },
     "execution_count": 242,
     "metadata": {},
     "output_type": "execute_result"
    }
   ],
   "source": [
    "Link_Review.head()\n",
    "# specify why choose 1 and -1 in the report\n",
    "# look up explanantions online, must be a reason. Maybe 1 and -1 opposite"
   ]
  },
  {
   "cell_type": "code",
   "execution_count": 243,
   "id": "88ef66c4-4696-48cc-8bdc-1e51a376022b",
   "metadata": {},
   "outputs": [
    {
     "data": {
      "text/html": [
       "<div>\n",
       "<style scoped>\n",
       "    .dataframe tbody tr th:only-of-type {\n",
       "        vertical-align: middle;\n",
       "    }\n",
       "\n",
       "    .dataframe tbody tr th {\n",
       "        vertical-align: top;\n",
       "    }\n",
       "\n",
       "    .dataframe thead th {\n",
       "        text-align: right;\n",
       "    }\n",
       "</style>\n",
       "<table border=\"1\" class=\"dataframe\">\n",
       "  <thead>\n",
       "    <tr style=\"text-align: right;\">\n",
       "      <th></th>\n",
       "      <th>Word</th>\n",
       "      <th>Word_Count</th>\n",
       "      <th>Positivity</th>\n",
       "    </tr>\n",
       "  </thead>\n",
       "  <tbody>\n",
       "    <tr>\n",
       "      <th>0</th>\n",
       "      <td>like</td>\n",
       "      <td>3016</td>\n",
       "      <td>True</td>\n",
       "    </tr>\n",
       "    <tr>\n",
       "      <th>1</th>\n",
       "      <td>good</td>\n",
       "      <td>1952</td>\n",
       "      <td>True</td>\n",
       "    </tr>\n",
       "    <tr>\n",
       "      <th>2</th>\n",
       "      <td>best</td>\n",
       "      <td>1500</td>\n",
       "      <td>True</td>\n",
       "    </tr>\n",
       "    <tr>\n",
       "      <th>3</th>\n",
       "      <td>horror</td>\n",
       "      <td>1413</td>\n",
       "      <td>False</td>\n",
       "    </tr>\n",
       "    <tr>\n",
       "      <th>4</th>\n",
       "      <td>fun</td>\n",
       "      <td>1410</td>\n",
       "      <td>True</td>\n",
       "    </tr>\n",
       "  </tbody>\n",
       "</table>\n",
       "</div>"
      ],
      "text/plain": [
       "     Word  Word_Count  Positivity\n",
       "0    like        3016        True\n",
       "1    good        1952        True\n",
       "2    best        1500        True\n",
       "3  horror        1413       False\n",
       "4     fun        1410        True"
      ]
     },
     "execution_count": 243,
     "metadata": {},
     "output_type": "execute_result"
    }
   ],
   "source": [
    "selected_words = pd.read_csv(\"Selected Sentiment Words from Top 200 Most Frequent Words.txt\", sep = \" \", header = None)\n",
    "selected_words.columns = [\"Word\", \"Word_Count\", \"Positivity\"]\n",
    "selected_words.head()"
   ]
  },
  {
   "cell_type": "code",
   "execution_count": 244,
   "id": "7a72d69e-7c2d-4d16-a83c-85bc1c2b1d79",
   "metadata": {},
   "outputs": [],
   "source": [
    "words_only = selected_words[\"Word\"]\n",
    "listed_words_only = list(words_only)\n",
    "#Link_Review['Word_score'] = 0\n",
    "#for i in range(len(listed_words_only)): \n",
    " #   for j in range(len(Link_Review['review_content'])): \n",
    "  #      if listed_words_only[i] in Link_Review['review_content'][j]: \n",
    "   #         Link_Review['Word_score'][j] += 1\n",
    "    #    else: \n",
    "     #       Link_Review['Word_score'][j] = 0"
   ]
  },
  {
   "cell_type": "markdown",
   "id": "f6b83a0c-b833-4614-968d-540b402aff62",
   "metadata": {},
   "source": [
    "# Vectorize feature with top 65 most common words"
   ]
  },
  {
   "cell_type": "code",
   "execution_count": 245,
   "id": "beb5e467-ba1d-4b51-84a2-de49042d4c87",
   "metadata": {},
   "outputs": [],
   "source": [
    "from sklearn.feature_extraction.text import CountVectorizer\n",
    "cv = CountVectorizer()\n",
    "cv_train = cv.fit_transform(Link_Review[\"review_content\"])"
   ]
  },
  {
   "cell_type": "code",
   "execution_count": 246,
   "id": "df01b9b7-63ef-4cbd-9cfc-37c24299f1e3",
   "metadata": {
    "tags": []
   },
   "outputs": [],
   "source": [
    "list_1 = []\n",
    "for i in range(len(listed_words_only)): \n",
    "    n = cv.get_feature_names().index(listed_words_only[i])\n",
    "    list_1.append(n)"
   ]
  },
  {
   "cell_type": "code",
   "execution_count": 247,
   "id": "5b2e7a4e-ac9e-4d48-8a8b-eadce3802822",
   "metadata": {},
   "outputs": [],
   "source": [
    "# split df - positive and negative sentiment:\n",
    "positive = Link_Review[Link_Review['Sentiment'] == 1]\n",
    "negative = Link_Review[Link_Review['Sentiment'] == -1]"
   ]
  },
  {
   "cell_type": "markdown",
   "id": "443f863d-1bec-4b0f-98e6-9f45212982bf",
   "metadata": {
    "tags": []
   },
   "source": [
    "# Save Finalized data and Load "
   ]
  },
  {
   "cell_type": "code",
   "execution_count": 248,
   "id": "7141c085-e7f8-416c-857b-75ae7c478020",
   "metadata": {},
   "outputs": [
    {
     "data": {
      "text/html": [
       "<div>\n",
       "<style scoped>\n",
       "    .dataframe tbody tr th:only-of-type {\n",
       "        vertical-align: middle;\n",
       "    }\n",
       "\n",
       "    .dataframe tbody tr th {\n",
       "        vertical-align: top;\n",
       "    }\n",
       "\n",
       "    .dataframe thead th {\n",
       "        text-align: right;\n",
       "    }\n",
       "</style>\n",
       "<table border=\"1\" class=\"dataframe\">\n",
       "  <thead>\n",
       "    <tr style=\"text-align: right;\">\n",
       "      <th></th>\n",
       "      <th>review_content</th>\n",
       "      <th>Sentiment</th>\n",
       "    </tr>\n",
       "  </thead>\n",
       "  <tbody>\n",
       "    <tr>\n",
       "      <th>0</th>\n",
       "      <td>middle school teacher gifted literature value ...</td>\n",
       "      <td>1</td>\n",
       "    </tr>\n",
       "    <tr>\n",
       "      <th>1</th>\n",
       "      <td>lightning thief admirable kid fantasy</td>\n",
       "      <td>1</td>\n",
       "    </tr>\n",
       "    <tr>\n",
       "      <th>2</th>\n",
       "      <td>ok</td>\n",
       "      <td>-1</td>\n",
       "    </tr>\n",
       "    <tr>\n",
       "      <th>3</th>\n",
       "      <td>there resembling spark film</td>\n",
       "      <td>-1</td>\n",
       "    </tr>\n",
       "    <tr>\n",
       "      <th>4</th>\n",
       "      <td>truly film age darkly comic stuff mistress mis...</td>\n",
       "      <td>1</td>\n",
       "    </tr>\n",
       "  </tbody>\n",
       "</table>\n",
       "</div>"
      ],
      "text/plain": [
       "                                      review_content Sentiment\n",
       "0  middle school teacher gifted literature value ...         1\n",
       "1              lightning thief admirable kid fantasy         1\n",
       "2                                                 ok        -1\n",
       "3                        there resembling spark film        -1\n",
       "4  truly film age darkly comic stuff mistress mis...         1"
      ]
     },
     "execution_count": 248,
     "metadata": {},
     "output_type": "execute_result"
    }
   ],
   "source": [
    "finalized_reviews = Link_Review[['review_content','Sentiment']]\n",
    "finalized_reviews.head()"
   ]
  },
  {
   "cell_type": "code",
   "execution_count": 249,
   "id": "41182430-9608-4250-b346-86256eac92d4",
   "metadata": {},
   "outputs": [],
   "source": [
    "finalized_reviews.to_csv(\"finalized_reviews.csv\")"
   ]
  },
  {
   "cell_type": "code",
   "execution_count": 253,
   "id": "364f2823-6138-4130-b142-a130383a095c",
   "metadata": {
    "tags": []
   },
   "outputs": [
    {
     "name": "stdout",
     "output_type": "stream",
     "text": [
      "X_train.shape: (36596, 1)\n",
      "y_train.shape: (36596,)\n",
      "X_test.shape: (9150, 1)\n",
      "y_test.shape: (9150,)\n",
      "Train/Valid/Test sizes: 36596 7320 9150\n"
     ]
    }
   ],
   "source": [
    "from sklearn.model_selection import train_test_split\n",
    "X_data = Link_Review[['review_content']]\n",
    "y_data = Link_Review['Sentiment'].values\n",
    "\n",
    "X_train, X_test, y_train, y_test = train_test_split(X_data, y_data, \n",
    "                                                    test_size = 0.2, \n",
    "                                                    random_state=1, \n",
    "                                                    stratify = y_data)\n",
    "X_train_sub, X_valid, y_train_sub, y_valid = train_test_split(X_train, y_train, \n",
    "                                                              test_size = 0.2, \n",
    "                                                              random_state=1, \n",
    "                                                              stratify = y_train)\n",
    "\n",
    "print('X_train.shape:', X_train.shape)\n",
    "print('y_train.shape:', y_train.shape)\n",
    "print('X_test.shape:', X_test.shape)\n",
    "print('y_test.shape:', y_test.shape)\n",
    "print('Train/Valid/Test sizes:', y_train.shape[0], y_valid.shape[0], y_test.shape[0])"
   ]
  },
  {
   "cell_type": "code",
   "execution_count": 254,
   "id": "6514a54a-9c37-40f6-8d8c-924a065406db",
   "metadata": {
    "tags": []
   },
   "outputs": [],
   "source": [
    "# count vectorizer:\n",
    "from sklearn.feature_extraction.text import CountVectorizer\n",
    "vec = CountVectorizer()\n",
    "# vectorize X_train and X_test\n",
    "train_matrix = vec.fit_transform(X_train['review_content'].values.astype('U'))\n",
    "test_matrix = vec.transform(X_test['review_content'].values.astype('U'))\n",
    "# vectorize X_train_sub and X_valid\n",
    "# train_sub_matrix = vec.fit_transform(X_train_sub['review_content'])\n",
    "# valid_matrix = vec.transform(X_valid['review_content'])"
   ]
  },
  {
   "cell_type": "code",
   "execution_count": 255,
   "id": "f779a37b-7bdd-4241-ab17-186c91411c2b",
   "metadata": {},
   "outputs": [
    {
     "name": "stdout",
     "output_type": "stream",
     "text": [
      "(36596, 32922)\n",
      "(36596,)\n",
      "(9150, 32922)\n",
      "(9150,)\n"
     ]
    }
   ],
   "source": [
    "X_train = train_matrix\n",
    "X_test = test_matrix\n",
    "y_train = y_train.astype('int')\n",
    "y_test = y_test.astype('int')\n",
    "# X_train_sub = train_sub_matrix\n",
    "# X_valid = valid_matrix\n",
    "# y_train_sub = y_train_sub.astype('int')\n",
    "# y_valid = y_valid.astype('int')\n",
    "\n",
    "# print dimensions\n",
    "print(X_train.shape)\n",
    "print(y_train.shape)\n",
    "print(X_test.shape)\n",
    "print(y_test.shape)\n",
    "\n",
    "# print(X_train_sub.shape)\n",
    "# print(y_train_sub.shape)\n",
    "# print(X_valid.shape)\n",
    "# print(y_valid.shape)"
   ]
  },
  {
   "cell_type": "code",
   "execution_count": 256,
   "id": "cdcdf9e5-7e9c-41a9-938c-2496a77c9a7d",
   "metadata": {
    "tags": []
   },
   "outputs": [],
   "source": [
    "from sklearn.neighbors import KNeighborsClassifier\n",
    "from sklearn import model_selection\n",
    "from sklearn.linear_model import LogisticRegression\n",
    "from sklearn.ensemble import AdaBoostClassifier\n",
    "from sklearn.ensemble import RandomForestClassifier\n",
    "from sklearn.tree import DecisionTreeClassifier\n",
    "from sklearn.experimental import enable_hist_gradient_boosting\n",
    "from sklearn.ensemble import HistGradientBoostingClassifier\n",
    "from sklearn.model_selection import GridSearchCV\n",
    "\n",
    "from mlxtend.classifier import StackingClassifier\n",
    "from mlxtend.classifier import StackingCVClassifier\n",
    "\n",
    "%matplotlib inline\n",
    "import matplotlib.pyplot as plt"
   ]
  }
 ],
 "metadata": {
  "kernelspec": {
   "display_name": "Python 3",
   "language": "python",
   "name": "python3"
  },
  "language_info": {
   "codemirror_mode": {
    "name": "ipython",
    "version": 3
   },
   "file_extension": ".py",
   "mimetype": "text/x-python",
   "name": "python",
   "nbconvert_exporter": "python",
   "pygments_lexer": "ipython3",
   "version": "3.8.8"
  }
 },
 "nbformat": 4,
 "nbformat_minor": 5
}
