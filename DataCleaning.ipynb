{
 "cells": [
  {
   "cell_type": "markdown",
   "id": "5137f6d6-f788-4f10-aa49-49954b72668e",
   "metadata": {},
   "source": [
    "# 2020 Rotten Tomatoes Comments Sentiment Classification"
   ]
  },
  {
   "cell_type": "markdown",
   "id": "11727145",
   "metadata": {},
   "source": [
    "Read the original file from Kaggle:"
   ]
  },
  {
   "cell_type": "code",
   "execution_count": 181,
   "id": "8f2ab006",
   "metadata": {},
   "outputs": [],
   "source": [
    "import pandas as pd\n",
    "import re\n",
    "import numpy as np\n",
    "import os\n",
    "df = pd.read_csv(\"rotten_tomatoes_critic_reviews.csv\")"
   ]
  },
  {
   "cell_type": "code",
   "execution_count": 182,
   "id": "cf239dc7",
   "metadata": {
    "collapsed": true,
    "jupyter": {
     "outputs_hidden": true
    },
    "tags": []
   },
   "outputs": [
    {
     "data": {
      "text/html": [
       "<div>\n",
       "<style scoped>\n",
       "    .dataframe tbody tr th:only-of-type {\n",
       "        vertical-align: middle;\n",
       "    }\n",
       "\n",
       "    .dataframe tbody tr th {\n",
       "        vertical-align: top;\n",
       "    }\n",
       "\n",
       "    .dataframe thead th {\n",
       "        text-align: right;\n",
       "    }\n",
       "</style>\n",
       "<table border=\"1\" class=\"dataframe\">\n",
       "  <thead>\n",
       "    <tr style=\"text-align: right;\">\n",
       "      <th></th>\n",
       "      <th>rotten_tomatoes_link</th>\n",
       "      <th>critic_name</th>\n",
       "      <th>top_critic</th>\n",
       "      <th>publisher_name</th>\n",
       "      <th>review_type</th>\n",
       "      <th>review_score</th>\n",
       "      <th>review_date</th>\n",
       "      <th>review_content</th>\n",
       "    </tr>\n",
       "  </thead>\n",
       "  <tbody>\n",
       "    <tr>\n",
       "      <th>1116640</th>\n",
       "      <td>m/working_girl</td>\n",
       "      <td>Nicholas Bell</td>\n",
       "      <td>False</td>\n",
       "      <td>IONCINEMA.com</td>\n",
       "      <td>Fresh</td>\n",
       "      <td>4/5</td>\n",
       "      <td>2020-10-29</td>\n",
       "      <td>A buoyant, emotionally gratifying underdog sto...</td>\n",
       "    </tr>\n",
       "    <tr>\n",
       "      <th>1120068</th>\n",
       "      <td>m/x_the_man_with_the_x_ray_eyes</td>\n",
       "      <td>Matt Brunson</td>\n",
       "      <td>False</td>\n",
       "      <td>Film Frenzy</td>\n",
       "      <td>Fresh</td>\n",
       "      <td>3/4</td>\n",
       "      <td>2020-10-28</td>\n",
       "      <td>This nifty slice of sci-fi basically plays lik...</td>\n",
       "    </tr>\n",
       "    <tr>\n",
       "      <th>1078687</th>\n",
       "      <td>m/vernon_florida</td>\n",
       "      <td>Jordan M. Smith</td>\n",
       "      <td>False</td>\n",
       "      <td>IONCINEMA.com</td>\n",
       "      <td>Fresh</td>\n",
       "      <td>4/5</td>\n",
       "      <td>2020-10-28</td>\n",
       "      <td>Vernon, Florida feels more like an endearingly...</td>\n",
       "    </tr>\n",
       "    <tr>\n",
       "      <th>1058223</th>\n",
       "      <td>m/truman_show</td>\n",
       "      <td>Film Companion Staff</td>\n",
       "      <td>False</td>\n",
       "      <td>Film Companion</td>\n",
       "      <td>Fresh</td>\n",
       "      <td>NaN</td>\n",
       "      <td>2020-10-28</td>\n",
       "      <td>The ahead-of-its-time film spoke volumes about...</td>\n",
       "    </tr>\n",
       "    <tr>\n",
       "      <th>1024491</th>\n",
       "      <td>m/the_two_popes</td>\n",
       "      <td>Film Companion Staff</td>\n",
       "      <td>False</td>\n",
       "      <td>Film Companion</td>\n",
       "      <td>Fresh</td>\n",
       "      <td>NaN</td>\n",
       "      <td>2020-10-28</td>\n",
       "      <td>Anthony Hopkins plays doubt-ridden, conservati...</td>\n",
       "    </tr>\n",
       "    <tr>\n",
       "      <th>...</th>\n",
       "      <td>...</td>\n",
       "      <td>...</td>\n",
       "      <td>...</td>\n",
       "      <td>...</td>\n",
       "      <td>...</td>\n",
       "      <td>...</td>\n",
       "      <td>...</td>\n",
       "      <td>...</td>\n",
       "    </tr>\n",
       "    <tr>\n",
       "      <th>414340</th>\n",
       "      <td>m/hexed</td>\n",
       "      <td>NaN</td>\n",
       "      <td>True</td>\n",
       "      <td>Entertainment Weekly</td>\n",
       "      <td>Rotten</td>\n",
       "      <td>D-</td>\n",
       "      <td>1800-01-01</td>\n",
       "      <td>NaN</td>\n",
       "    </tr>\n",
       "    <tr>\n",
       "      <th>14139</th>\n",
       "      <td>m/10011950-three_blind_mice</td>\n",
       "      <td>NaN</td>\n",
       "      <td>False</td>\n",
       "      <td>National Post</td>\n",
       "      <td>Fresh</td>\n",
       "      <td>3.5/4</td>\n",
       "      <td>1800-01-01</td>\n",
       "      <td>NaN</td>\n",
       "    </tr>\n",
       "    <tr>\n",
       "      <th>184870</th>\n",
       "      <td>m/black_mask</td>\n",
       "      <td>NaN</td>\n",
       "      <td>True</td>\n",
       "      <td>Entertainment Weekly</td>\n",
       "      <td>Rotten</td>\n",
       "      <td>D</td>\n",
       "      <td>1800-01-01</td>\n",
       "      <td>NaN</td>\n",
       "    </tr>\n",
       "    <tr>\n",
       "      <th>91921</th>\n",
       "      <td>m/4321</td>\n",
       "      <td>Jennie Kermode</td>\n",
       "      <td>False</td>\n",
       "      <td>Eye for Film</td>\n",
       "      <td>Fresh</td>\n",
       "      <td>3.5/5</td>\n",
       "      <td>1800-01-01</td>\n",
       "      <td>NaN</td>\n",
       "    </tr>\n",
       "    <tr>\n",
       "      <th>396107</th>\n",
       "      <td>m/gunless</td>\n",
       "      <td>Peter Howell</td>\n",
       "      <td>True</td>\n",
       "      <td>Toronto Star</td>\n",
       "      <td>Fresh</td>\n",
       "      <td>2.5/4</td>\n",
       "      <td>1800-01-01</td>\n",
       "      <td>A comedy western loaded with chuckles that onl...</td>\n",
       "    </tr>\n",
       "  </tbody>\n",
       "</table>\n",
       "<p>1130017 rows × 8 columns</p>\n",
       "</div>"
      ],
      "text/plain": [
       "                    rotten_tomatoes_link           critic_name  top_critic  \\\n",
       "1116640                   m/working_girl         Nicholas Bell       False   \n",
       "1120068  m/x_the_man_with_the_x_ray_eyes          Matt Brunson       False   \n",
       "1078687                 m/vernon_florida       Jordan M. Smith       False   \n",
       "1058223                    m/truman_show  Film Companion Staff       False   \n",
       "1024491                  m/the_two_popes  Film Companion Staff       False   \n",
       "...                                  ...                   ...         ...   \n",
       "414340                           m/hexed                   NaN        True   \n",
       "14139        m/10011950-three_blind_mice                   NaN       False   \n",
       "184870                      m/black_mask                   NaN        True   \n",
       "91921                             m/4321        Jennie Kermode       False   \n",
       "396107                         m/gunless          Peter Howell        True   \n",
       "\n",
       "               publisher_name review_type review_score review_date  \\\n",
       "1116640         IONCINEMA.com       Fresh          4/5  2020-10-29   \n",
       "1120068           Film Frenzy       Fresh          3/4  2020-10-28   \n",
       "1078687         IONCINEMA.com       Fresh          4/5  2020-10-28   \n",
       "1058223        Film Companion       Fresh          NaN  2020-10-28   \n",
       "1024491        Film Companion       Fresh          NaN  2020-10-28   \n",
       "...                       ...         ...          ...         ...   \n",
       "414340   Entertainment Weekly      Rotten           D-  1800-01-01   \n",
       "14139           National Post       Fresh        3.5/4  1800-01-01   \n",
       "184870   Entertainment Weekly      Rotten            D  1800-01-01   \n",
       "91921            Eye for Film       Fresh        3.5/5  1800-01-01   \n",
       "396107           Toronto Star       Fresh        2.5/4  1800-01-01   \n",
       "\n",
       "                                            review_content  \n",
       "1116640  A buoyant, emotionally gratifying underdog sto...  \n",
       "1120068  This nifty slice of sci-fi basically plays lik...  \n",
       "1078687  Vernon, Florida feels more like an endearingly...  \n",
       "1058223  The ahead-of-its-time film spoke volumes about...  \n",
       "1024491  Anthony Hopkins plays doubt-ridden, conservati...  \n",
       "...                                                    ...  \n",
       "414340                                                 NaN  \n",
       "14139                                                  NaN  \n",
       "184870                                                 NaN  \n",
       "91921                                                  NaN  \n",
       "396107   A comedy western loaded with chuckles that onl...  \n",
       "\n",
       "[1130017 rows x 8 columns]"
      ]
     },
     "execution_count": 182,
     "metadata": {},
     "output_type": "execute_result"
    }
   ],
   "source": [
    "df.sort_values(by = \"review_date\", ascending = False)"
   ]
  },
  {
   "cell_type": "markdown",
   "id": "570fb6b9",
   "metadata": {},
   "source": [
    "Select all reviews published in the year of 2020"
   ]
  },
  {
   "cell_type": "code",
   "execution_count": 183,
   "id": "29b22d62",
   "metadata": {
    "collapsed": true,
    "jupyter": {
     "outputs_hidden": true
    },
    "tags": []
   },
   "outputs": [
    {
     "data": {
      "text/html": [
       "<div>\n",
       "<style scoped>\n",
       "    .dataframe tbody tr th:only-of-type {\n",
       "        vertical-align: middle;\n",
       "    }\n",
       "\n",
       "    .dataframe tbody tr th {\n",
       "        vertical-align: top;\n",
       "    }\n",
       "\n",
       "    .dataframe thead th {\n",
       "        text-align: right;\n",
       "    }\n",
       "</style>\n",
       "<table border=\"1\" class=\"dataframe\">\n",
       "  <thead>\n",
       "    <tr style=\"text-align: right;\">\n",
       "      <th></th>\n",
       "      <th>rotten_tomatoes_link</th>\n",
       "      <th>critic_name</th>\n",
       "      <th>top_critic</th>\n",
       "      <th>publisher_name</th>\n",
       "      <th>review_type</th>\n",
       "      <th>review_score</th>\n",
       "      <th>review_date</th>\n",
       "      <th>review_content</th>\n",
       "    </tr>\n",
       "  </thead>\n",
       "  <tbody>\n",
       "    <tr>\n",
       "      <th>1116640</th>\n",
       "      <td>m/working_girl</td>\n",
       "      <td>Nicholas Bell</td>\n",
       "      <td>False</td>\n",
       "      <td>IONCINEMA.com</td>\n",
       "      <td>Fresh</td>\n",
       "      <td>4/5</td>\n",
       "      <td>2020-10-29</td>\n",
       "      <td>A buoyant, emotionally gratifying underdog sto...</td>\n",
       "    </tr>\n",
       "    <tr>\n",
       "      <th>1122024</th>\n",
       "      <td>m/yes_god_yes</td>\n",
       "      <td>Sadie Bell</td>\n",
       "      <td>False</td>\n",
       "      <td>Thrillist</td>\n",
       "      <td>Fresh</td>\n",
       "      <td>NaN</td>\n",
       "      <td>2020-10-28</td>\n",
       "      <td>It's a little Heaven-sent slice of comedy.</td>\n",
       "    </tr>\n",
       "    <tr>\n",
       "      <th>1078687</th>\n",
       "      <td>m/vernon_florida</td>\n",
       "      <td>Jordan M. Smith</td>\n",
       "      <td>False</td>\n",
       "      <td>IONCINEMA.com</td>\n",
       "      <td>Fresh</td>\n",
       "      <td>4/5</td>\n",
       "      <td>2020-10-28</td>\n",
       "      <td>Vernon, Florida feels more like an endearingly...</td>\n",
       "    </tr>\n",
       "    <tr>\n",
       "      <th>1078144</th>\n",
       "      <td>m/venom_2018</td>\n",
       "      <td>David Hogan</td>\n",
       "      <td>False</td>\n",
       "      <td>hoganreviews.co.uk</td>\n",
       "      <td>Fresh</td>\n",
       "      <td>3/5</td>\n",
       "      <td>2020-10-28</td>\n",
       "      <td>Has some fun set-pieces and worked around the ...</td>\n",
       "    </tr>\n",
       "    <tr>\n",
       "      <th>1073797</th>\n",
       "      <td>m/us_2019</td>\n",
       "      <td>Dennis Harvey</td>\n",
       "      <td>False</td>\n",
       "      <td>48 Hills</td>\n",
       "      <td>Fresh</td>\n",
       "      <td>NaN</td>\n",
       "      <td>2020-10-28</td>\n",
       "      <td>Peele's eagerly awaited second feature is here...</td>\n",
       "    </tr>\n",
       "    <tr>\n",
       "      <th>...</th>\n",
       "      <td>...</td>\n",
       "      <td>...</td>\n",
       "      <td>...</td>\n",
       "      <td>...</td>\n",
       "      <td>...</td>\n",
       "      <td>...</td>\n",
       "      <td>...</td>\n",
       "      <td>...</td>\n",
       "    </tr>\n",
       "    <tr>\n",
       "      <th>1003507</th>\n",
       "      <td>m/the_perfection</td>\n",
       "      <td>Dennis Harvey</td>\n",
       "      <td>True</td>\n",
       "      <td>Variety</td>\n",
       "      <td>Fresh</td>\n",
       "      <td>NaN</td>\n",
       "      <td>2020-01-01</td>\n",
       "      <td>Entertaining in a way that's at once showy and...</td>\n",
       "    </tr>\n",
       "    <tr>\n",
       "      <th>94195</th>\n",
       "      <td>m/6_underground</td>\n",
       "      <td>Josh Martin</td>\n",
       "      <td>False</td>\n",
       "      <td>Film Inquiry</td>\n",
       "      <td>Fresh</td>\n",
       "      <td>NaN</td>\n",
       "      <td>2020-01-01</td>\n",
       "      <td>This is indeed a Michael Bay movie, and it has...</td>\n",
       "    </tr>\n",
       "    <tr>\n",
       "      <th>681922</th>\n",
       "      <td>m/punishment_park</td>\n",
       "      <td>Judith Crist</td>\n",
       "      <td>True</td>\n",
       "      <td>New York Magazine/Vulture</td>\n",
       "      <td>Rotten</td>\n",
       "      <td>NaN</td>\n",
       "      <td>2020-01-01</td>\n",
       "      <td>The most offensive of the recent Festival film...</td>\n",
       "    </tr>\n",
       "    <tr>\n",
       "      <th>681921</th>\n",
       "      <td>m/punishment_park</td>\n",
       "      <td>Judith Crist</td>\n",
       "      <td>True</td>\n",
       "      <td>New York Magazine/Vulture</td>\n",
       "      <td>Rotten</td>\n",
       "      <td>NaN</td>\n",
       "      <td>2020-01-01</td>\n",
       "      <td>The most offensive of the recent Festival film...</td>\n",
       "    </tr>\n",
       "    <tr>\n",
       "      <th>556624</th>\n",
       "      <td>m/marriage_story_2019</td>\n",
       "      <td>PJ Nabarro</td>\n",
       "      <td>False</td>\n",
       "      <td>Patrick Nabarro</td>\n",
       "      <td>Fresh</td>\n",
       "      <td>4/5</td>\n",
       "      <td>2020-01-01</td>\n",
       "      <td>The film is stronger in its more sincere momen...</td>\n",
       "    </tr>\n",
       "  </tbody>\n",
       "</table>\n",
       "<p>45746 rows × 8 columns</p>\n",
       "</div>"
      ],
      "text/plain": [
       "          rotten_tomatoes_link      critic_name  top_critic  \\\n",
       "1116640         m/working_girl    Nicholas Bell       False   \n",
       "1122024          m/yes_god_yes       Sadie Bell       False   \n",
       "1078687       m/vernon_florida  Jordan M. Smith       False   \n",
       "1078144           m/venom_2018      David Hogan       False   \n",
       "1073797              m/us_2019    Dennis Harvey       False   \n",
       "...                        ...              ...         ...   \n",
       "1003507       m/the_perfection    Dennis Harvey        True   \n",
       "94195          m/6_underground      Josh Martin       False   \n",
       "681922       m/punishment_park     Judith Crist        True   \n",
       "681921       m/punishment_park     Judith Crist        True   \n",
       "556624   m/marriage_story_2019       PJ Nabarro       False   \n",
       "\n",
       "                    publisher_name review_type review_score review_date  \\\n",
       "1116640              IONCINEMA.com       Fresh          4/5  2020-10-29   \n",
       "1122024                  Thrillist       Fresh          NaN  2020-10-28   \n",
       "1078687              IONCINEMA.com       Fresh          4/5  2020-10-28   \n",
       "1078144         hoganreviews.co.uk       Fresh          3/5  2020-10-28   \n",
       "1073797                   48 Hills       Fresh          NaN  2020-10-28   \n",
       "...                            ...         ...          ...         ...   \n",
       "1003507                    Variety       Fresh          NaN  2020-01-01   \n",
       "94195                 Film Inquiry       Fresh          NaN  2020-01-01   \n",
       "681922   New York Magazine/Vulture      Rotten          NaN  2020-01-01   \n",
       "681921   New York Magazine/Vulture      Rotten          NaN  2020-01-01   \n",
       "556624             Patrick Nabarro       Fresh          4/5  2020-01-01   \n",
       "\n",
       "                                            review_content  \n",
       "1116640  A buoyant, emotionally gratifying underdog sto...  \n",
       "1122024         It's a little Heaven-sent slice of comedy.  \n",
       "1078687  Vernon, Florida feels more like an endearingly...  \n",
       "1078144  Has some fun set-pieces and worked around the ...  \n",
       "1073797  Peele's eagerly awaited second feature is here...  \n",
       "...                                                    ...  \n",
       "1003507  Entertaining in a way that's at once showy and...  \n",
       "94195    This is indeed a Michael Bay movie, and it has...  \n",
       "681922   The most offensive of the recent Festival film...  \n",
       "681921   The most offensive of the recent Festival film...  \n",
       "556624   The film is stronger in its more sincere momen...  \n",
       "\n",
       "[45746 rows x 8 columns]"
      ]
     },
     "execution_count": 183,
     "metadata": {},
     "output_type": "execute_result"
    }
   ],
   "source": [
    "rslt_df = df.loc[df['review_date'] > \"2019-12-31\"]\n",
    "rslt_df\n",
    "rslt_df.sort_values(by = \"review_date\", ascending = False)"
   ]
  },
  {
   "cell_type": "markdown",
   "id": "973f58e9",
   "metadata": {},
   "source": [
    "Output to CSV file:"
   ]
  },
  {
   "cell_type": "code",
   "execution_count": 4,
   "id": "5a7618e7",
   "metadata": {},
   "outputs": [],
   "source": [
    "rslt_df.to_csv(\"2020Reviews.csv\")"
   ]
  },
  {
   "cell_type": "code",
   "execution_count": 184,
   "id": "4315c497",
   "metadata": {},
   "outputs": [
    {
     "data": {
      "text/html": [
       "<div>\n",
       "<style scoped>\n",
       "    .dataframe tbody tr th:only-of-type {\n",
       "        vertical-align: middle;\n",
       "    }\n",
       "\n",
       "    .dataframe tbody tr th {\n",
       "        vertical-align: top;\n",
       "    }\n",
       "\n",
       "    .dataframe thead th {\n",
       "        text-align: right;\n",
       "    }\n",
       "</style>\n",
       "<table border=\"1\" class=\"dataframe\">\n",
       "  <thead>\n",
       "    <tr style=\"text-align: right;\">\n",
       "      <th></th>\n",
       "      <th>Unnamed: 0</th>\n",
       "      <th>rotten_tomatoes_link</th>\n",
       "      <th>critic_name</th>\n",
       "      <th>top_critic</th>\n",
       "      <th>publisher_name</th>\n",
       "      <th>review_type</th>\n",
       "      <th>review_score</th>\n",
       "      <th>review_date</th>\n",
       "      <th>review_content</th>\n",
       "    </tr>\n",
       "  </thead>\n",
       "  <tbody>\n",
       "    <tr>\n",
       "      <th>0</th>\n",
       "      <td>145</td>\n",
       "      <td>m/0814255</td>\n",
       "      <td>Sarah Knight Adamson</td>\n",
       "      <td>False</td>\n",
       "      <td>Sarah's Backstage Pass</td>\n",
       "      <td>Fresh</td>\n",
       "      <td>3/4</td>\n",
       "      <td>2020-01-13</td>\n",
       "      <td>As a former middle school teacher of gifted li...</td>\n",
       "    </tr>\n",
       "    <tr>\n",
       "      <th>1</th>\n",
       "      <td>146</td>\n",
       "      <td>m/0814255</td>\n",
       "      <td>Felicia Feaster</td>\n",
       "      <td>False</td>\n",
       "      <td>Charleston City Paper</td>\n",
       "      <td>Fresh</td>\n",
       "      <td>NaN</td>\n",
       "      <td>2020-01-23</td>\n",
       "      <td>The Lightning Thief is an admirable kid's fant...</td>\n",
       "    </tr>\n",
       "    <tr>\n",
       "      <th>2</th>\n",
       "      <td>147</td>\n",
       "      <td>m/0814255</td>\n",
       "      <td>Leigh Paatsch</td>\n",
       "      <td>False</td>\n",
       "      <td>Herald Sun (Australia)</td>\n",
       "      <td>Rotten</td>\n",
       "      <td>2.5/5</td>\n",
       "      <td>2020-06-26</td>\n",
       "      <td>OK, but only just.</td>\n",
       "    </tr>\n",
       "    <tr>\n",
       "      <th>3</th>\n",
       "      <td>148</td>\n",
       "      <td>m/0814255</td>\n",
       "      <td>Richard Propes</td>\n",
       "      <td>False</td>\n",
       "      <td>TheIndependentCritic.com</td>\n",
       "      <td>Rotten</td>\n",
       "      <td>2/4</td>\n",
       "      <td>2020-09-19</td>\n",
       "      <td>There's nothing resembling a spark in this fil...</td>\n",
       "    </tr>\n",
       "    <tr>\n",
       "      <th>4</th>\n",
       "      <td>289</td>\n",
       "      <td>m/0878835</td>\n",
       "      <td>Felicia Feaster</td>\n",
       "      <td>False</td>\n",
       "      <td>Charleston City Paper</td>\n",
       "      <td>Fresh</td>\n",
       "      <td>NaN</td>\n",
       "      <td>2020-01-22</td>\n",
       "      <td>Please Give is truly a film for our age; it's ...</td>\n",
       "    </tr>\n",
       "  </tbody>\n",
       "</table>\n",
       "</div>"
      ],
      "text/plain": [
       "   Unnamed: 0 rotten_tomatoes_link           critic_name  top_critic  \\\n",
       "0         145            m/0814255  Sarah Knight Adamson       False   \n",
       "1         146            m/0814255       Felicia Feaster       False   \n",
       "2         147            m/0814255         Leigh Paatsch       False   \n",
       "3         148            m/0814255        Richard Propes       False   \n",
       "4         289            m/0878835       Felicia Feaster       False   \n",
       "\n",
       "             publisher_name review_type review_score review_date  \\\n",
       "0    Sarah's Backstage Pass       Fresh          3/4  2020-01-13   \n",
       "1     Charleston City Paper       Fresh          NaN  2020-01-23   \n",
       "2    Herald Sun (Australia)      Rotten        2.5/5  2020-06-26   \n",
       "3  TheIndependentCritic.com      Rotten          2/4  2020-09-19   \n",
       "4     Charleston City Paper       Fresh          NaN  2020-01-22   \n",
       "\n",
       "                                      review_content  \n",
       "0  As a former middle school teacher of gifted li...  \n",
       "1  The Lightning Thief is an admirable kid's fant...  \n",
       "2                                 OK, but only just.  \n",
       "3  There's nothing resembling a spark in this fil...  \n",
       "4  Please Give is truly a film for our age; it's ...  "
      ]
     },
     "execution_count": 184,
     "metadata": {},
     "output_type": "execute_result"
    }
   ],
   "source": [
    "df = pd.read_csv(\"2020Reviews.csv\")\n",
    "df.head()"
   ]
  },
  {
   "cell_type": "code",
   "execution_count": 185,
   "id": "2724ca5a",
   "metadata": {},
   "outputs": [
    {
     "data": {
      "text/html": [
       "<div>\n",
       "<style scoped>\n",
       "    .dataframe tbody tr th:only-of-type {\n",
       "        vertical-align: middle;\n",
       "    }\n",
       "\n",
       "    .dataframe tbody tr th {\n",
       "        vertical-align: top;\n",
       "    }\n",
       "\n",
       "    .dataframe thead th {\n",
       "        text-align: right;\n",
       "    }\n",
       "</style>\n",
       "<table border=\"1\" class=\"dataframe\">\n",
       "  <thead>\n",
       "    <tr style=\"text-align: right;\">\n",
       "      <th></th>\n",
       "      <th>review_type</th>\n",
       "      <th>review_score</th>\n",
       "      <th>review_content</th>\n",
       "    </tr>\n",
       "  </thead>\n",
       "  <tbody>\n",
       "    <tr>\n",
       "      <th>0</th>\n",
       "      <td>Fresh</td>\n",
       "      <td>3/4</td>\n",
       "      <td>As a former middle school teacher of gifted li...</td>\n",
       "    </tr>\n",
       "    <tr>\n",
       "      <th>1</th>\n",
       "      <td>Fresh</td>\n",
       "      <td>NaN</td>\n",
       "      <td>The Lightning Thief is an admirable kid's fant...</td>\n",
       "    </tr>\n",
       "    <tr>\n",
       "      <th>2</th>\n",
       "      <td>Rotten</td>\n",
       "      <td>2.5/5</td>\n",
       "      <td>OK, but only just.</td>\n",
       "    </tr>\n",
       "    <tr>\n",
       "      <th>3</th>\n",
       "      <td>Rotten</td>\n",
       "      <td>2/4</td>\n",
       "      <td>There's nothing resembling a spark in this fil...</td>\n",
       "    </tr>\n",
       "    <tr>\n",
       "      <th>4</th>\n",
       "      <td>Fresh</td>\n",
       "      <td>NaN</td>\n",
       "      <td>Please Give is truly a film for our age; it's ...</td>\n",
       "    </tr>\n",
       "  </tbody>\n",
       "</table>\n",
       "</div>"
      ],
      "text/plain": [
       "  review_type review_score                                     review_content\n",
       "0       Fresh          3/4  As a former middle school teacher of gifted li...\n",
       "1       Fresh          NaN  The Lightning Thief is an admirable kid's fant...\n",
       "2      Rotten        2.5/5                                 OK, but only just.\n",
       "3      Rotten          2/4  There's nothing resembling a spark in this fil...\n",
       "4       Fresh          NaN  Please Give is truly a film for our age; it's ..."
      ]
     },
     "execution_count": 185,
     "metadata": {},
     "output_type": "execute_result"
    }
   ],
   "source": [
    "Link_Review = df [[\"review_type\", \"review_score\", \"review_content\"]]\n",
    "Link_Review.head()"
   ]
  },
  {
   "cell_type": "code",
   "execution_count": 186,
   "id": "029cd5d4",
   "metadata": {},
   "outputs": [
    {
     "data": {
      "text/plain": [
       "'As a former middle school teacher of gifted literature, I value all fairly well-made films for children and parents and this one is in that league.'"
      ]
     },
     "execution_count": 186,
     "metadata": {},
     "output_type": "execute_result"
    }
   ],
   "source": [
    "Link_Review[\"review_content\"][0] # Row selection output testing"
   ]
  },
  {
   "cell_type": "markdown",
   "id": "b77b84c9",
   "metadata": {},
   "source": [
    "# I. Removal of all punctuation in the dataset using regex"
   ]
  },
  {
   "cell_type": "code",
   "execution_count": 187,
   "id": "7e2e3788",
   "metadata": {},
   "outputs": [
    {
     "name": "stderr",
     "output_type": "stream",
     "text": [
      "<ipython-input-187-2c4d16282461>:1: FutureWarning: The default value of regex will change from True to False in a future version.\n",
      "  Link_Review[\"review_content\"] = Link_Review[\"review_content\"].str.replace(r'[^\\w\\s]+', '')\n",
      "<ipython-input-187-2c4d16282461>:1: SettingWithCopyWarning: \n",
      "A value is trying to be set on a copy of a slice from a DataFrame.\n",
      "Try using .loc[row_indexer,col_indexer] = value instead\n",
      "\n",
      "See the caveats in the documentation: https://pandas.pydata.org/pandas-docs/stable/user_guide/indexing.html#returning-a-view-versus-a-copy\n",
      "  Link_Review[\"review_content\"] = Link_Review[\"review_content\"].str.replace(r'[^\\w\\s]+', '')\n"
     ]
    }
   ],
   "source": [
    "Link_Review[\"review_content\"] = Link_Review[\"review_content\"].str.replace(r'[^\\w\\s]+', '')"
   ]
  },
  {
   "cell_type": "code",
   "execution_count": 9,
   "id": "b5b1ac2f",
   "metadata": {},
   "outputs": [
    {
     "data": {
      "text/plain": [
       "'As a former middle school teacher of gifted literature I value all fairly wellmade films for children and parents and this one is in that league'"
      ]
     },
     "execution_count": 9,
     "metadata": {},
     "output_type": "execute_result"
    }
   ],
   "source": [
    "Link_Review[\"review_content\"][0] #Row selection output testing"
   ]
  },
  {
   "cell_type": "markdown",
   "id": "a2e242c6",
   "metadata": {},
   "source": [
    "# II. Remove all numbers in comments (review_content column) (Need Justifications)"
   ]
  },
  {
   "cell_type": "code",
   "execution_count": 10,
   "id": "79af1582",
   "metadata": {},
   "outputs": [
    {
     "name": "stderr",
     "output_type": "stream",
     "text": [
      "<ipython-input-10-509870383d32>:1: FutureWarning: The default value of regex will change from True to False in a future version.\n",
      "  Link_Review[\"review_content\"] = Link_Review[\"review_content\"].str.replace('\\d+', '')\n",
      "<ipython-input-10-509870383d32>:1: SettingWithCopyWarning: \n",
      "A value is trying to be set on a copy of a slice from a DataFrame.\n",
      "Try using .loc[row_indexer,col_indexer] = value instead\n",
      "\n",
      "See the caveats in the documentation: https://pandas.pydata.org/pandas-docs/stable/user_guide/indexing.html#returning-a-view-versus-a-copy\n",
      "  Link_Review[\"review_content\"] = Link_Review[\"review_content\"].str.replace('\\d+', '')\n"
     ]
    }
   ],
   "source": [
    "Link_Review[\"review_content\"] = Link_Review[\"review_content\"].str.replace('\\d+', '') "
   ]
  },
  {
   "cell_type": "markdown",
   "id": "0cf9b4b1",
   "metadata": {},
   "source": [
    "# III. Adjust all words in comments to lower cases"
   ]
  },
  {
   "cell_type": "code",
   "execution_count": 11,
   "id": "5c745a47",
   "metadata": {},
   "outputs": [
    {
     "name": "stderr",
     "output_type": "stream",
     "text": [
      "<ipython-input-11-64184f94b561>:1: SettingWithCopyWarning: \n",
      "A value is trying to be set on a copy of a slice from a DataFrame.\n",
      "Try using .loc[row_indexer,col_indexer] = value instead\n",
      "\n",
      "See the caveats in the documentation: https://pandas.pydata.org/pandas-docs/stable/user_guide/indexing.html#returning-a-view-versus-a-copy\n",
      "  Link_Review[\"review_content\"] = Link_Review[\"review_content\"].str.lower()\n"
     ]
    }
   ],
   "source": [
    "Link_Review[\"review_content\"] = Link_Review[\"review_content\"].str.lower()"
   ]
  },
  {
   "cell_type": "code",
   "execution_count": 12,
   "id": "eba24f1b",
   "metadata": {},
   "outputs": [
    {
     "data": {
      "text/plain": [
       "'as a former middle school teacher of gifted literature i value all fairly wellmade films for children and parents and this one is in that league'"
      ]
     },
     "execution_count": 12,
     "metadata": {},
     "output_type": "execute_result"
    }
   ],
   "source": [
    "Link_Review[\"review_content\"][0] #Row selection output testing"
   ]
  },
  {
   "cell_type": "markdown",
   "id": "334855aa",
   "metadata": {},
   "source": [
    "# IV. Remove all stopwords in the comments (Need more modifications and cleanings) "
   ]
  },
  {
   "cell_type": "code",
   "execution_count": 188,
   "id": "2b4b7d9b",
   "metadata": {
    "tags": []
   },
   "outputs": [
    {
     "name": "stderr",
     "output_type": "stream",
     "text": [
      "[nltk_data] Downloading package stopwords to\n",
      "[nltk_data]     /Users/samuelfan/nltk_data...\n",
      "[nltk_data]   Package stopwords is already up-to-date!\n",
      "<ipython-input-188-36b0c0957e94>:23: SettingWithCopyWarning: \n",
      "A value is trying to be set on a copy of a slice from a DataFrame.\n",
      "Try using .loc[row_indexer,col_indexer] = value instead\n",
      "\n",
      "See the caveats in the documentation: https://pandas.pydata.org/pandas-docs/stable/user_guide/indexing.html#returning-a-view-versus-a-copy\n",
      "  Link_Review[\"review_content\"] = Link_Review[\"review_content\"].apply(stopword_remover1)\n"
     ]
    },
    {
     "data": {
      "text/html": [
       "<div>\n",
       "<style scoped>\n",
       "    .dataframe tbody tr th:only-of-type {\n",
       "        vertical-align: middle;\n",
       "    }\n",
       "\n",
       "    .dataframe tbody tr th {\n",
       "        vertical-align: top;\n",
       "    }\n",
       "\n",
       "    .dataframe thead th {\n",
       "        text-align: right;\n",
       "    }\n",
       "</style>\n",
       "<table border=\"1\" class=\"dataframe\">\n",
       "  <thead>\n",
       "    <tr style=\"text-align: right;\">\n",
       "      <th></th>\n",
       "      <th>review_type</th>\n",
       "      <th>review_score</th>\n",
       "      <th>review_content</th>\n",
       "    </tr>\n",
       "  </thead>\n",
       "  <tbody>\n",
       "    <tr>\n",
       "      <th>0</th>\n",
       "      <td>Fresh</td>\n",
       "      <td>3/4</td>\n",
       "      <td>former middle school teacher gifted literature...</td>\n",
       "    </tr>\n",
       "    <tr>\n",
       "      <th>1</th>\n",
       "      <td>Fresh</td>\n",
       "      <td>NaN</td>\n",
       "      <td>Lightning Thief admirable kids fantasy</td>\n",
       "    </tr>\n",
       "    <tr>\n",
       "      <th>2</th>\n",
       "      <td>Rotten</td>\n",
       "      <td>2.5/5</td>\n",
       "      <td>OK</td>\n",
       "    </tr>\n",
       "    <tr>\n",
       "      <th>3</th>\n",
       "      <td>Rotten</td>\n",
       "      <td>2/4</td>\n",
       "      <td>Theres nothing resembling spark film anywhere</td>\n",
       "    </tr>\n",
       "    <tr>\n",
       "      <th>4</th>\n",
       "      <td>Fresh</td>\n",
       "      <td>NaN</td>\n",
       "      <td>Please Give truly film age darkly comic stuff ...</td>\n",
       "    </tr>\n",
       "  </tbody>\n",
       "</table>\n",
       "</div>"
      ],
      "text/plain": [
       "  review_type review_score                                     review_content\n",
       "0       Fresh          3/4  former middle school teacher gifted literature...\n",
       "1       Fresh          NaN             Lightning Thief admirable kids fantasy\n",
       "2      Rotten        2.5/5                                                 OK\n",
       "3      Rotten          2/4      Theres nothing resembling spark film anywhere\n",
       "4       Fresh          NaN  Please Give truly film age darkly comic stuff ..."
      ]
     },
     "execution_count": 188,
     "metadata": {},
     "output_type": "execute_result"
    }
   ],
   "source": [
    "#NLTK Version\n",
    "import tokenizer\n",
    "import token\n",
    "import nltk\n",
    "nltk.download('stopwords')\n",
    "from nltk.corpus import stopwords\n",
    "from nltk.tokenize.toktok import ToktokTokenizer\n",
    "\n",
    "stop1 = set(stopwords.words('english'))\n",
    "# punctuation = list(string.punctuation)\n",
    "tokenizer=ToktokTokenizer()\n",
    "def stopword_remover1(text1):\n",
    "    letters_only = re.sub(\"[^a-zA-Z]\",  # Search for all non-letters\n",
    "                          \" \",          # Replace all non-letters with spaces\n",
    "                          str(text1))\n",
    "    \n",
    "    tokens = tokenizer.tokenize(text1)\n",
    "    tokens = [token.strip() for token in tokens]\n",
    "    filtered_words = [token for token in tokens if token.lower() not in stop1]\n",
    "    filtered_text = \" \".join(filtered_words)\n",
    "    return filtered_text\n",
    "\n",
    "Link_Review[\"review_content\"] = Link_Review[\"review_content\"].apply(stopword_remover1)\n",
    "Link_Review.head()"
   ]
  },
  {
   "cell_type": "code",
   "execution_count": 189,
   "id": "cc5c7e37",
   "metadata": {
    "tags": []
   },
   "outputs": [
    {
     "name": "stderr",
     "output_type": "stream",
     "text": [
      "<ipython-input-189-65d420dc3f2c>:19: SettingWithCopyWarning: \n",
      "A value is trying to be set on a copy of a slice from a DataFrame.\n",
      "Try using .loc[row_indexer,col_indexer] = value instead\n",
      "\n",
      "See the caveats in the documentation: https://pandas.pydata.org/pandas-docs/stable/user_guide/indexing.html#returning-a-view-versus-a-copy\n",
      "  Link_Review[\"review_content\"] = Link_Review[\"review_content\"].apply(stopword_remover2)\n"
     ]
    },
    {
     "data": {
      "text/html": [
       "<div>\n",
       "<style scoped>\n",
       "    .dataframe tbody tr th:only-of-type {\n",
       "        vertical-align: middle;\n",
       "    }\n",
       "\n",
       "    .dataframe tbody tr th {\n",
       "        vertical-align: top;\n",
       "    }\n",
       "\n",
       "    .dataframe thead th {\n",
       "        text-align: right;\n",
       "    }\n",
       "</style>\n",
       "<table border=\"1\" class=\"dataframe\">\n",
       "  <thead>\n",
       "    <tr style=\"text-align: right;\">\n",
       "      <th></th>\n",
       "      <th>review_type</th>\n",
       "      <th>review_score</th>\n",
       "      <th>review_content</th>\n",
       "    </tr>\n",
       "  </thead>\n",
       "  <tbody>\n",
       "    <tr>\n",
       "      <th>0</th>\n",
       "      <td>Fresh</td>\n",
       "      <td>3/4</td>\n",
       "      <td>middle school teacher gifted literature value ...</td>\n",
       "    </tr>\n",
       "    <tr>\n",
       "      <th>1</th>\n",
       "      <td>Fresh</td>\n",
       "      <td>NaN</td>\n",
       "      <td>Lightning Thief admirable kids fantasy</td>\n",
       "    </tr>\n",
       "    <tr>\n",
       "      <th>2</th>\n",
       "      <td>Rotten</td>\n",
       "      <td>2.5/5</td>\n",
       "      <td>OK</td>\n",
       "    </tr>\n",
       "    <tr>\n",
       "      <th>3</th>\n",
       "      <td>Rotten</td>\n",
       "      <td>2/4</td>\n",
       "      <td>Theres resembling spark film</td>\n",
       "    </tr>\n",
       "    <tr>\n",
       "      <th>4</th>\n",
       "      <td>Fresh</td>\n",
       "      <td>NaN</td>\n",
       "      <td>truly film age darkly comic stuff mistress mis...</td>\n",
       "    </tr>\n",
       "  </tbody>\n",
       "</table>\n",
       "</div>"
      ],
      "text/plain": [
       "  review_type review_score                                     review_content\n",
       "0       Fresh          3/4  middle school teacher gifted literature value ...\n",
       "1       Fresh          NaN             Lightning Thief admirable kids fantasy\n",
       "2      Rotten        2.5/5                                                 OK\n",
       "3      Rotten          2/4                       Theres resembling spark film\n",
       "4       Fresh          NaN  truly film age darkly comic stuff mistress mis..."
      ]
     },
     "execution_count": 189,
     "metadata": {},
     "output_type": "execute_result"
    }
   ],
   "source": [
    "#Scikit Learn Version\n",
    "from nltk import ToktokTokenizer\n",
    "\n",
    "from sklearn.feature_extraction import text\n",
    "stop2 = text.ENGLISH_STOP_WORDS\n",
    "\n",
    "tokenizer=ToktokTokenizer()\n",
    "def stopword_remover2(text2):\n",
    "    letters_only = re.sub(\"[^a-zA-Z]\",  # Search for all non-letters\n",
    "                          \" \",          # Replace all non-letters with spaces\n",
    "                          str(text2))\n",
    "    \n",
    "    tokens = tokenizer.tokenize(text2)\n",
    "    tokens = [token.strip() for token in tokens]\n",
    "    filtered_words = [token for token in tokens if token.lower() not in stop2]\n",
    "    filtered_text = \" \".join(filtered_words)\n",
    "    return filtered_text\n",
    "\n",
    "Link_Review[\"review_content\"] = Link_Review[\"review_content\"].apply(stopword_remover2)\n",
    "Link_Review.head()"
   ]
  },
  {
   "cell_type": "markdown",
   "id": "daf670e7",
   "metadata": {},
   "source": [
    "# V. Choosing Lemmatization over Stemming (Able to generate outputs with tokenized results)"
   ]
  },
  {
   "cell_type": "code",
   "execution_count": 190,
   "id": "1f67796c",
   "metadata": {},
   "outputs": [
    {
     "name": "stderr",
     "output_type": "stream",
     "text": [
      "<ipython-input-190-981741887fa0>:14: SettingWithCopyWarning: \n",
      "A value is trying to be set on a copy of a slice from a DataFrame.\n",
      "Try using .loc[row_indexer,col_indexer] = value instead\n",
      "\n",
      "See the caveats in the documentation: https://pandas.pydata.org/pandas-docs/stable/user_guide/indexing.html#returning-a-view-versus-a-copy\n",
      "  Link_Review[\"review_content\"] = Link_Review[\"review_content\"].apply(lemmatized_word)\n"
     ]
    },
    {
     "data": {
      "text/html": [
       "<div>\n",
       "<style scoped>\n",
       "    .dataframe tbody tr th:only-of-type {\n",
       "        vertical-align: middle;\n",
       "    }\n",
       "\n",
       "    .dataframe tbody tr th {\n",
       "        vertical-align: top;\n",
       "    }\n",
       "\n",
       "    .dataframe thead th {\n",
       "        text-align: right;\n",
       "    }\n",
       "</style>\n",
       "<table border=\"1\" class=\"dataframe\">\n",
       "  <thead>\n",
       "    <tr style=\"text-align: right;\">\n",
       "      <th></th>\n",
       "      <th>review_type</th>\n",
       "      <th>review_score</th>\n",
       "      <th>review_content</th>\n",
       "    </tr>\n",
       "  </thead>\n",
       "  <tbody>\n",
       "    <tr>\n",
       "      <th>0</th>\n",
       "      <td>Fresh</td>\n",
       "      <td>3/4</td>\n",
       "      <td>middle school teacher gifted literature value ...</td>\n",
       "    </tr>\n",
       "    <tr>\n",
       "      <th>1</th>\n",
       "      <td>Fresh</td>\n",
       "      <td>NaN</td>\n",
       "      <td>Lightning Thief admirable kid fantasy</td>\n",
       "    </tr>\n",
       "    <tr>\n",
       "      <th>2</th>\n",
       "      <td>Rotten</td>\n",
       "      <td>2.5/5</td>\n",
       "      <td>OK</td>\n",
       "    </tr>\n",
       "    <tr>\n",
       "      <th>3</th>\n",
       "      <td>Rotten</td>\n",
       "      <td>2/4</td>\n",
       "      <td>Theres resembling spark film</td>\n",
       "    </tr>\n",
       "    <tr>\n",
       "      <th>4</th>\n",
       "      <td>Fresh</td>\n",
       "      <td>NaN</td>\n",
       "      <td>truly film age darkly comic stuff mistress mis...</td>\n",
       "    </tr>\n",
       "  </tbody>\n",
       "</table>\n",
       "</div>"
      ],
      "text/plain": [
       "  review_type review_score                                     review_content\n",
       "0       Fresh          3/4  middle school teacher gifted literature value ...\n",
       "1       Fresh          NaN              Lightning Thief admirable kid fantasy\n",
       "2      Rotten        2.5/5                                                 OK\n",
       "3      Rotten          2/4                       Theres resembling spark film\n",
       "4       Fresh          NaN  truly film age darkly comic stuff mistress mis..."
      ]
     },
     "execution_count": 190,
     "metadata": {},
     "output_type": "execute_result"
    }
   ],
   "source": [
    "from nltk.corpus import wordnet # To get words in dictionary with their parts of speech\n",
    "from nltk.stem import WordNetLemmatizer # lemmatizes word based on it's parts of speech\n",
    "from nltk.tokenize import word_tokenize,sent_tokenize\n",
    "from nltk.stem.porter import PorterStemmer\n",
    "\n",
    "w_tokenizer = nltk.tokenize.WhitespaceTokenizer()\n",
    "lemmatizer = nltk.stem.WordNetLemmatizer()\n",
    "\n",
    "def lemmatized_word(text):\n",
    "    words = w_tokenizer.tokenize(text)\n",
    "    lemmatized_text = \" \".join([lemmatizer.lemmatize(word) for word in words])\n",
    "    return lemmatized_text\n",
    "\n",
    "Link_Review[\"review_content\"] = Link_Review[\"review_content\"].apply(lemmatized_word)\n",
    "Link_Review.head()\n",
    "\n",
    "#Still need justificaiton to explain why choosing lemmatization over stemming\n",
    "#Explore feasibility of combining both lemmatization and stemming"
   ]
  },
  {
   "cell_type": "code",
   "execution_count": 16,
   "id": "59eb5000",
   "metadata": {},
   "outputs": [],
   "source": [
    "#Direct tokenization from pre-lemmatized data\n",
    "\n",
    "#import nltk\n",
    "#from nltk import sent_tokenize, word_tokenize\n",
    "#nltk.download('punkt')\n",
    "#nltk.download('wordnet')\n",
    "\n",
    "#Link_Review[\"tokenized_review_content\"] = Link_Review.apply(lambda row: nltk.word_tokenize(row[\"review_content\"]), axis=1)\n",
    "#Link_Review"
   ]
  },
  {
   "cell_type": "markdown",
   "id": "6636cacb",
   "metadata": {},
   "source": [
    "# VI. Transform series to list"
   ]
  },
  {
   "cell_type": "code",
   "execution_count": 204,
   "id": "5c1e20b2",
   "metadata": {
    "tags": []
   },
   "outputs": [],
   "source": [
    "import re\n",
    "\n",
    "type(Link_Review[\"review_content\"]) #Determining type of the \"review_content\"\n",
    "\n",
    "Series_Link_Review = Link_Review[\"review_content\"]\n",
    "Listed_Link_Review = Series_Link_Review.tolist()\n",
    "\n",
    "type(Listed_Link_Review) #Confirmation for listed result\n",
    "\n",
    "Listed_Link_Review\n",
    "\n",
    "values = ','.join(map(str, Series_Link_Review))"
   ]
  },
  {
   "cell_type": "code",
   "execution_count": 18,
   "id": "766f7562",
   "metadata": {},
   "outputs": [],
   "source": [
    "#Top 200 Words Only\n",
    "\n",
    "#from collections import Counter\n",
    "#top50 = [x[0] for x in Counter(\" \".join(Link_Review[\"review_content\"]).split()).most_common(200)]\n",
    "#top50"
   ]
  },
  {
   "cell_type": "markdown",
   "id": "006ec18d",
   "metadata": {},
   "source": [
    "# VII. Get the 200 most frequent words"
   ]
  },
  {
   "cell_type": "code",
   "execution_count": 19,
   "id": "be1bfe57",
   "metadata": {
    "collapsed": true,
    "jupyter": {
     "outputs_hidden": true
    },
    "tags": []
   },
   "outputs": [
    {
     "name": "stdout",
     "output_type": "stream",
     "text": [
      "film 10288\n",
      "movie 5602\n",
      "story 3387\n",
      "like 3016\n",
      "review 2651\n",
      "make 2644\n",
      "spanish 2557\n",
      "performance 2476\n",
      "character 2398\n",
      "time 2386\n",
      "feel 2043\n",
      "good 1952\n",
      "way 1825\n",
      "work 1652\n",
      "life 1532\n",
      "best 1500\n",
      "horror 1413\n",
      "fun 1410\n",
      "great 1394\n",
      "doesnt 1314\n",
      "comedy 1223\n",
      "little 1215\n",
      "director 1213\n",
      "drama 1206\n",
      "action 1198\n",
      "love 1178\n",
      "there 1136\n",
      "really 1118\n",
      "come 1082\n",
      "end 1067\n",
      "world 1037\n",
      "thing 1036\n",
      "thriller 1022\n",
      "thats 1013\n",
      "isnt 1008\n",
      "moment 1004\n",
      "new 965\n",
      "year 958\n",
      "look 938\n",
      "entertaining 904\n",
      "cast 898\n",
      "better 878\n",
      "people 868\n",
      "audience 852\n",
      "funny 837\n",
      "man 829\n",
      "lot 829\n",
      "quite 823\n",
      "watch 808\n",
      "genre 794\n",
      "right 789\n",
      "bad 769\n",
      "plot 763\n",
      "documentary 763\n",
      "tale 755\n",
      "sense 742\n",
      "bit 733\n",
      "scene 731\n",
      "fan 730\n",
      "dont 728\n",
      "real 727\n",
      "far 708\n",
      "long 703\n",
      "kind 699\n",
      "script 695\n",
      "woman 681\n",
      "know 678\n",
      "heart 671\n",
      "feature 671\n",
      "narrative 671\n",
      "family 664\n",
      "actor 656\n",
      "want 655\n",
      "despite 643\n",
      "turn 639\n",
      "filmmaker 638\n",
      "worth 637\n",
      "experience 634\n",
      "need 618\n",
      "emotional 614\n",
      "viewer 613\n",
      "point 609\n",
      "star 601\n",
      "say 584\n",
      "seen 582\n",
      "play 582\n",
      "interesting 582\n",
      "piece 565\n",
      "take 554\n",
      "cinema 552\n",
      "think 542\n",
      "strong 536\n",
      "watching 530\n",
      "classic 527\n",
      "human 526\n",
      "screen 523\n",
      "going 520\n",
      "compelling 520\n",
      "big 513\n",
      "minute 511\n",
      "ultimately 511\n",
      "war 509\n",
      "original 507\n",
      "humor 502\n",
      "picture 497\n",
      "set 496\n",
      "true 495\n",
      "hard 492\n",
      "place 492\n",
      "lack 491\n",
      "offer 491\n",
      "idea 490\n",
      "making 488\n",
      "effect 488\n",
      "lead 484\n",
      "youre 482\n",
      "dark 476\n",
      "truly 473\n",
      "give 465\n",
      "style 462\n",
      "get 460\n",
      "history 460\n",
      "pretty 454\n",
      "role 444\n",
      "beautiful 442\n",
      "american 440\n",
      "young 440\n",
      "day 434\n",
      "acting 428\n",
      "subject 427\n",
      "cinematic 423\n",
      "music 418\n",
      "powerful 417\n",
      "feeling 416\n",
      "power 413\n",
      "portrait 411\n",
      "perfect 405\n",
      "simply 402\n",
      "solid 400\n",
      "kid 398\n",
      "laugh 395\n",
      "level 393\n",
      "art 392\n",
      "element 388\n",
      "actually 385\n",
      "moving 384\n",
      "high 383\n",
      "fascinating 381\n",
      "away 381\n",
      "adventure 380\n",
      "instead 379\n",
      "let 379\n",
      "manages 378\n",
      "violence 377\n",
      "familiar 375\n",
      "debut 373\n",
      "certainly 372\n",
      "game 370\n",
      "visual 368\n",
      "trying 367\n",
      "delivers 361\n",
      "go 361\n",
      "boy 361\n",
      "entertainment 360\n",
      "shot 360\n",
      "old 360\n",
      "especially 359\n",
      "social 358\n",
      "direction 355\n",
      "result 352\n",
      "short 352\n",
      "face 351\n",
      "tone 347\n",
      "effective 346\n",
      "act 345\n",
      "girl 343\n",
      "left 342\n",
      "start 341\n",
      "fall 341\n",
      "message 340\n",
      "hour 340\n",
      "premise 339\n",
      "material 339\n",
      "show 338\n",
      "sure 336\n",
      "theme 335\n",
      "filmmaking 333\n",
      "eye 332\n",
      "enjoyable 331\n",
      "easy 331\n",
      "final 330\n",
      "mind 329\n",
      "production 328\n",
      "different 327\n",
      "tell 326\n",
      "sequence 325\n",
      "enjoy 325\n",
      "ride 322\n",
      "fine 322\n",
      "black 321\n"
     ]
    }
   ],
   "source": [
    "#Top 200 words with frequency\n",
    "from sklearn.feature_extraction.text import CountVectorizer\n",
    "\n",
    "def get_top_n_words(Listed_Link_Review, n=None):\n",
    "    vec = CountVectorizer().fit(Listed_Link_Review)\n",
    "    bag_of_words = vec.transform(Listed_Link_Review)\n",
    "    sum_words = bag_of_words.sum(axis=0) \n",
    "    words_freq = [(word, sum_words[0, idx]) for word, idx in vec.vocabulary_.items()]\n",
    "    words_freq =sorted(words_freq, key = lambda x: x[1], reverse=True)\n",
    "    return words_freq[:n]\n",
    "\n",
    "common_words = get_top_n_words(Listed_Link_Review, 200)\n",
    "for word, freq in common_words:\n",
    "    print(word, freq)"
   ]
  },
  {
   "cell_type": "code",
   "execution_count": 191,
   "id": "3573e550-2c9e-4098-8bd7-b046df18159e",
   "metadata": {},
   "outputs": [
    {
     "name": "stderr",
     "output_type": "stream",
     "text": [
      "<ipython-input-191-c89643d6ea5f>:1: SettingWithCopyWarning: \n",
      "A value is trying to be set on a copy of a slice from a DataFrame.\n",
      "Try using .loc[row_indexer,col_indexer] = value instead\n",
      "\n",
      "See the caveats in the documentation: https://pandas.pydata.org/pandas-docs/stable/user_guide/indexing.html#returning-a-view-versus-a-copy\n",
      "  Link_Review['word_count'] = Link_Review['review_content'].str.count(' ') + 1\n"
     ]
    },
    {
     "data": {
      "text/html": [
       "<div>\n",
       "<style scoped>\n",
       "    .dataframe tbody tr th:only-of-type {\n",
       "        vertical-align: middle;\n",
       "    }\n",
       "\n",
       "    .dataframe tbody tr th {\n",
       "        vertical-align: top;\n",
       "    }\n",
       "\n",
       "    .dataframe thead th {\n",
       "        text-align: right;\n",
       "    }\n",
       "</style>\n",
       "<table border=\"1\" class=\"dataframe\">\n",
       "  <thead>\n",
       "    <tr style=\"text-align: right;\">\n",
       "      <th></th>\n",
       "      <th>review_type</th>\n",
       "      <th>review_score</th>\n",
       "      <th>review_content</th>\n",
       "      <th>word_count</th>\n",
       "    </tr>\n",
       "  </thead>\n",
       "  <tbody>\n",
       "    <tr>\n",
       "      <th>0</th>\n",
       "      <td>Fresh</td>\n",
       "      <td>3/4</td>\n",
       "      <td>middle school teacher gifted literature value ...</td>\n",
       "      <td>12</td>\n",
       "    </tr>\n",
       "    <tr>\n",
       "      <th>1</th>\n",
       "      <td>Fresh</td>\n",
       "      <td>NaN</td>\n",
       "      <td>Lightning Thief admirable kid fantasy</td>\n",
       "      <td>5</td>\n",
       "    </tr>\n",
       "    <tr>\n",
       "      <th>2</th>\n",
       "      <td>Rotten</td>\n",
       "      <td>2.5/5</td>\n",
       "      <td>OK</td>\n",
       "      <td>1</td>\n",
       "    </tr>\n",
       "    <tr>\n",
       "      <th>3</th>\n",
       "      <td>Rotten</td>\n",
       "      <td>2/4</td>\n",
       "      <td>Theres resembling spark film</td>\n",
       "      <td>4</td>\n",
       "    </tr>\n",
       "    <tr>\n",
       "      <th>4</th>\n",
       "      <td>Fresh</td>\n",
       "      <td>NaN</td>\n",
       "      <td>truly film age darkly comic stuff mistress mis...</td>\n",
       "      <td>9</td>\n",
       "    </tr>\n",
       "  </tbody>\n",
       "</table>\n",
       "</div>"
      ],
      "text/plain": [
       "  review_type review_score                                     review_content  \\\n",
       "0       Fresh          3/4  middle school teacher gifted literature value ...   \n",
       "1       Fresh          NaN              Lightning Thief admirable kid fantasy   \n",
       "2      Rotten        2.5/5                                                 OK   \n",
       "3      Rotten          2/4                       Theres resembling spark film   \n",
       "4       Fresh          NaN  truly film age darkly comic stuff mistress mis...   \n",
       "\n",
       "   word_count  \n",
       "0          12  \n",
       "1           5  \n",
       "2           1  \n",
       "3           4  \n",
       "4           9  "
      ]
     },
     "execution_count": 191,
     "metadata": {},
     "output_type": "execute_result"
    }
   ],
   "source": [
    "Link_Review['word_count'] = Link_Review['review_content'].str.count(' ') + 1\n",
    "Link_Review.head()"
   ]
  },
  {
   "cell_type": "code",
   "execution_count": 21,
   "id": "487927cf-c301-4230-a86b-04d6b5cf57ce",
   "metadata": {},
   "outputs": [
    {
     "data": {
      "text/plain": [
       "11.426638394613736"
      ]
     },
     "execution_count": 21,
     "metadata": {},
     "output_type": "execute_result"
    }
   ],
   "source": [
    "import math\n",
    "pd.Series.mean(Link_Review['word_count'])"
   ]
  },
  {
   "cell_type": "code",
   "execution_count": null,
   "id": "fb78919f-b824-420d-b0e4-5c99e6bf758c",
   "metadata": {
    "tags": []
   },
   "outputs": [],
   "source": [
    "Link_Review['Sentiment'] = None\n",
    "for i in range(len(Link_Review)): \n",
    "    if Link_Review['review_type'][i] == \"Fresh\": \n",
    "        Link_Review['Sentiment'][i] = 1\n",
    "    else: \n",
    "        Link_Review['Sentiment'][i] = -1"
   ]
  },
  {
   "cell_type": "code",
   "execution_count": 193,
   "id": "5e7206db-523a-4081-80d9-0424446e9393",
   "metadata": {},
   "outputs": [
    {
     "data": {
      "text/html": [
       "<div>\n",
       "<style scoped>\n",
       "    .dataframe tbody tr th:only-of-type {\n",
       "        vertical-align: middle;\n",
       "    }\n",
       "\n",
       "    .dataframe tbody tr th {\n",
       "        vertical-align: top;\n",
       "    }\n",
       "\n",
       "    .dataframe thead th {\n",
       "        text-align: right;\n",
       "    }\n",
       "</style>\n",
       "<table border=\"1\" class=\"dataframe\">\n",
       "  <thead>\n",
       "    <tr style=\"text-align: right;\">\n",
       "      <th></th>\n",
       "      <th>review_type</th>\n",
       "      <th>review_score</th>\n",
       "      <th>review_content</th>\n",
       "      <th>word_count</th>\n",
       "      <th>Sentiment</th>\n",
       "    </tr>\n",
       "  </thead>\n",
       "  <tbody>\n",
       "    <tr>\n",
       "      <th>0</th>\n",
       "      <td>Fresh</td>\n",
       "      <td>3/4</td>\n",
       "      <td>middle school teacher gifted literature value ...</td>\n",
       "      <td>12</td>\n",
       "      <td>1</td>\n",
       "    </tr>\n",
       "    <tr>\n",
       "      <th>1</th>\n",
       "      <td>Fresh</td>\n",
       "      <td>NaN</td>\n",
       "      <td>Lightning Thief admirable kid fantasy</td>\n",
       "      <td>5</td>\n",
       "      <td>1</td>\n",
       "    </tr>\n",
       "    <tr>\n",
       "      <th>2</th>\n",
       "      <td>Rotten</td>\n",
       "      <td>2.5/5</td>\n",
       "      <td>OK</td>\n",
       "      <td>1</td>\n",
       "      <td>-1</td>\n",
       "    </tr>\n",
       "    <tr>\n",
       "      <th>3</th>\n",
       "      <td>Rotten</td>\n",
       "      <td>2/4</td>\n",
       "      <td>Theres resembling spark film</td>\n",
       "      <td>4</td>\n",
       "      <td>-1</td>\n",
       "    </tr>\n",
       "    <tr>\n",
       "      <th>4</th>\n",
       "      <td>Fresh</td>\n",
       "      <td>NaN</td>\n",
       "      <td>truly film age darkly comic stuff mistress mis...</td>\n",
       "      <td>9</td>\n",
       "      <td>1</td>\n",
       "    </tr>\n",
       "  </tbody>\n",
       "</table>\n",
       "</div>"
      ],
      "text/plain": [
       "  review_type review_score                                     review_content  \\\n",
       "0       Fresh          3/4  middle school teacher gifted literature value ...   \n",
       "1       Fresh          NaN              Lightning Thief admirable kid fantasy   \n",
       "2      Rotten        2.5/5                                                 OK   \n",
       "3      Rotten          2/4                       Theres resembling spark film   \n",
       "4       Fresh          NaN  truly film age darkly comic stuff mistress mis...   \n",
       "\n",
       "   word_count Sentiment  \n",
       "0          12         1  \n",
       "1           5         1  \n",
       "2           1        -1  \n",
       "3           4        -1  \n",
       "4           9         1  "
      ]
     },
     "execution_count": 193,
     "metadata": {},
     "output_type": "execute_result"
    }
   ],
   "source": [
    "Link_Review.head()\n",
    "# specify why choose 1 and -1 in the report\n",
    "# look up explanantions online, must be a reason. Maybe 1 and -1 opposite"
   ]
  },
  {
   "cell_type": "code",
   "execution_count": 194,
   "id": "88ef66c4-4696-48cc-8bdc-1e51a376022b",
   "metadata": {},
   "outputs": [
    {
     "data": {
      "text/html": [
       "<div>\n",
       "<style scoped>\n",
       "    .dataframe tbody tr th:only-of-type {\n",
       "        vertical-align: middle;\n",
       "    }\n",
       "\n",
       "    .dataframe tbody tr th {\n",
       "        vertical-align: top;\n",
       "    }\n",
       "\n",
       "    .dataframe thead th {\n",
       "        text-align: right;\n",
       "    }\n",
       "</style>\n",
       "<table border=\"1\" class=\"dataframe\">\n",
       "  <thead>\n",
       "    <tr style=\"text-align: right;\">\n",
       "      <th></th>\n",
       "      <th>Word</th>\n",
       "      <th>Word_Count</th>\n",
       "      <th>Positivity</th>\n",
       "    </tr>\n",
       "  </thead>\n",
       "  <tbody>\n",
       "    <tr>\n",
       "      <th>0</th>\n",
       "      <td>like</td>\n",
       "      <td>3016</td>\n",
       "      <td>True</td>\n",
       "    </tr>\n",
       "    <tr>\n",
       "      <th>1</th>\n",
       "      <td>good</td>\n",
       "      <td>1952</td>\n",
       "      <td>True</td>\n",
       "    </tr>\n",
       "    <tr>\n",
       "      <th>2</th>\n",
       "      <td>best</td>\n",
       "      <td>1500</td>\n",
       "      <td>True</td>\n",
       "    </tr>\n",
       "    <tr>\n",
       "      <th>3</th>\n",
       "      <td>horror</td>\n",
       "      <td>1413</td>\n",
       "      <td>False</td>\n",
       "    </tr>\n",
       "    <tr>\n",
       "      <th>4</th>\n",
       "      <td>fun</td>\n",
       "      <td>1410</td>\n",
       "      <td>True</td>\n",
       "    </tr>\n",
       "  </tbody>\n",
       "</table>\n",
       "</div>"
      ],
      "text/plain": [
       "     Word  Word_Count  Positivity\n",
       "0    like        3016        True\n",
       "1    good        1952        True\n",
       "2    best        1500        True\n",
       "3  horror        1413       False\n",
       "4     fun        1410        True"
      ]
     },
     "execution_count": 194,
     "metadata": {},
     "output_type": "execute_result"
    }
   ],
   "source": [
    "selected_words = pd.read_csv(\"Selected Sentiment Words from Top 200 Most Frequent Words.txt\", sep = \" \", header = None)\n",
    "selected_words.columns = [\"Word\", \"Word_Count\", \"Positivity\"]\n",
    "selected_words.head()"
   ]
  },
  {
   "cell_type": "code",
   "execution_count": 25,
   "id": "7a72d69e-7c2d-4d16-a83c-85bc1c2b1d79",
   "metadata": {},
   "outputs": [],
   "source": [
    "words_only = selected_words[\"Word\"]\n",
    "listed_words_only = list(words_only)\n",
    "#Link_Review['Word_score'] = 0\n",
    "#for i in range(len(listed_words_only)): \n",
    " #   for j in range(len(Link_Review['review_content'])): \n",
    "  #      if listed_words_only[i] in Link_Review['review_content'][j]: \n",
    "   #         Link_Review['Word_score'][j] += 1\n",
    "    #    else: \n",
    "     #       Link_Review['Word_score'][j] = 0"
   ]
  },
  {
   "cell_type": "markdown",
   "id": "f6b83a0c-b833-4614-968d-540b402aff62",
   "metadata": {},
   "source": [
    "# Vectorize feature with top 65 most common words"
   ]
  },
  {
   "cell_type": "code",
   "execution_count": 26,
   "id": "beb5e467-ba1d-4b51-84a2-de49042d4c87",
   "metadata": {},
   "outputs": [],
   "source": [
    "from sklearn.feature_extraction.text import CountVectorizer\n",
    "cv = CountVectorizer()\n",
    "cv_train = cv.fit_transform(Link_Review[\"review_content\"])"
   ]
  },
  {
   "cell_type": "code",
   "execution_count": 27,
   "id": "df01b9b7-63ef-4cbd-9cfc-37c24299f1e3",
   "metadata": {
    "collapsed": true,
    "jupyter": {
     "outputs_hidden": true
    },
    "tags": []
   },
   "outputs": [
    {
     "data": {
      "text/plain": [
       "[18194,\n",
       " 13107,\n",
       " 2815,\n",
       " 14886,\n",
       " 12298,\n",
       " 13353,\n",
       " 8720,\n",
       " 18321,\n",
       " 18579,\n",
       " 21321,\n",
       " 10027,\n",
       " 2849,\n",
       " 12331,\n",
       " 18554,\n",
       " 25212,\n",
       " 26643,\n",
       " 2140,\n",
       " 3015,\n",
       " 8803,\n",
       " 25548,\n",
       " 10916,\n",
       " 18457,\n",
       " 17270,\n",
       " 34716,\n",
       " 35642,\n",
       " 9758,\n",
       " 16184,\n",
       " 30636,\n",
       " 5361,\n",
       " 5919,\n",
       " 2902,\n",
       " 33190,\n",
       " 22354,\n",
       " 15074,\n",
       " 32910,\n",
       " 13939,\n",
       " 17569,\n",
       " 7332,\n",
       " 32925,\n",
       " 24502,\n",
       " 2545,\n",
       " 35869,\n",
       " 5261,\n",
       " 24261,\n",
       " 11122,\n",
       " 24258,\n",
       " 23312,\n",
       " 28877,\n",
       " 29548,\n",
       " 294,\n",
       " 10964,\n",
       " 34439,\n",
       " 32950,\n",
       " 10034,\n",
       " 22066,\n",
       " 10229,\n",
       " 28610,\n",
       " 9476,\n",
       " 31083,\n",
       " 9956,\n",
       " 9357,\n",
       " 11366,\n",
       " 8202,\n",
       " 9954,\n",
       " 11383]"
      ]
     },
     "execution_count": 27,
     "metadata": {},
     "output_type": "execute_result"
    }
   ],
   "source": [
    "list_1 = []\n",
    "for i in range(len(listed_words_only)): \n",
    "    n = cv.get_feature_names().index(listed_words_only[i])\n",
    "    list_1.append(n)\n",
    "list_1"
   ]
  },
  {
   "cell_type": "code",
   "execution_count": 28,
   "id": "5b2e7a4e-ac9e-4d48-8a8b-eadce3802822",
   "metadata": {},
   "outputs": [],
   "source": [
    "# split df - positive and negative sentiment:\n",
    "positive = Link_Review[Link_Review['Sentiment'] == 1]\n",
    "negative = Link_Review[Link_Review['Sentiment'] == -1]"
   ]
  },
  {
   "cell_type": "markdown",
   "id": "443f863d-1bec-4b0f-98e6-9f45212982bf",
   "metadata": {
    "tags": []
   },
   "source": [
    "# Save Finalized data and Load "
   ]
  },
  {
   "cell_type": "code",
   "execution_count": 138,
   "id": "7141c085-e7f8-416c-857b-75ae7c478020",
   "metadata": {},
   "outputs": [
    {
     "data": {
      "text/html": [
       "<div>\n",
       "<style scoped>\n",
       "    .dataframe tbody tr th:only-of-type {\n",
       "        vertical-align: middle;\n",
       "    }\n",
       "\n",
       "    .dataframe tbody tr th {\n",
       "        vertical-align: top;\n",
       "    }\n",
       "\n",
       "    .dataframe thead th {\n",
       "        text-align: right;\n",
       "    }\n",
       "</style>\n",
       "<table border=\"1\" class=\"dataframe\">\n",
       "  <thead>\n",
       "    <tr style=\"text-align: right;\">\n",
       "      <th></th>\n",
       "      <th>review_content</th>\n",
       "      <th>Sentiment</th>\n",
       "    </tr>\n",
       "  </thead>\n",
       "  <tbody>\n",
       "    <tr>\n",
       "      <th>0</th>\n",
       "      <td>middle school teacher gifted literature value ...</td>\n",
       "      <td>1</td>\n",
       "    </tr>\n",
       "    <tr>\n",
       "      <th>1</th>\n",
       "      <td>lightning thief admirable kid fantasy</td>\n",
       "      <td>1</td>\n",
       "    </tr>\n",
       "    <tr>\n",
       "      <th>2</th>\n",
       "      <td>ok</td>\n",
       "      <td>-1</td>\n",
       "    </tr>\n",
       "    <tr>\n",
       "      <th>3</th>\n",
       "      <td>there resembling spark film</td>\n",
       "      <td>-1</td>\n",
       "    </tr>\n",
       "    <tr>\n",
       "      <th>4</th>\n",
       "      <td>truly film age darkly comic stuff mistress mis...</td>\n",
       "      <td>1</td>\n",
       "    </tr>\n",
       "  </tbody>\n",
       "</table>\n",
       "</div>"
      ],
      "text/plain": [
       "                                      review_content Sentiment\n",
       "0  middle school teacher gifted literature value ...         1\n",
       "1              lightning thief admirable kid fantasy         1\n",
       "2                                                 ok        -1\n",
       "3                        there resembling spark film        -1\n",
       "4  truly film age darkly comic stuff mistress mis...         1"
      ]
     },
     "execution_count": 138,
     "metadata": {},
     "output_type": "execute_result"
    }
   ],
   "source": [
    "finalized_reviews = Link_Review[['review_content','Sentiment']]\n",
    "finalized_reviews.head()"
   ]
  },
  {
   "cell_type": "code",
   "execution_count": 139,
   "id": "41182430-9608-4250-b346-86256eac92d4",
   "metadata": {},
   "outputs": [],
   "source": [
    "finalized_reviews.to_csv(\"finalized_reviews.csv\")"
   ]
  },
  {
   "cell_type": "code",
   "execution_count": 140,
   "id": "364f2823-6138-4130-b142-a130383a095c",
   "metadata": {},
   "outputs": [
    {
     "name": "stdout",
     "output_type": "stream",
     "text": [
      "X_train.shape: (36596, 1)\n",
      "y_train.shape: (36596,)\n",
      "X_test.shape: (9150, 1)\n",
      "y_test.shape: (9150,)\n",
      "Train/Valid/Test sizes: 36596 7320 9150\n"
     ]
    }
   ],
   "source": [
    "from sklearn.model_selection import train_test_split\n",
    "X_data = Link_Review[['review_content']]\n",
    "y_data = Link_Review['Sentiment'].values\n",
    "\n",
    "X_train, X_test, y_train, y_test = train_test_split(X_data, y_data, \n",
    "                                                    test_size = 0.2, \n",
    "                                                    random_state=1, \n",
    "                                                    stratify = y_data)\n",
    "X_train_sub, X_valid, y_train_sub, y_valid = train_test_split(X_train, y_train, \n",
    "                                                              test_size = 0.2, \n",
    "                                                              random_state=1, \n",
    "                                                              stratify = y_train)\n",
    "\n",
    "print('X_train.shape:', X_train.shape)\n",
    "print('y_train.shape:', y_train.shape)\n",
    "print('X_test.shape:', X_test.shape)\n",
    "print('y_test.shape:', y_test.shape)\n",
    "print('Train/Valid/Test sizes:', y_train.shape[0], y_valid.shape[0], y_test.shape[0])"
   ]
  },
  {
   "cell_type": "code",
   "execution_count": 141,
   "id": "6514a54a-9c37-40f6-8d8c-924a065406db",
   "metadata": {},
   "outputs": [],
   "source": [
    "# count vectorizer:\n",
    "from sklearn.feature_extraction.text import CountVectorizer\n",
    "vec = CountVectorizer()\n",
    "# vectorize X_train and X_test\n",
    "train_matrix = vec.fit_transform(X_train['review_content'])\n",
    "test_matrix = vec.transform(X_test['review_content'])\n",
    "# vectorize X_train_sub and X_valid\n",
    "# train_sub_matrix = vec.fit_transform(X_train_sub['review_content'])\n",
    "# valid_matrix = vec.transform(X_valid['review_content'])"
   ]
  },
  {
   "cell_type": "code",
   "execution_count": 142,
   "id": "f779a37b-7bdd-4241-ab17-186c91411c2b",
   "metadata": {},
   "outputs": [
    {
     "name": "stdout",
     "output_type": "stream",
     "text": [
      "(36596, 32922)\n",
      "(36596,)\n",
      "(9150, 32922)\n",
      "(9150,)\n"
     ]
    }
   ],
   "source": [
    "X_train = train_matrix\n",
    "X_test = test_matrix\n",
    "y_train = y_train.astype('int')\n",
    "y_test = y_test.astype('int')\n",
    "# X_train_sub = train_sub_matrix\n",
    "# X_valid = valid_matrix\n",
    "# y_train_sub = y_train_sub.astype('int')\n",
    "# y_valid = y_valid.astype('int')\n",
    "\n",
    "# print dimensions\n",
    "print(X_train.shape)\n",
    "print(y_train.shape)\n",
    "print(X_test.shape)\n",
    "print(y_test.shape)\n",
    "\n",
    "# print(X_train_sub.shape)\n",
    "# print(y_train_sub.shape)\n",
    "# print(X_valid.shape)\n",
    "# print(y_valid.shape)"
   ]
  },
  {
   "cell_type": "code",
   "execution_count": 91,
   "id": "cdcdf9e5-7e9c-41a9-938c-2496a77c9a7d",
   "metadata": {
    "tags": []
   },
   "outputs": [],
   "source": [
    "from sklearn.neighbors import KNeighborsClassifier\n",
    "from sklearn import model_selection\n",
    "from sklearn.linear_model import LogisticRegression\n",
    "from sklearn.ensemble import AdaBoostClassifier\n",
    "from sklearn.ensemble import RandomForestClassifier\n",
    "from sklearn.tree import DecisionTreeClassifier\n",
    "from sklearn.experimental import enable_hist_gradient_boosting\n",
    "from sklearn.ensemble import HistGradientBoostingClassifier\n",
    "from sklearn.model_selection import GridSearchCV\n",
    "\n",
    "from mlxtend.classifier import StackingClassifier\n",
    "from mlxtend.classifier import StackingCVClassifier\n",
    "\n",
    "%matplotlib inline\n",
    "import matplotlib.pyplot as plt"
   ]
  },
  {
   "cell_type": "markdown",
   "id": "23540c6b-4388-4a8e-8bd3-36ac198e87be",
   "metadata": {},
   "source": [
    "# Model Fitting and Model Selection"
   ]
  },
  {
   "cell_type": "markdown",
   "id": "f88ed05a-978f-4c54-a0e2-6f718e15a020",
   "metadata": {},
   "source": [
    "## KNN"
   ]
  },
  {
   "cell_type": "code",
   "execution_count": 202,
   "id": "27476fb1-abcd-4aa4-a426-7f93d9745f6e",
   "metadata": {},
   "outputs": [
    {
     "name": "stdout",
     "output_type": "stream",
     "text": [
      "Train Accuracy: 79.175%\n",
      "Test Accuracy: 71.672%\n"
     ]
    }
   ],
   "source": [
    "knn = KNeighborsClassifier(n_neighbors=7) \n",
    "knn.fit(X_train, y_train)\n",
    "print(f\"Train Accuracy: {knn.score(X_train, y_train)*100:0.3f}%\")\n",
    "print(f\"Test Accuracy: {knn.score(X_test, y_test)*100:0.3f}%\")"
   ]
  },
  {
   "cell_type": "code",
   "execution_count": 110,
   "id": "8d77dd98-c590-434e-8f18-34dce1f4717e",
   "metadata": {
    "tags": []
   },
   "outputs": [],
   "source": [
    "pred_train, pred_test = [], []\n",
    "\n",
    "intervals = np.arange(500, X_train.shape[0] + 1, 200)\n",
    "\n",
    "for i in intervals:\n",
    "    knn.fit(X_train[:i], y_train[:i])\n",
    "    p_train = knn.score(X_train[:i], y_train[:i])\n",
    "    p_test = knn.score(X_test, y_test)\n",
    "    pred_train.append(p_train)\n",
    "    pred_test.append(p_test)"
   ]
  },
  {
   "cell_type": "code",
   "execution_count": 125,
   "id": "f56f7089-60cf-4734-81b3-56500f2fb08a",
   "metadata": {
    "tags": []
   },
   "outputs": [
    {
     "data": {
      "image/png": "[encoded data removed]",
      "text/plain": [
       "<Figure size 800x600 with 1 Axes>"
      ]
     },
     "metadata": {
      "needs_background": "light"
     },
     "output_type": "display_data"
    }
   ],
   "source": [
    "from matplotlib.pyplot import figure\n",
    "\n",
    "figure(figsize=(8, 6), dpi=100)\n",
    "with plt.style.context(('fivethirtyeight')):\n",
    "    plt.plot(intervals, pred_train, marker='o', label='Train', linewidth = 2)\n",
    "    plt.plot(intervals, pred_test, marker='s', label='Test', linewidth = 2)\n",
    "    plt.legend(loc='best', numpoints=1)\n",
    "    plt.xlim([430, X_train.shape[0] + X_test.shape[0]])\n",
    "    plt.axvspan(X_train.shape[0], \n",
    "                X_train.shape[0] + X_test.shape[0], \n",
    "                alpha=0.2, \n",
    "                color='steelblue')\n",
    "    plt.ylim([0.3, 1.0])\n",
    "    plt.xlabel('Training Set Size')\n",
    "    plt.ylabel('Accuracy')\n",
    "    plt.tight_layout()\n",
    "    # plt.savefig('figures/model-eval-mnist_0.svg')"
   ]
  },
  {
   "cell_type": "markdown",
   "id": "b5586ca2-5cf2-4235-bd9d-35fd9fc56f23",
   "metadata": {},
   "source": [
    "## Random Forest"
   ]
  },
  {
   "cell_type": "code",
   "execution_count": 147,
   "id": "850a6790-f95f-4bbe-9056-51c05911c195",
   "metadata": {},
   "outputs": [
    {
     "name": "stdout",
     "output_type": "stream",
     "text": [
      "Train Accuracy: 99.975%\n",
      "Test Accuracy: 81.781%\n"
     ]
    }
   ],
   "source": [
    "random_forest_model = RandomForestClassifier(criterion='entropy', n_estimators=100,\n",
    "                                random_state=1)\n",
    "random_forest_model.fit(X_train, y_train)\n",
    "print(f\"Train Accuracy: {random_forest_model.score(X_train, y_train)*100:0.3f}%\")\n",
    "print(f\"Test Accuracy: {random_forest_model.score(X_test, y_test)*100:0.3f}%\")"
   ]
  },
  {
   "cell_type": "markdown",
   "id": "a0a14d7e-8d87-486b-bbb7-03ebfe92757a",
   "metadata": {},
   "source": [
    "RandomForest: criterion='entropy', n_estimator = 150, max_depth = None: Train Accuracy: 99.975%, test Accuracy: 81.781%"
   ]
  },
  {
   "cell_type": "markdown",
   "id": "9c40b222-a9ac-4c53-8aa4-254a80e9a594",
   "metadata": {},
   "source": [
    "### Try: class_weight='balanced'"
   ]
  },
  {
   "cell_type": "code",
   "execution_count": 145,
   "id": "280252c4-df79-4b8c-8ad3-54170ceea3b8",
   "metadata": {
    "tags": []
   },
   "outputs": [
    {
     "name": "stdout",
     "output_type": "stream",
     "text": [
      "Train Accuracy: 99.973%\n",
      "Test Accuracy: 82.251%\n"
     ]
    }
   ],
   "source": [
    "random_forest_model = RandomForestClassifier(criterion='entropy', n_estimators=100,\n",
    "                                random_state=1, class_weight='balanced')\n",
    "random_forest_model.fit(X_train, y_train)\n",
    "print(f\"Train Accuracy: {random_forest_model.score(X_train, y_train)*100:0.3f}%\")\n",
    "print(f\"Test Accuracy: {random_forest_model.score(X_test, y_test)*100:0.3f}%\")"
   ]
  },
  {
   "cell_type": "markdown",
   "id": "81818ecc-784b-4c51-8a73-4fd6d43c7b6e",
   "metadata": {},
   "source": [
    "## Stacking (discard)"
   ]
  },
  {
   "cell_type": "code",
   "execution_count": 36,
   "id": "6fe1e2cb-1895-458c-a210-003cb9ca28aa",
   "metadata": {
    "tags": []
   },
   "outputs": [
    {
     "name": "stdout",
     "output_type": "stream",
     "text": [
      "Train Accuracy: 99.973%\n",
      "Test Accuracy: 81.738%\n"
     ]
    }
   ],
   "source": [
    "clf1 = KNeighborsClassifier(n_neighbors=9)\n",
    "clf2 = RandomForestClassifier(criterion='entropy', n_estimators=100, random_state=1)\n",
    "lr = LogisticRegression(random_state=123)\n",
    "sclf = StackingCVClassifier(classifiers=[clf1, clf2], \n",
    "                            meta_classifier=lr, \n",
    "                            use_probas=True, # changed\n",
    "                            drop_proba_col='last',\n",
    "                            #use_features_in_secondary=True,\n",
    "                            cv=10,\n",
    "                            random_state=1)\n",
    "sclf.fit(X_train, y_train)\n",
    "print(f\"Train Accuracy: {sclf.score(X_train, y_train)*100:0.3f}%\")\n",
    "print(f\"Test Accuracy: {sclf.score(X_test, y_test)*100:0.3f}%\")"
   ]
  },
  {
   "cell_type": "markdown",
   "id": "cf0d0ed2-e16a-4606-ae5b-ff4cfdf851d5",
   "metadata": {},
   "source": [
    "## Logistic Regression"
   ]
  },
  {
   "cell_type": "code",
   "execution_count": 179,
   "id": "e10cc906-d699-46a5-a5a0-27c4b2ef2b31",
   "metadata": {},
   "outputs": [
    {
     "name": "stdout",
     "output_type": "stream",
     "text": [
      "Train Accuracy: 92.281%\n",
      "Test Accuracy: 82.186%\n"
     ]
    }
   ],
   "source": [
    "lr = LogisticRegression(random_state=1, C=0.78, max_iter=10000)\n",
    "lr.fit(X_train, y_train)\n",
    "print(f\"Train Accuracy: {lr.score(X_train, y_train)*100:0.3f}%\")\n",
    "print(f\"Test Accuracy: {lr.score(X_test, y_test)*100:0.3f}%\")"
   ]
  },
  {
   "cell_type": "markdown",
   "id": "c0ee3cb0-d6c2-4ea9-b613-3f15af852dde",
   "metadata": {},
   "source": [
    "## Gradient Boost"
   ]
  },
  {
   "cell_type": "code",
   "execution_count": 38,
   "id": "38da5b22-6364-45a9-9201-a3e706bf8190",
   "metadata": {},
   "outputs": [
    {
     "name": "stdout",
     "output_type": "stream",
     "text": [
      "Train Accuracy: 79.613%\n",
      "Test Accuracy: 76.492%\n"
     ]
    }
   ],
   "source": [
    "from sklearn.ensemble import GradientBoostingClassifier\n",
    "boost = GradientBoostingClassifier(learning_rate=0.1, \n",
    "                                   n_estimators=100, \n",
    "                                   max_depth=9, \n",
    "                                   random_state=1)\n",
    "boost.fit(X_train, y_train)\n",
    "print(f\"Train Accuracy: {boost.score(X_train, y_train)*100:0.3f}%\")\n",
    "print(f\"Test Accuracy: {boost.score(X_test, y_test)*100:0.3f}%\")"
   ]
  },
  {
   "cell_type": "markdown",
   "id": "18a6cfd7-adfc-4190-9c45-d7b8da438b3e",
   "metadata": {},
   "source": [
    "## Bagging with Decision Tree"
   ]
  },
  {
   "cell_type": "code",
   "execution_count": 77,
   "id": "30768b89-82eb-4fb8-ab7a-5f645b99375b",
   "metadata": {
    "tags": []
   },
   "outputs": [
    {
     "name": "stdout",
     "output_type": "stream",
     "text": [
      "Train Accuracy: 74.167%\n",
      "Test Accuracy: 73.694%\n"
     ]
    }
   ],
   "source": [
    "from sklearn.ensemble import BaggingClassifier\n",
    "\n",
    "tree = DecisionTreeClassifier(random_state=1, criterion='gini', max_depth=10)\n",
    "bag = BaggingClassifier(base_estimator=tree,\n",
    "                        n_estimators=100,\n",
    "                        oob_score=True,\n",
    "                        bootstrap=True,\n",
    "                        bootstrap_features=False,\n",
    "                        n_jobs=1,\n",
    "                        random_state=1)\n",
    "bag.fit(X_train, y_train)\n",
    "print(f\"Train Accuracy: {bag.score(X_train, y_train)*100:0.3f}%\")\n",
    "print(f\"Test Accuracy: {bag.score(X_test, y_test)*100:0.3f}%\")"
   ]
  },
  {
   "cell_type": "markdown",
   "id": "8a89b779-bc77-4775-9d52-383455902f87",
   "metadata": {},
   "source": [
    "## Bagging with Logistic Regression"
   ]
  },
  {
   "cell_type": "code",
   "execution_count": 198,
   "id": "74ce6ef6-d7ad-48ab-98df-3eb62a34db2f",
   "metadata": {
    "tags": []
   },
   "outputs": [],
   "source": [
    "lr = LogisticRegression(random_state=1, C=0.78, max_iter = 10000)"
   ]
  },
  {
   "cell_type": "code",
   "execution_count": 199,
   "id": "ecf060fb-3d60-4abd-93b9-3eec8f84a64f",
   "metadata": {
    "tags": []
   },
   "outputs": [
    {
     "name": "stdout",
     "output_type": "stream",
     "text": [
      "Train Accuracy: 90.750%\n",
      "Test Accuracy: 81.716%\n"
     ]
    }
   ],
   "source": [
    "bag_lr_100 = BaggingClassifier(base_estimator=lr,\n",
    "                        n_estimators=100,\n",
    "                        oob_score=True,\n",
    "                        bootstrap=True,\n",
    "                        bootstrap_features=False,\n",
    "                        n_jobs=1,\n",
    "                        random_state=1)\n",
    "bag_lr_100.fit(X_train, y_train)\n",
    "print(f\"Train Accuracy: {bag_lr_100.score(X_train, y_train)*100:0.3f}%\")\n",
    "print(f\"Test Accuracy: {bag_lr_100.score(X_test, y_test)*100:0.3f}%\")"
   ]
  },
  {
   "cell_type": "code",
   "execution_count": null,
   "id": "e30ea3bc-3094-4476-a22a-af79a72cb0fa",
   "metadata": {},
   "outputs": [],
   "source": []
  }
 ],
 "metadata": {
  "kernelspec": {
   "display_name": "Python 3",
   "language": "python",
   "name": "python3"
  },
  "language_info": {
   "codemirror_mode": {
    "name": "ipython",
    "version": 3
   },
   "file_extension": ".py",
   "mimetype": "text/x-python",
   "name": "python",
   "nbconvert_exporter": "python",
   "pygments_lexer": "ipython3",
   "version": "3.8.8"
  }
 },
 "nbformat": 4,
 "nbformat_minor": 5
}
